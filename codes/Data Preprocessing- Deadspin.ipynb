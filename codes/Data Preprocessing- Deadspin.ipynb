{
 "cells": [
  {
   "cell_type": "code",
   "execution_count": 38,
   "metadata": {},
   "outputs": [],
   "source": [
    "import pandas as pd\n",
    "import numpy as np\n",
    "df = pd.read_csv(\"deadspin.csv\")"
   ]
  },
  {
   "cell_type": "code",
   "execution_count": 39,
   "metadata": {},
   "outputs": [
    {
     "data": {
      "text/html": [
       "<div>\n",
       "<style scoped>\n",
       "    .dataframe tbody tr th:only-of-type {\n",
       "        vertical-align: middle;\n",
       "    }\n",
       "\n",
       "    .dataframe tbody tr th {\n",
       "        vertical-align: top;\n",
       "    }\n",
       "\n",
       "    .dataframe thead th {\n",
       "        text-align: right;\n",
       "    }\n",
       "</style>\n",
       "<table border=\"1\" class=\"dataframe\">\n",
       "  <thead>\n",
       "    <tr style=\"text-align: right;\">\n",
       "      <th></th>\n",
       "      <th>Timestamp</th>\n",
       "      <th>Date Searched</th>\n",
       "      <th>State</th>\n",
       "      <th>County</th>\n",
       "      <th>City</th>\n",
       "      <th>Agency Name</th>\n",
       "      <th>Victim Name</th>\n",
       "      <th>Victim's Age</th>\n",
       "      <th>Victim's Gender</th>\n",
       "      <th>Race</th>\n",
       "      <th>...</th>\n",
       "      <th>Name of Officer or Officers</th>\n",
       "      <th>Shootings</th>\n",
       "      <th>Was the Shooting Justified?</th>\n",
       "      <th>Receive Updates?</th>\n",
       "      <th>Name</th>\n",
       "      <th>Email Address</th>\n",
       "      <th>Twitter</th>\n",
       "      <th>Date of Incident</th>\n",
       "      <th>Results Page Number</th>\n",
       "      <th>Unnamed: 26</th>\n",
       "    </tr>\n",
       "  </thead>\n",
       "  <tbody>\n",
       "    <tr>\n",
       "      <th>0</th>\n",
       "      <td>8/20/2014 12:06:49</td>\n",
       "      <td>10/15/1986</td>\n",
       "      <td>AZ - Arizona</td>\n",
       "      <td>maricopa</td>\n",
       "      <td>Phoenix</td>\n",
       "      <td>phoenix police</td>\n",
       "      <td>David Valenzuela</td>\n",
       "      <td>24.0</td>\n",
       "      <td>Male</td>\n",
       "      <td>NaN</td>\n",
       "      <td>...</td>\n",
       "      <td>NaN</td>\n",
       "      <td>NaN</td>\n",
       "      <td>NaN</td>\n",
       "      <td>NaN</td>\n",
       "      <td>NaN</td>\n",
       "      <td>NaN</td>\n",
       "      <td>NaN</td>\n",
       "      <td>NaN</td>\n",
       "      <td>NaN</td>\n",
       "      <td>NaN</td>\n",
       "    </tr>\n",
       "    <tr>\n",
       "      <th>1</th>\n",
       "      <td>8/20/2014 12:09:29</td>\n",
       "      <td>10/15/1986</td>\n",
       "      <td>TX - Texas</td>\n",
       "      <td>Guadalupe</td>\n",
       "      <td>cibolo</td>\n",
       "      <td>cibolo police department</td>\n",
       "      <td>Kennen Marksbury</td>\n",
       "      <td>41.0</td>\n",
       "      <td>Male</td>\n",
       "      <td>White</td>\n",
       "      <td>...</td>\n",
       "      <td>NaN</td>\n",
       "      <td>NaN</td>\n",
       "      <td>NaN</td>\n",
       "      <td>NaN</td>\n",
       "      <td>NaN</td>\n",
       "      <td>NaN</td>\n",
       "      <td>NaN</td>\n",
       "      <td>NaN</td>\n",
       "      <td>NaN</td>\n",
       "      <td>NaN</td>\n",
       "    </tr>\n",
       "    <tr>\n",
       "      <th>2</th>\n",
       "      <td>8/20/2014 12:11:57</td>\n",
       "      <td>10/15/1986</td>\n",
       "      <td>NJ - New Jersey</td>\n",
       "      <td>morris</td>\n",
       "      <td>Mountain lakes</td>\n",
       "      <td>Mountain Lakes PD</td>\n",
       "      <td>Leonardo Parera</td>\n",
       "      <td>39.0</td>\n",
       "      <td>Male</td>\n",
       "      <td>White</td>\n",
       "      <td>...</td>\n",
       "      <td>NaN</td>\n",
       "      <td>NaN</td>\n",
       "      <td>NaN</td>\n",
       "      <td>NaN</td>\n",
       "      <td>NaN</td>\n",
       "      <td>NaN</td>\n",
       "      <td>NaN</td>\n",
       "      <td>NaN</td>\n",
       "      <td>NaN</td>\n",
       "      <td>NaN</td>\n",
       "    </tr>\n",
       "    <tr>\n",
       "      <th>3</th>\n",
       "      <td>8/20/2014 13:06:16</td>\n",
       "      <td>7/15/1995</td>\n",
       "      <td>TX - Texas</td>\n",
       "      <td>Harris</td>\n",
       "      <td>Houston</td>\n",
       "      <td>Bellaire Police Department</td>\n",
       "      <td>Travis O'Neill Allen</td>\n",
       "      <td>15.0</td>\n",
       "      <td>Male</td>\n",
       "      <td>White</td>\n",
       "      <td>...</td>\n",
       "      <td>Michael Leal</td>\n",
       "      <td>NaN</td>\n",
       "      <td>NaN</td>\n",
       "      <td>NaN</td>\n",
       "      <td>NaN</td>\n",
       "      <td>NaN</td>\n",
       "      <td>NaN</td>\n",
       "      <td>NaN</td>\n",
       "      <td>NaN</td>\n",
       "      <td>NaN</td>\n",
       "    </tr>\n",
       "    <tr>\n",
       "      <th>4</th>\n",
       "      <td>8/20/2014 13:30:17</td>\n",
       "      <td>9/27/2003</td>\n",
       "      <td>OH - Ohio</td>\n",
       "      <td>Preble</td>\n",
       "      <td>West Alexandria</td>\n",
       "      <td>Preble County Emergency Services Unit</td>\n",
       "      <td>Clayton Helriggle</td>\n",
       "      <td>23.0</td>\n",
       "      <td>Male</td>\n",
       "      <td>White</td>\n",
       "      <td>...</td>\n",
       "      <td>Unknown</td>\n",
       "      <td>NaN</td>\n",
       "      <td>NaN</td>\n",
       "      <td>NaN</td>\n",
       "      <td>NaN</td>\n",
       "      <td>NaN</td>\n",
       "      <td>NaN</td>\n",
       "      <td>NaN</td>\n",
       "      <td>NaN</td>\n",
       "      <td>NaN</td>\n",
       "    </tr>\n",
       "    <tr>\n",
       "      <th>...</th>\n",
       "      <td>...</td>\n",
       "      <td>...</td>\n",
       "      <td>...</td>\n",
       "      <td>...</td>\n",
       "      <td>...</td>\n",
       "      <td>...</td>\n",
       "      <td>...</td>\n",
       "      <td>...</td>\n",
       "      <td>...</td>\n",
       "      <td>...</td>\n",
       "      <td>...</td>\n",
       "      <td>...</td>\n",
       "      <td>...</td>\n",
       "      <td>...</td>\n",
       "      <td>...</td>\n",
       "      <td>...</td>\n",
       "      <td>...</td>\n",
       "      <td>...</td>\n",
       "      <td>...</td>\n",
       "      <td>...</td>\n",
       "      <td>...</td>\n",
       "    </tr>\n",
       "    <tr>\n",
       "      <th>2212</th>\n",
       "      <td>6/5/2020 18:28:48</td>\n",
       "      <td>2/3/2012</td>\n",
       "      <td>FL - Florida</td>\n",
       "      <td>Miami-Dade</td>\n",
       "      <td>Homestead</td>\n",
       "      <td>Miami-Dade Police Department</td>\n",
       "      <td>Danny Cruz</td>\n",
       "      <td>16.0</td>\n",
       "      <td>Male</td>\n",
       "      <td>Unknown</td>\n",
       "      <td>...</td>\n",
       "      <td>NaN</td>\n",
       "      <td>Yes</td>\n",
       "      <td>2.0</td>\n",
       "      <td>Add me!</td>\n",
       "      <td>Helen McLendon</td>\n",
       "      <td>hmclendon@gmail.com</td>\n",
       "      <td>NaN</td>\n",
       "      <td>2/2/2012</td>\n",
       "      <td>1.0</td>\n",
       "      <td>Yes, mark this date as completed.</td>\n",
       "    </tr>\n",
       "    <tr>\n",
       "      <th>2213</th>\n",
       "      <td>6/8/2020 15:39:21</td>\n",
       "      <td>12/23/2020</td>\n",
       "      <td>DE - Delaware</td>\n",
       "      <td>Osaka</td>\n",
       "      <td>Tester City</td>\n",
       "      <td>Tester Police Department</td>\n",
       "      <td>John Terry</td>\n",
       "      <td>26.0</td>\n",
       "      <td>Male</td>\n",
       "      <td>White</td>\n",
       "      <td>...</td>\n",
       "      <td>Riley Patson</td>\n",
       "      <td>Yes</td>\n",
       "      <td>1.0</td>\n",
       "      <td>No thanks.</td>\n",
       "      <td>NaN</td>\n",
       "      <td>NaN</td>\n",
       "      <td>NaN</td>\n",
       "      <td>6/1/2020</td>\n",
       "      <td>1.0</td>\n",
       "      <td>No, I have an incident/more incidents to log.</td>\n",
       "    </tr>\n",
       "    <tr>\n",
       "      <th>2214</th>\n",
       "      <td>6/19/2020 14:00:27</td>\n",
       "      <td>11/11/2020</td>\n",
       "      <td>CT - Connecticut</td>\n",
       "      <td>Gillespiee</td>\n",
       "      <td>Conmouth</td>\n",
       "      <td>CPD</td>\n",
       "      <td>John</td>\n",
       "      <td>47.0</td>\n",
       "      <td>Male</td>\n",
       "      <td>White</td>\n",
       "      <td>...</td>\n",
       "      <td>Clemon Artie</td>\n",
       "      <td>No</td>\n",
       "      <td>3.0</td>\n",
       "      <td>No thanks.</td>\n",
       "      <td>NaN</td>\n",
       "      <td>NaN</td>\n",
       "      <td>NaN</td>\n",
       "      <td>2/2/2020</td>\n",
       "      <td>3.0</td>\n",
       "      <td>This is the first incident I am logging.</td>\n",
       "    </tr>\n",
       "    <tr>\n",
       "      <th>2215</th>\n",
       "      <td>6/23/2020 17:27:58</td>\n",
       "      <td>11/11/2020</td>\n",
       "      <td>CT - Connecticut</td>\n",
       "      <td>Gillespiee</td>\n",
       "      <td>Conmouth</td>\n",
       "      <td>CPD</td>\n",
       "      <td>John</td>\n",
       "      <td>47.0</td>\n",
       "      <td>Male</td>\n",
       "      <td>White</td>\n",
       "      <td>...</td>\n",
       "      <td>Clemon Artie</td>\n",
       "      <td>No</td>\n",
       "      <td>3.0</td>\n",
       "      <td>No thanks.</td>\n",
       "      <td>NaN</td>\n",
       "      <td>NaN</td>\n",
       "      <td>NaN</td>\n",
       "      <td>2/2/2020</td>\n",
       "      <td>3.0</td>\n",
       "      <td>This is the first incident I am logging.</td>\n",
       "    </tr>\n",
       "    <tr>\n",
       "      <th>2216</th>\n",
       "      <td>8/29/2020 8:47:03</td>\n",
       "      <td>8/29/2020</td>\n",
       "      <td>NaN</td>\n",
       "      <td>NaN</td>\n",
       "      <td>NaN</td>\n",
       "      <td>NaN</td>\n",
       "      <td>NaN</td>\n",
       "      <td>NaN</td>\n",
       "      <td>NaN</td>\n",
       "      <td>NaN</td>\n",
       "      <td>...</td>\n",
       "      <td>NaN</td>\n",
       "      <td>No</td>\n",
       "      <td>NaN</td>\n",
       "      <td>NaN</td>\n",
       "      <td>NaN</td>\n",
       "      <td>NaN</td>\n",
       "      <td>NaN</td>\n",
       "      <td>NaN</td>\n",
       "      <td>NaN</td>\n",
       "      <td>Yes, mark this date as completed.</td>\n",
       "    </tr>\n",
       "  </tbody>\n",
       "</table>\n",
       "<p>2217 rows × 27 columns</p>\n",
       "</div>"
      ],
      "text/plain": [
       "               Timestamp Date Searched             State      County  \\\n",
       "0     8/20/2014 12:06:49    10/15/1986      AZ - Arizona    maricopa   \n",
       "1     8/20/2014 12:09:29    10/15/1986        TX - Texas   Guadalupe   \n",
       "2     8/20/2014 12:11:57    10/15/1986   NJ - New Jersey      morris   \n",
       "3     8/20/2014 13:06:16     7/15/1995        TX - Texas      Harris   \n",
       "4     8/20/2014 13:30:17     9/27/2003         OH - Ohio      Preble   \n",
       "...                  ...           ...               ...         ...   \n",
       "2212   6/5/2020 18:28:48      2/3/2012      FL - Florida  Miami-Dade   \n",
       "2213   6/8/2020 15:39:21    12/23/2020     DE - Delaware       Osaka   \n",
       "2214  6/19/2020 14:00:27    11/11/2020  CT - Connecticut  Gillespiee   \n",
       "2215  6/23/2020 17:27:58    11/11/2020  CT - Connecticut  Gillespiee   \n",
       "2216   8/29/2020 8:47:03     8/29/2020               NaN         NaN   \n",
       "\n",
       "                 City                            Agency Name  \\\n",
       "0             Phoenix                         phoenix police   \n",
       "1              cibolo               cibolo police department   \n",
       "2      Mountain lakes                      Mountain Lakes PD   \n",
       "3             Houston             Bellaire Police Department   \n",
       "4     West Alexandria  Preble County Emergency Services Unit   \n",
       "...               ...                                    ...   \n",
       "2212        Homestead           Miami-Dade Police Department   \n",
       "2213      Tester City               Tester Police Department   \n",
       "2214         Conmouth                                    CPD   \n",
       "2215         Conmouth                                    CPD   \n",
       "2216              NaN                                    NaN   \n",
       "\n",
       "               Victim Name  Victim's Age Victim's Gender     Race  ...  \\\n",
       "0         David Valenzuela          24.0            Male      NaN  ...   \n",
       "1         Kennen Marksbury          41.0            Male    White  ...   \n",
       "2          Leonardo Parera          39.0            Male    White  ...   \n",
       "3     Travis O'Neill Allen          15.0            Male    White  ...   \n",
       "4        Clayton Helriggle          23.0            Male    White  ...   \n",
       "...                    ...           ...             ...      ...  ...   \n",
       "2212            Danny Cruz          16.0            Male  Unknown  ...   \n",
       "2213            John Terry          26.0            Male    White  ...   \n",
       "2214                  John          47.0            Male    White  ...   \n",
       "2215                  John          47.0            Male    White  ...   \n",
       "2216                   NaN           NaN             NaN      NaN  ...   \n",
       "\n",
       "     Name of Officer or Officers  Shootings Was the Shooting Justified?  \\\n",
       "0                            NaN        NaN                         NaN   \n",
       "1                            NaN        NaN                         NaN   \n",
       "2                            NaN        NaN                         NaN   \n",
       "3                   Michael Leal        NaN                         NaN   \n",
       "4                        Unknown        NaN                         NaN   \n",
       "...                          ...        ...                         ...   \n",
       "2212                         NaN        Yes                         2.0   \n",
       "2213                Riley Patson        Yes                         1.0   \n",
       "2214                Clemon Artie         No                         3.0   \n",
       "2215                Clemon Artie         No                         3.0   \n",
       "2216                         NaN         No                         NaN   \n",
       "\n",
       "     Receive Updates?            Name        Email Address Twitter  \\\n",
       "0                 NaN             NaN                  NaN     NaN   \n",
       "1                 NaN             NaN                  NaN     NaN   \n",
       "2                 NaN             NaN                  NaN     NaN   \n",
       "3                 NaN             NaN                  NaN     NaN   \n",
       "4                 NaN             NaN                  NaN     NaN   \n",
       "...               ...             ...                  ...     ...   \n",
       "2212          Add me!  Helen McLendon  hmclendon@gmail.com     NaN   \n",
       "2213       No thanks.             NaN                  NaN     NaN   \n",
       "2214       No thanks.             NaN                  NaN     NaN   \n",
       "2215       No thanks.             NaN                  NaN     NaN   \n",
       "2216              NaN             NaN                  NaN     NaN   \n",
       "\n",
       "     Date of Incident Results Page Number  \\\n",
       "0                 NaN                 NaN   \n",
       "1                 NaN                 NaN   \n",
       "2                 NaN                 NaN   \n",
       "3                 NaN                 NaN   \n",
       "4                 NaN                 NaN   \n",
       "...               ...                 ...   \n",
       "2212         2/2/2012                 1.0   \n",
       "2213         6/1/2020                 1.0   \n",
       "2214         2/2/2020                 3.0   \n",
       "2215         2/2/2020                 3.0   \n",
       "2216              NaN                 NaN   \n",
       "\n",
       "                                        Unnamed: 26  \n",
       "0                                               NaN  \n",
       "1                                               NaN  \n",
       "2                                               NaN  \n",
       "3                                               NaN  \n",
       "4                                               NaN  \n",
       "...                                             ...  \n",
       "2212              Yes, mark this date as completed.  \n",
       "2213  No, I have an incident/more incidents to log.  \n",
       "2214       This is the first incident I am logging.  \n",
       "2215       This is the first incident I am logging.  \n",
       "2216              Yes, mark this date as completed.  \n",
       "\n",
       "[2217 rows x 27 columns]"
      ]
     },
     "execution_count": 39,
     "metadata": {},
     "output_type": "execute_result"
    }
   ],
   "source": [
    "df"
   ]
  },
  {
   "cell_type": "code",
   "execution_count": 40,
   "metadata": {
    "scrolled": false
   },
   "outputs": [
    {
     "name": "stdout",
     "output_type": "stream",
     "text": [
      "<class 'pandas.core.frame.DataFrame'>\n",
      "RangeIndex: 2217 entries, 0 to 2216\n",
      "Data columns (total 27 columns):\n",
      " #   Column                       Non-Null Count  Dtype  \n",
      "---  ------                       --------------  -----  \n",
      " 0   Timestamp                    2217 non-null   object \n",
      " 1   Date Searched                2216 non-null   object \n",
      " 2   State                        1987 non-null   object \n",
      " 3   County                       1582 non-null   object \n",
      " 4   City                         1950 non-null   object \n",
      " 5   Agency Name                  1905 non-null   object \n",
      " 6   Victim Name                  1737 non-null   object \n",
      " 7   Victim's Age                 1674 non-null   float64\n",
      " 8   Victim's Gender              1987 non-null   object \n",
      " 9   Race                         1985 non-null   object \n",
      " 10  Hispanic or Latino Origin    1981 non-null   object \n",
      " 11  Shots Fired                  975 non-null    float64\n",
      " 12  Hit or Killed?               1987 non-null   object \n",
      " 13  Armed or Unarmed?            1987 non-null   object \n",
      " 14  Weapon                       1986 non-null   object \n",
      " 15  Summary                      1883 non-null   object \n",
      " 16  Source Link                  1987 non-null   object \n",
      " 17  Name of Officer or Officers  948 non-null    object \n",
      " 18  Shootings                    1844 non-null   object \n",
      " 19  Was the Shooting Justified?  1358 non-null   float64\n",
      " 20  Receive Updates?             1344 non-null   object \n",
      " 21  Name                         148 non-null    object \n",
      " 22  Email Address                183 non-null    object \n",
      " 23  Twitter                      64 non-null     object \n",
      " 24  Date of Incident             1018 non-null   object \n",
      " 25  Results Page Number          1018 non-null   float64\n",
      " 26  Unnamed: 26                  1173 non-null   object \n",
      "dtypes: float64(4), object(23)\n",
      "memory usage: 467.8+ KB\n"
     ]
    }
   ],
   "source": [
    "df.info()"
   ]
  },
  {
   "cell_type": "markdown",
   "metadata": {},
   "source": [
    "<h3>remove irrelevant columns"
   ]
  },
  {
   "cell_type": "code",
   "execution_count": 41,
   "metadata": {},
   "outputs": [],
   "source": [
    "df=df.drop(columns=['Armed or Unarmed?', 'Timestamp', 'Date Searched', 'County', 'City', 'Victim Name', 'Source Link', 'Name of Officer or Officers', 'Receive Updates?', 'Name', 'Email Address', 'Twitter', 'Date of Incident', 'Results Page Number', 'Shots Fired', 'Unnamed: 26'])\n"
   ]
  },
  {
   "cell_type": "code",
   "execution_count": 42,
   "metadata": {},
   "outputs": [],
   "source": [
    "df.rename(columns={'State':'state', 'Agency Name':'police_agency', \"Victim's Age\":'age', \"Victim's Gender\":'gender', 'Race':'race', 'Hispanic or Latino Origin':'hispanic', 'Hit or Killed?':'killed', 'Weapon':'weapon on victim', 'Summary':'description of event', 'Was the Shooting Justified?':'justified'}, inplace=True)\n"
   ]
  },
  {
   "cell_type": "markdown",
   "metadata": {},
   "source": [
    "<h3>keep only rows where individual was not killed"
   ]
  },
  {
   "cell_type": "code",
   "execution_count": 43,
   "metadata": {},
   "outputs": [],
   "source": [
    "df=df[df.killed=='Hit']"
   ]
  },
  {
   "cell_type": "markdown",
   "metadata": {},
   "source": [
    "<h3>clean 'state' col"
   ]
  },
  {
   "cell_type": "code",
   "execution_count": 44,
   "metadata": {
    "scrolled": false
   },
   "outputs": [
    {
     "data": {
      "text/plain": [
       "array(['CA - California', 'IL - Illinois', 'IN - Indiana', 'GA - Georgia',\n",
       "       'MA - Massachusetts', 'PA - Pennsylvania', 'IA - Iowa',\n",
       "       'AR - Arkansas', 'DC - District of Columbia', 'LA - Louisiana',\n",
       "       'NY - New York', 'OH - Ohio', 'FL - Florida', 'TX - Texas',\n",
       "       'WY - Wyoming', 'NC - North Carolina', 'KS - Kansas',\n",
       "       'NH - New Hampshire', 'ME - Maine', 'MT - Montana',\n",
       "       'TN - Tennessee', 'MD - Maryland', 'VA - Virginia',\n",
       "       'CT - Connecticut', 'OR - Oregon', 'WA - Washington',\n",
       "       'SC - South Carolina', 'NJ - New Jersey', 'AK - Alaska',\n",
       "       'UT - Utah', 'KY - Kentucky', 'NM - New Mexico', 'NV - Nevada',\n",
       "       'SD - South Dakota', 'WI - Wisconsin', 'MI - Michigan',\n",
       "       'AL - Alabama', 'OK - Oklahoma', 'CO - Colorado', 'MO - Missouri',\n",
       "       'HI - Hawaii', 'WV - West Virginia', 'AZ - Arizona',\n",
       "       'RI - Rhode Island', 'MN - Minnesota', 'DE - Delaware',\n",
       "       'ID - Idaho'], dtype=object)"
      ]
     },
     "execution_count": 44,
     "metadata": {},
     "output_type": "execute_result"
    }
   ],
   "source": [
    "df['state'].unique()"
   ]
  },
  {
   "cell_type": "code",
   "execution_count": 45,
   "metadata": {},
   "outputs": [],
   "source": [
    "def get_abbrev(string):\n",
    "    return string.split('-')[0].strip()\n",
    "    "
   ]
  },
  {
   "cell_type": "code",
   "execution_count": 46,
   "metadata": {},
   "outputs": [],
   "source": [
    "df['state'] = df.state.apply(lambda x: get_abbrev(x))"
   ]
  },
  {
   "cell_type": "markdown",
   "metadata": {},
   "source": [
    "<h3>clean 'justified' col</h3>\n",
    "we take the numbers 1 & 2 to mean unjustified, and 3 & 4 & 5 to mean justified"
   ]
  },
  {
   "cell_type": "code",
   "execution_count": 47,
   "metadata": {},
   "outputs": [
    {
     "data": {
      "text/plain": [
       "array([nan,  2.,  5.,  1.,  4.,  3.])"
      ]
     },
     "execution_count": 47,
     "metadata": {},
     "output_type": "execute_result"
    }
   ],
   "source": [
    "df['justified'].unique()"
   ]
  },
  {
   "cell_type": "code",
   "execution_count": 48,
   "metadata": {},
   "outputs": [],
   "source": [
    "df['justified'].replace([1, 2], 0, inplace=True)"
   ]
  },
  {
   "cell_type": "code",
   "execution_count": 49,
   "metadata": {},
   "outputs": [],
   "source": [
    "df['justified'].replace([3, 4, 5], 1, inplace=True)"
   ]
  },
  {
   "cell_type": "markdown",
   "metadata": {},
   "source": [
    "<h3>clean 'race' col</h3>\n",
    "use 'hispanic' col to populate it"
   ]
  },
  {
   "cell_type": "code",
   "execution_count": 50,
   "metadata": {},
   "outputs": [
    {
     "data": {
      "text/plain": [
       "array(['Unknown', 'White', 'Black or African American', 'Asian',\n",
       "       'American Indian or Alaska Native'], dtype=object)"
      ]
     },
     "execution_count": 50,
     "metadata": {},
     "output_type": "execute_result"
    }
   ],
   "source": [
    "df['race'].unique()"
   ]
  },
  {
   "cell_type": "code",
   "execution_count": 51,
   "metadata": {},
   "outputs": [],
   "source": [
    "df['race'].replace('Black or African American', 'Black', inplace=True)\n",
    "df['race'].replace('American Indian or Alaska Native', 'Native American', inplace=True)\n",
    "df['race'].replace('Unknown', np.nan, inplace=True)\n",
    "\n"
   ]
  },
  {
   "cell_type": "code",
   "execution_count": 52,
   "metadata": {},
   "outputs": [],
   "source": [
    "df['race'] = np.where(df['hispanic'] == 'Hispanic or Latino origin', 'Hispanic', df['race'])"
   ]
  },
  {
   "cell_type": "code",
   "execution_count": 53,
   "metadata": {},
   "outputs": [],
   "source": [
    "df.drop('hispanic', axis = 'columns', inplace = True)  #drop col bc we dont need it anymore"
   ]
  },
  {
   "cell_type": "markdown",
   "metadata": {},
   "source": [
    "<h3>clean 'gender' col</h3>\n",
    "male=1, female=0"
   ]
  },
  {
   "cell_type": "code",
   "execution_count": 54,
   "metadata": {},
   "outputs": [],
   "source": [
    "df['male'] = np.where(df['gender'] == 'Male', 1, \n",
    "                       np.where(df['gender'] == 'Female', 0, np.nan))"
   ]
  },
  {
   "cell_type": "code",
   "execution_count": 55,
   "metadata": {},
   "outputs": [],
   "source": [
    "df.drop('gender', axis = 'columns', inplace = True)  #drop col bc we dont need it anymore"
   ]
  },
  {
   "cell_type": "markdown",
   "metadata": {},
   "source": [
    "<h3>clean 'killed' col</h3>\n",
    "shows whether an indiv is killed. all indivs here are NOT killed, so we replace all values in this col with 0"
   ]
  },
  {
   "cell_type": "code",
   "execution_count": 56,
   "metadata": {},
   "outputs": [],
   "source": [
    "df['killed'] = 0"
   ]
  },
  {
   "cell_type": "markdown",
   "metadata": {},
   "source": [
    "<h3>use 'weapon' col to create new cols</h3>"
   ]
  },
  {
   "cell_type": "code",
   "execution_count": 57,
   "metadata": {},
   "outputs": [
    {
     "data": {
      "text/plain": [
       "weapon on victim\n",
       "Handgun                                                                                                                 162\n",
       "Unarmed                                                                                                                 122\n",
       "Unknown                                                                                                                  60\n",
       "Firearm; not stated                                                                                                      55\n",
       "Knife or cutting instrument                                                                                              49\n",
       "Vehicle                                                                                                                  25\n",
       "Rifle                                                                                                                    18\n",
       "Shotgun                                                                                                                  15\n",
       "Toy/fake/non-lethal gun                                                                                                  13\n",
       "car                                                                                                                       7\n",
       "Other Gun                                                                                                                 6\n",
       "Personal weapon (hands, fists, feet, etc.)                                                                                5\n",
       "Car                                                                                                                       5\n",
       "Blunt object (clubs, hammers, etc.)                                                                                       4\n",
       "Car?                                                                                                                      3\n",
       "vehicle                                                                                                                   2\n",
       "Bottle of Bleach                                                                                                          1\n",
       "DWI, Intoxicated, Belligerent                                                                                             1\n",
       "Automobile                                                                                                                1\n",
       "Assault Rifle                                                                                                             1\n",
       "Driving a car                                                                                                             1\n",
       "A revolver and semi-automatic pistol                                                                                      1\n",
       "9-pound rock                                                                                                              1\n",
       "Golf Cart                                                                                                                 1\n",
       "Passenger in Automobile                                                                                                   1\n",
       "My weapon was found in my truck that Michael Butlin was in when he was shot at by the deputies trying to surrender..      1\n",
       "Object picked up from the road                                                                                            1\n",
       "shotgun, knife and pipe bombs                                                                                             1\n",
       "Rock                                                                                                                      1\n",
       "Scissors                                                                                                                  1\n",
       "UNARMED                                                                                                                   1\n",
       "Unarmed, but reaching for cane                                                                                            1\n",
       "Unidentified Gun                                                                                                          1\n",
       "Weapons were pointed                                                                                                      1\n",
       "many guns                                                                                                                 1\n",
       "pellet gun                                                                                                                1\n",
       "replica of a semi-automatic handgun                                                                                       1\n",
       " car                                                                                                                      1\n",
       "dtype: int64"
      ]
     },
     "execution_count": 57,
     "metadata": {},
     "output_type": "execute_result"
    }
   ],
   "source": [
    "df.groupby('weapon on victim').size().sort_values(ascending=False)"
   ]
  },
  {
   "cell_type": "markdown",
   "metadata": {},
   "source": [
    "<b>1) create new col, 'armed_with_gun'"
   ]
  },
  {
   "cell_type": "code",
   "execution_count": 58,
   "metadata": {},
   "outputs": [],
   "source": [
    "def armed_with_gun(x):\n",
    "    if ('gun' in x) or ('pistol' in x) or ('Rifle' in x) or ('Gun' in x) or ('revolver' in x) or ('Firearm' in x):\n",
    "        return 1\n",
    "    else:\n",
    "        return 0\n"
   ]
  },
  {
   "cell_type": "code",
   "execution_count": 59,
   "metadata": {},
   "outputs": [],
   "source": [
    "df['armed_with_gun'] = df['weapon on victim'].apply(lambda x: armed_with_gun(x))"
   ]
  },
  {
   "cell_type": "markdown",
   "metadata": {},
   "source": [
    "<b>2) create new col, 'armed_with_knife'"
   ]
  },
  {
   "cell_type": "code",
   "execution_count": 60,
   "metadata": {},
   "outputs": [],
   "source": [
    "def armed_with_knife(x):\n",
    "    if ('knife' in x) or ('Knife' in x) or ('cleaver' in x) or ('Scissors' in x):\n",
    "        return 1\n",
    "    else:\n",
    "        return 0\n"
   ]
  },
  {
   "cell_type": "code",
   "execution_count": 61,
   "metadata": {},
   "outputs": [],
   "source": [
    "df['armed_with_knife'] = df['weapon on victim'].apply(lambda x: armed_with_knife(x))"
   ]
  },
  {
   "cell_type": "markdown",
   "metadata": {},
   "source": [
    "<b>3) create new col, 'vehicle_involved'"
   ]
  },
  {
   "cell_type": "code",
   "execution_count": 62,
   "metadata": {},
   "outputs": [],
   "source": [
    "def vehicle_involved(x):\n",
    "    x = x.lower()\n",
    "    if ('vehicle' in x) or ('car' in x) or ('automobile' in x):\n",
    "        return 1\n",
    "    else:\n",
    "        return 0\n"
   ]
  },
  {
   "cell_type": "code",
   "execution_count": 63,
   "metadata": {},
   "outputs": [],
   "source": [
    "df['vehicle_involved'] = df['weapon on victim'].apply(lambda x: vehicle_involved(x))"
   ]
  },
  {
   "cell_type": "markdown",
   "metadata": {},
   "source": [
    "<h3>use 'description of event' col to populate other cols</h3>"
   ]
  },
  {
   "cell_type": "markdown",
   "metadata": {},
   "source": [
    "<b>1) create new col, 'home_involved', which shows whether the victim interacted with the police near/ at his residence\n"
   ]
  },
  {
   "cell_type": "code",
   "execution_count": 64,
   "metadata": {},
   "outputs": [],
   "source": [
    "matches = ['home', 'house', 'domestic', 'apartment ', 'family', 'residence', 'complex', 'neighbor', \n",
    "'wife', 'mother', 'girlfriend', 'son', 'father', 'children', 'neighbors', 'husband', 'bedroom', 'brother', 'daughter', 'residential']\n",
    "\n",
    "from nltk import word_tokenize\n",
    "home_involved = []\n",
    "for index in df.index:\n",
    "    row = df.loc[index]\n",
    "    if row['description of event'] is not np.nan:\n",
    "        lis = word_tokenize(row['description of event'].lower())\n",
    "        if any(x in lis for x in matches):\n",
    "            home_involved.append(1)\n",
    "        else:\n",
    "            home_involved.append(0)\n",
    "    else:\n",
    "        home_involved.append(np.nan)\n",
    "\n",
    "df['home_involved'] = home_involved\n"
   ]
  },
  {
   "cell_type": "markdown",
   "metadata": {},
   "source": [
    "<b>2) populate existing col, 'vehicle_involved', which shows whether the victim was in a vehicle when he interacted with the police\n"
   ]
  },
  {
   "cell_type": "code",
   "execution_count": 65,
   "metadata": {},
   "outputs": [
    {
     "data": {
      "text/plain": [
       "vehicle_involved\n",
       "0    526\n",
       "1     47\n",
       "dtype: int64"
      ]
     },
     "execution_count": 65,
     "metadata": {},
     "output_type": "execute_result"
    }
   ],
   "source": [
    "df.groupby('vehicle_involved').size()"
   ]
  },
  {
   "cell_type": "code",
   "execution_count": 66,
   "metadata": {},
   "outputs": [
    {
     "name": "stderr",
     "output_type": "stream",
     "text": [
      "/Users/sheila/opt/anaconda3/lib/python3.8/site-packages/pandas/core/indexing.py:671: SettingWithCopyWarning: \n",
      "A value is trying to be set on a copy of a slice from a DataFrame\n",
      "\n",
      "See the caveats in the documentation: https://pandas.pydata.org/pandas-docs/stable/user_guide/indexing.html#returning-a-view-versus-a-copy\n",
      "  self._setitem_with_indexer(indexer, value)\n",
      "<ipython-input-66-1adf1e500cae>:10: SettingWithCopyWarning: \n",
      "A value is trying to be set on a copy of a slice from a DataFrame\n",
      "\n",
      "See the caveats in the documentation: https://pandas.pydata.org/pandas-docs/stable/user_guide/indexing.html#returning-a-view-versus-a-copy\n",
      "  row.loc['vehicle_involved'] = 1.0  #row is now changed but df is not yet changed\n"
     ]
    }
   ],
   "source": [
    "matches = ['vehicle', 'car', 'driver', 'traffic', 'driving', 'parking', 'lot', 'truck', 'drove', 'crashed', 'road', 'passenger', 'highway', 'vehicles', 'cars', 'drive', 'rammed', 'parked', 'carjacking', 'driven']\n",
    "\n",
    "from nltk import word_tokenize\n",
    "vehicle_involved = []\n",
    "for index in df.index:\n",
    "    row = df.loc[index]\n",
    "    if row['description of event'] is not np.nan and row['vehicle_involved'] == 0:\n",
    "            lis = word_tokenize(row['description of event'].lower())\n",
    "            if any(x in lis for x in matches):\n",
    "                row.loc['vehicle_involved'] = 1.0  #row is now changed but df is not yet changed\n",
    "                df.loc[index] = row  #change df in-place\n"
   ]
  },
  {
   "cell_type": "markdown",
   "metadata": {},
   "source": [
    "<b>3) create new col, 'was_fleeing'"
   ]
  },
  {
   "cell_type": "code",
   "execution_count": 67,
   "metadata": {},
   "outputs": [],
   "source": [
    "matches = ['fled', 'ran', 'pursuit', 'chased', 'pursued', 'run', 'flee', 'running', 'fleeing', 'pursuing', 'escape']\n",
    "\n",
    "was_fleeing = []\n",
    "from nltk import word_tokenize\n",
    "for index in df.index:\n",
    "    row = df.loc[index]\n",
    "    if row['description of event'] is not np.nan:\n",
    "        lis = word_tokenize(row['description of event'].lower())\n",
    "        if any(x in lis for x in matches):\n",
    "            was_fleeing.append(1)\n",
    "        else:\n",
    "            was_fleeing.append(0)\n",
    "    else:\n",
    "        was_fleeing.append(np.nan)\n",
    "\n",
    "df['was_fleeing'] = was_fleeing\n"
   ]
  },
  {
   "cell_type": "markdown",
   "metadata": {},
   "source": [
    "<b>4) create new col, 'shooting_involved'"
   ]
  },
  {
   "cell_type": "code",
   "execution_count": 68,
   "metadata": {},
   "outputs": [
    {
     "data": {
      "text/plain": [
       "array([nan, 'Yes', 'No'], dtype=object)"
      ]
     },
     "execution_count": 68,
     "metadata": {},
     "output_type": "execute_result"
    }
   ],
   "source": [
    "df['Shootings'].unique()"
   ]
  },
  {
   "cell_type": "code",
   "execution_count": 69,
   "metadata": {},
   "outputs": [],
   "source": [
    "df['shooting_involved'] = np.where(df['Shootings'] == 'Yes', 1,\n",
    "                                  np.where(df['Shootings'] == 'No', 0, np.nan))"
   ]
  },
  {
   "cell_type": "code",
   "execution_count": 70,
   "metadata": {},
   "outputs": [
    {
     "name": "stderr",
     "output_type": "stream",
     "text": [
      "<ipython-input-70-a89aa5637e83>:12: SettingWithCopyWarning: \n",
      "A value is trying to be set on a copy of a slice from a DataFrame\n",
      "\n",
      "See the caveats in the documentation: https://pandas.pydata.org/pandas-docs/stable/user_guide/indexing.html#returning-a-view-versus-a-copy\n",
      "  row.loc['shooting_involved'] = 1\n"
     ]
    }
   ],
   "source": [
    "#use 'description of event' col to populate the NAs in 'shooting_involved'\n",
    "\n",
    "matches = ['shot','fired','hit','shooting','gun','shots','injuries','weapon','armed','gunshot','bullet','handgun','gunfire','firing','firearm','shotgun']\n",
    "\n",
    "from nltk import word_tokenize\n",
    "\n",
    "for index in df.index:\n",
    "    row = df.loc[index]\n",
    "    if row['description of event'] is not np.nan and row['shooting_involved'] != 1:\n",
    "        lis = word_tokenize(row['description of event'].lower())\n",
    "        if any(x in lis for x in matches):\n",
    "            row.loc['shooting_involved'] = 1\n",
    "            df.loc[index] = row"
   ]
  },
  {
   "cell_type": "code",
   "execution_count": 71,
   "metadata": {},
   "outputs": [],
   "source": [
    "#remove col bc no need anymore\n",
    "\n",
    "df.drop('Shootings', axis = 'columns', inplace = True)"
   ]
  },
  {
   "cell_type": "markdown",
   "metadata": {},
   "source": [
    "<b>4) create new col, 'taser_involved'"
   ]
  },
  {
   "cell_type": "code",
   "execution_count": 72,
   "metadata": {},
   "outputs": [],
   "source": [
    "from nltk import word_tokenize\n",
    "\n",
    "taser_involved = []\n",
    "for index in df.index:\n",
    "    row = df.loc[index]\n",
    "    if row['description of event'] is not np.nan:\n",
    "        lis = word_tokenize(row['description of event'].lower())\n",
    "        if any('taser' in word for word in lis):\n",
    "            taser_involved.append(1)\n",
    "        else:\n",
    "            taser_involved.append(0)\n",
    "    else:\n",
    "        taser_involved.append(np.nan)\n",
    "            \n",
    "df['taser_involved'] = taser_involved"
   ]
  },
  {
   "cell_type": "markdown",
   "metadata": {},
   "source": [
    "<b>4) create new col, 'physical_violence_involved'"
   ]
  },
  {
   "cell_type": "code",
   "execution_count": 73,
   "metadata": {},
   "outputs": [],
   "source": [
    "from nltk import word_tokenize\n",
    "\n",
    "matches = ['asphyxiated', 'restraint', 'beat', 'punch', 'kick']\n",
    "\n",
    "physical_violence_involved = []\n",
    "from nltk import word_tokenize\n",
    "for index in df.index:\n",
    "    row = df.loc[index]\n",
    "    if row['description of event'] is not np.nan:\n",
    "        lis = word_tokenize(row['description of event'].lower())\n",
    "        if any(x in lis for x in matches):\n",
    "            physical_violence_involved.append(1)\n",
    "        else:\n",
    "            physical_violence_involved.append(0)\n",
    "    else:\n",
    "        physical_violence_involved.append(np.nan)\n",
    "\n",
    "df['physical_violence_involved'] = physical_violence_involved\n"
   ]
  },
  {
   "cell_type": "markdown",
   "metadata": {},
   "source": [
    "<h3>export cleaned dataset"
   ]
  },
  {
   "cell_type": "code",
   "execution_count": 74,
   "metadata": {},
   "outputs": [],
   "source": [
    "df.to_csv('cleaned_dataset_not_killed.csv', index=False)"
   ]
  },
  {
   "cell_type": "code",
   "execution_count": null,
   "metadata": {},
   "outputs": [],
   "source": []
  }
 ],
 "metadata": {
  "kernelspec": {
   "display_name": "Python 3",
   "language": "python",
   "name": "python3"
  },
  "language_info": {
   "codemirror_mode": {
    "name": "ipython",
    "version": 3
   },
   "file_extension": ".py",
   "mimetype": "text/x-python",
   "name": "python",
   "nbconvert_exporter": "python",
   "pygments_lexer": "ipython3",
   "version": "3.8.8"
  }
 },
 "nbformat": 4,
 "nbformat_minor": 4
}
