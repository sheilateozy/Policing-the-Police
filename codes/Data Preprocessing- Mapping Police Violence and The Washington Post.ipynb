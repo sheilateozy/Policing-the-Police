{
 "cells": [
  {
   "cell_type": "code",
   "execution_count": 67,
   "metadata": {},
   "outputs": [],
   "source": [
    "import pandas as pd\n",
    "import numpy as np\n",
    "import matplotlib.pyplot as plt\n",
    "%matplotlib inline "
   ]
  },
  {
   "cell_type": "markdown",
   "metadata": {},
   "source": [
    "<h1>Dataset 1: Data Cleaning</h1>\n",
    "<h3>Mapping Police Violence's Dataset</h3>\n",
    "https://mappingpoliceviolence.org/aboutthedata"
   ]
  },
  {
   "cell_type": "code",
   "execution_count": 68,
   "metadata": {},
   "outputs": [],
   "source": [
    "df1 = pd.read_excel('mapping police violence.xlsx')"
   ]
  },
  {
   "cell_type": "code",
   "execution_count": 69,
   "metadata": {
    "scrolled": true
   },
   "outputs": [
    {
     "data": {
      "text/html": [
       "<div>\n",
       "<style scoped>\n",
       "    .dataframe tbody tr th:only-of-type {\n",
       "        vertical-align: middle;\n",
       "    }\n",
       "\n",
       "    .dataframe tbody tr th {\n",
       "        vertical-align: top;\n",
       "    }\n",
       "\n",
       "    .dataframe thead th {\n",
       "        text-align: right;\n",
       "    }\n",
       "</style>\n",
       "<table border=\"1\" class=\"dataframe\">\n",
       "  <thead>\n",
       "    <tr style=\"text-align: right;\">\n",
       "      <th></th>\n",
       "      <th>Victim's name</th>\n",
       "      <th>Victim's age</th>\n",
       "      <th>Victim's gender</th>\n",
       "      <th>Victim's race</th>\n",
       "      <th>URL of image of victim</th>\n",
       "      <th>Date of Incident (month/day/year)</th>\n",
       "      <th>Street Address of Incident</th>\n",
       "      <th>City</th>\n",
       "      <th>State</th>\n",
       "      <th>Zipcode</th>\n",
       "      <th>...</th>\n",
       "      <th>Unarmed/Did Not Have an Actual Weapon</th>\n",
       "      <th>Alleged Weapon (Source: WaPo and Review of Cases Not Included in WaPo Database)</th>\n",
       "      <th>Alleged Threat Level (Source: WaPo)</th>\n",
       "      <th>Fleeing (Source: WaPo)</th>\n",
       "      <th>Body Camera (Source: WaPo)</th>\n",
       "      <th>WaPo ID (If included in WaPo database)</th>\n",
       "      <th>Off-Duty Killing?</th>\n",
       "      <th>Geography (via Trulia methodology based on zipcode population density: http://jedkolko.com/wp-content/uploads/2015/05/full-ZCTA-urban-suburban-rural-classification.xlsx )</th>\n",
       "      <th>MPV ID</th>\n",
       "      <th>Fatal Encounters ID</th>\n",
       "    </tr>\n",
       "  </thead>\n",
       "  <tbody>\n",
       "    <tr>\n",
       "      <th>0</th>\n",
       "      <td>Pedro Martinez</td>\n",
       "      <td>66</td>\n",
       "      <td>Male</td>\n",
       "      <td>Hispanic</td>\n",
       "      <td>NaN</td>\n",
       "      <td>2020-11-18</td>\n",
       "      <td>NaN</td>\n",
       "      <td>Tyler</td>\n",
       "      <td>TX</td>\n",
       "      <td>NaN</td>\n",
       "      <td>...</td>\n",
       "      <td>Allegedly Armed</td>\n",
       "      <td>unknown weapon</td>\n",
       "      <td>other</td>\n",
       "      <td>not fleeing</td>\n",
       "      <td>no</td>\n",
       "      <td>6321.0</td>\n",
       "      <td>NaN</td>\n",
       "      <td>NaN</td>\n",
       "      <td>NaN</td>\n",
       "      <td>NaN</td>\n",
       "    </tr>\n",
       "    <tr>\n",
       "      <th>1</th>\n",
       "      <td>James Horton</td>\n",
       "      <td>42</td>\n",
       "      <td>Male</td>\n",
       "      <td>NaN</td>\n",
       "      <td>NaN</td>\n",
       "      <td>2020-11-17</td>\n",
       "      <td>NaN</td>\n",
       "      <td>Hart County</td>\n",
       "      <td>KY</td>\n",
       "      <td>NaN</td>\n",
       "      <td>...</td>\n",
       "      <td>Allegedly Armed</td>\n",
       "      <td>gun</td>\n",
       "      <td>attack</td>\n",
       "      <td>other</td>\n",
       "      <td>no</td>\n",
       "      <td>6322.0</td>\n",
       "      <td>NaN</td>\n",
       "      <td>NaN</td>\n",
       "      <td>NaN</td>\n",
       "      <td>NaN</td>\n",
       "    </tr>\n",
       "    <tr>\n",
       "      <th>2</th>\n",
       "      <td>Dustin James Acosta</td>\n",
       "      <td>28</td>\n",
       "      <td>Male</td>\n",
       "      <td>White</td>\n",
       "      <td>NaN</td>\n",
       "      <td>2020-11-17</td>\n",
       "      <td>NaN</td>\n",
       "      <td>St. Augustine</td>\n",
       "      <td>FL</td>\n",
       "      <td>NaN</td>\n",
       "      <td>...</td>\n",
       "      <td>Allegedly Armed</td>\n",
       "      <td>gun</td>\n",
       "      <td>attack</td>\n",
       "      <td>NaN</td>\n",
       "      <td>No</td>\n",
       "      <td>6320.0</td>\n",
       "      <td>NaN</td>\n",
       "      <td>NaN</td>\n",
       "      <td>NaN</td>\n",
       "      <td>NaN</td>\n",
       "    </tr>\n",
       "    <tr>\n",
       "      <th>3</th>\n",
       "      <td>Javon Brice</td>\n",
       "      <td>39</td>\n",
       "      <td>Male</td>\n",
       "      <td>NaN</td>\n",
       "      <td>NaN</td>\n",
       "      <td>2020-11-17</td>\n",
       "      <td>NaN</td>\n",
       "      <td>La Vergne</td>\n",
       "      <td>TN</td>\n",
       "      <td>NaN</td>\n",
       "      <td>...</td>\n",
       "      <td>Allegedly Armed</td>\n",
       "      <td>gun</td>\n",
       "      <td>attack</td>\n",
       "      <td>car</td>\n",
       "      <td>no</td>\n",
       "      <td>6319.0</td>\n",
       "      <td>NaN</td>\n",
       "      <td>NaN</td>\n",
       "      <td>NaN</td>\n",
       "      <td>NaN</td>\n",
       "    </tr>\n",
       "    <tr>\n",
       "      <th>4</th>\n",
       "      <td>Joshua D. Evans</td>\n",
       "      <td>32</td>\n",
       "      <td>Male</td>\n",
       "      <td>NaN</td>\n",
       "      <td>NaN</td>\n",
       "      <td>2020-11-16</td>\n",
       "      <td>NaN</td>\n",
       "      <td>Batesville</td>\n",
       "      <td>IN</td>\n",
       "      <td>NaN</td>\n",
       "      <td>...</td>\n",
       "      <td>Allegedly Armed</td>\n",
       "      <td>gun</td>\n",
       "      <td>attack</td>\n",
       "      <td>not fleeing</td>\n",
       "      <td>no</td>\n",
       "      <td>6314.0</td>\n",
       "      <td>NaN</td>\n",
       "      <td>NaN</td>\n",
       "      <td>NaN</td>\n",
       "      <td>NaN</td>\n",
       "    </tr>\n",
       "    <tr>\n",
       "      <th>...</th>\n",
       "      <td>...</td>\n",
       "      <td>...</td>\n",
       "      <td>...</td>\n",
       "      <td>...</td>\n",
       "      <td>...</td>\n",
       "      <td>...</td>\n",
       "      <td>...</td>\n",
       "      <td>...</td>\n",
       "      <td>...</td>\n",
       "      <td>...</td>\n",
       "      <td>...</td>\n",
       "      <td>...</td>\n",
       "      <td>...</td>\n",
       "      <td>...</td>\n",
       "      <td>...</td>\n",
       "      <td>...</td>\n",
       "      <td>...</td>\n",
       "      <td>...</td>\n",
       "      <td>...</td>\n",
       "      <td>...</td>\n",
       "      <td>...</td>\n",
       "    </tr>\n",
       "    <tr>\n",
       "      <th>8623</th>\n",
       "      <td>Mark Chavez</td>\n",
       "      <td>49</td>\n",
       "      <td>Male</td>\n",
       "      <td>Hispanic</td>\n",
       "      <td>http://www.tricitytribuneusa.com/wp-content/up...</td>\n",
       "      <td>2013-01-01</td>\n",
       "      <td>912 Loma Linda Ave.</td>\n",
       "      <td>Farmington</td>\n",
       "      <td>NM</td>\n",
       "      <td>87401.0</td>\n",
       "      <td>...</td>\n",
       "      <td>Allegedly Armed</td>\n",
       "      <td>blunt weapon</td>\n",
       "      <td>NaN</td>\n",
       "      <td>NaN</td>\n",
       "      <td>NaN</td>\n",
       "      <td>NaN</td>\n",
       "      <td>NaN</td>\n",
       "      <td>Urban</td>\n",
       "      <td>1.0</td>\n",
       "      <td>12175.0</td>\n",
       "    </tr>\n",
       "    <tr>\n",
       "      <th>8624</th>\n",
       "      <td>Tyree Bell</td>\n",
       "      <td>31</td>\n",
       "      <td>Male</td>\n",
       "      <td>Black</td>\n",
       "      <td>http://content.omaha.com/media/maps/ps/2013/ja...</td>\n",
       "      <td>2013-01-01</td>\n",
       "      <td>3727 N. 42nd St.</td>\n",
       "      <td>Omaha</td>\n",
       "      <td>NE</td>\n",
       "      <td>68111.0</td>\n",
       "      <td>...</td>\n",
       "      <td>Allegedly Armed</td>\n",
       "      <td>gun</td>\n",
       "      <td>NaN</td>\n",
       "      <td>NaN</td>\n",
       "      <td>NaN</td>\n",
       "      <td>NaN</td>\n",
       "      <td>NaN</td>\n",
       "      <td>Urban</td>\n",
       "      <td>2.0</td>\n",
       "      <td>12173.0</td>\n",
       "    </tr>\n",
       "    <tr>\n",
       "      <th>8625</th>\n",
       "      <td>Christopher Tavares</td>\n",
       "      <td>21</td>\n",
       "      <td>Male</td>\n",
       "      <td>Hispanic</td>\n",
       "      <td>http://www.krdo.com/image/view/-/17980228/medR...</td>\n",
       "      <td>2013-01-01</td>\n",
       "      <td>Highway 50 and North Elizabeth Street</td>\n",
       "      <td>Pueblo</td>\n",
       "      <td>CO</td>\n",
       "      <td>81008.0</td>\n",
       "      <td>...</td>\n",
       "      <td>Allegedly Armed</td>\n",
       "      <td>gun</td>\n",
       "      <td>NaN</td>\n",
       "      <td>NaN</td>\n",
       "      <td>NaN</td>\n",
       "      <td>NaN</td>\n",
       "      <td>NaN</td>\n",
       "      <td>Suburban</td>\n",
       "      <td>4.0</td>\n",
       "      <td>12176.0</td>\n",
       "    </tr>\n",
       "    <tr>\n",
       "      <th>8626</th>\n",
       "      <td>Andrew L. Closson</td>\n",
       "      <td>21</td>\n",
       "      <td>Male</td>\n",
       "      <td>White</td>\n",
       "      <td>http://www.superiortelegram.com/sites/default/...</td>\n",
       "      <td>2013-01-01</td>\n",
       "      <td>U.S. Highway 53</td>\n",
       "      <td>Gordon</td>\n",
       "      <td>WI</td>\n",
       "      <td>54838.0</td>\n",
       "      <td>...</td>\n",
       "      <td>Allegedly Armed</td>\n",
       "      <td>gun</td>\n",
       "      <td>NaN</td>\n",
       "      <td>NaN</td>\n",
       "      <td>NaN</td>\n",
       "      <td>NaN</td>\n",
       "      <td>NaN</td>\n",
       "      <td>Rural</td>\n",
       "      <td>5.0</td>\n",
       "      <td>12172.0</td>\n",
       "    </tr>\n",
       "    <tr>\n",
       "      <th>8627</th>\n",
       "      <td>Andrew Layton</td>\n",
       "      <td>26</td>\n",
       "      <td>Male</td>\n",
       "      <td>White</td>\n",
       "      <td>http://bloximages.chicago2.vip.townnews.com/ma...</td>\n",
       "      <td>2013-01-01</td>\n",
       "      <td>410 S Riverfront Drive</td>\n",
       "      <td>Mankato</td>\n",
       "      <td>MN</td>\n",
       "      <td>56001.0</td>\n",
       "      <td>...</td>\n",
       "      <td>Unarmed/Did Not Have an Actual Weapon</td>\n",
       "      <td>no object</td>\n",
       "      <td>NaN</td>\n",
       "      <td>NaN</td>\n",
       "      <td>NaN</td>\n",
       "      <td>NaN</td>\n",
       "      <td>NaN</td>\n",
       "      <td>Suburban</td>\n",
       "      <td>6.0</td>\n",
       "      <td>12171.0</td>\n",
       "    </tr>\n",
       "  </tbody>\n",
       "</table>\n",
       "<p>8628 rows × 29 columns</p>\n",
       "</div>"
      ],
      "text/plain": [
       "            Victim's name Victim's age Victim's gender Victim's race  \\\n",
       "0          Pedro Martinez           66            Male      Hispanic   \n",
       "1            James Horton           42            Male           NaN   \n",
       "2     Dustin James Acosta           28            Male         White   \n",
       "3             Javon Brice           39            Male           NaN   \n",
       "4         Joshua D. Evans           32            Male           NaN   \n",
       "...                   ...          ...             ...           ...   \n",
       "8623          Mark Chavez           49            Male      Hispanic   \n",
       "8624           Tyree Bell           31            Male         Black   \n",
       "8625  Christopher Tavares           21            Male      Hispanic   \n",
       "8626    Andrew L. Closson           21            Male         White   \n",
       "8627        Andrew Layton           26            Male         White   \n",
       "\n",
       "                                 URL of image of victim  \\\n",
       "0                                                   NaN   \n",
       "1                                                   NaN   \n",
       "2                                                   NaN   \n",
       "3                                                   NaN   \n",
       "4                                                   NaN   \n",
       "...                                                 ...   \n",
       "8623  http://www.tricitytribuneusa.com/wp-content/up...   \n",
       "8624  http://content.omaha.com/media/maps/ps/2013/ja...   \n",
       "8625  http://www.krdo.com/image/view/-/17980228/medR...   \n",
       "8626  http://www.superiortelegram.com/sites/default/...   \n",
       "8627  http://bloximages.chicago2.vip.townnews.com/ma...   \n",
       "\n",
       "     Date of Incident (month/day/year)             Street Address of Incident  \\\n",
       "0                           2020-11-18                                    NaN   \n",
       "1                           2020-11-17                                    NaN   \n",
       "2                           2020-11-17                                    NaN   \n",
       "3                           2020-11-17                                    NaN   \n",
       "4                           2020-11-16                                    NaN   \n",
       "...                                ...                                    ...   \n",
       "8623                        2013-01-01                    912 Loma Linda Ave.   \n",
       "8624                        2013-01-01                       3727 N. 42nd St.   \n",
       "8625                        2013-01-01  Highway 50 and North Elizabeth Street   \n",
       "8626                        2013-01-01                        U.S. Highway 53   \n",
       "8627                        2013-01-01                 410 S Riverfront Drive   \n",
       "\n",
       "               City State  Zipcode  ...  \\\n",
       "0            Tyler     TX      NaN  ...   \n",
       "1       Hart County    KY      NaN  ...   \n",
       "2     St. Augustine    FL      NaN  ...   \n",
       "3         La Vergne    TN      NaN  ...   \n",
       "4        Batesville    IN      NaN  ...   \n",
       "...             ...   ...      ...  ...   \n",
       "8623     Farmington    NM  87401.0  ...   \n",
       "8624          Omaha    NE  68111.0  ...   \n",
       "8625         Pueblo    CO  81008.0  ...   \n",
       "8626         Gordon    WI  54838.0  ...   \n",
       "8627        Mankato    MN  56001.0  ...   \n",
       "\n",
       "      Unarmed/Did Not Have an Actual Weapon  \\\n",
       "0                           Allegedly Armed   \n",
       "1                           Allegedly Armed   \n",
       "2                           Allegedly Armed   \n",
       "3                           Allegedly Armed   \n",
       "4                           Allegedly Armed   \n",
       "...                                     ...   \n",
       "8623                        Allegedly Armed   \n",
       "8624                        Allegedly Armed   \n",
       "8625                        Allegedly Armed   \n",
       "8626                        Allegedly Armed   \n",
       "8627  Unarmed/Did Not Have an Actual Weapon   \n",
       "\n",
       "     Alleged Weapon (Source: WaPo and Review of Cases Not Included in WaPo Database)  \\\n",
       "0                                        unknown weapon                                \n",
       "1                                                   gun                                \n",
       "2                                                   gun                                \n",
       "3                                                   gun                                \n",
       "4                                                   gun                                \n",
       "...                                                 ...                                \n",
       "8623                                       blunt weapon                                \n",
       "8624                                                gun                                \n",
       "8625                                                gun                                \n",
       "8626                                                gun                                \n",
       "8627                                          no object                                \n",
       "\n",
       "     Alleged Threat Level (Source: WaPo) Fleeing (Source: WaPo)  \\\n",
       "0                                  other            not fleeing   \n",
       "1                                 attack                  other   \n",
       "2                                 attack                    NaN   \n",
       "3                                 attack                    car   \n",
       "4                                 attack            not fleeing   \n",
       "...                                  ...                    ...   \n",
       "8623                                 NaN                    NaN   \n",
       "8624                                 NaN                    NaN   \n",
       "8625                                 NaN                    NaN   \n",
       "8626                                 NaN                    NaN   \n",
       "8627                                 NaN                    NaN   \n",
       "\n",
       "     Body Camera (Source: WaPo) WaPo ID (If included in WaPo database)  \\\n",
       "0                            no                                 6321.0   \n",
       "1                            no                                 6322.0   \n",
       "2                            No                                 6320.0   \n",
       "3                            no                                 6319.0   \n",
       "4                            no                                 6314.0   \n",
       "...                         ...                                    ...   \n",
       "8623                        NaN                                    NaN   \n",
       "8624                        NaN                                    NaN   \n",
       "8625                        NaN                                    NaN   \n",
       "8626                        NaN                                    NaN   \n",
       "8627                        NaN                                    NaN   \n",
       "\n",
       "     Off-Duty Killing?  \\\n",
       "0                  NaN   \n",
       "1                  NaN   \n",
       "2                  NaN   \n",
       "3                  NaN   \n",
       "4                  NaN   \n",
       "...                ...   \n",
       "8623               NaN   \n",
       "8624               NaN   \n",
       "8625               NaN   \n",
       "8626               NaN   \n",
       "8627               NaN   \n",
       "\n",
       "     Geography (via Trulia methodology based on zipcode population density: http://jedkolko.com/wp-content/uploads/2015/05/full-ZCTA-urban-suburban-rural-classification.xlsx )  \\\n",
       "0                                                   NaN                                                                                                                           \n",
       "1                                                   NaN                                                                                                                           \n",
       "2                                                   NaN                                                                                                                           \n",
       "3                                                   NaN                                                                                                                           \n",
       "4                                                   NaN                                                                                                                           \n",
       "...                                                 ...                                                                                                                           \n",
       "8623                                              Urban                                                                                                                           \n",
       "8624                                              Urban                                                                                                                           \n",
       "8625                                           Suburban                                                                                                                           \n",
       "8626                                              Rural                                                                                                                           \n",
       "8627                                           Suburban                                                                                                                           \n",
       "\n",
       "     MPV ID Fatal Encounters ID  \n",
       "0       NaN                 NaN  \n",
       "1       NaN                 NaN  \n",
       "2       NaN                 NaN  \n",
       "3       NaN                 NaN  \n",
       "4       NaN                 NaN  \n",
       "...     ...                 ...  \n",
       "8623    1.0             12175.0  \n",
       "8624    2.0             12173.0  \n",
       "8625    4.0             12176.0  \n",
       "8626    5.0             12172.0  \n",
       "8627    6.0             12171.0  \n",
       "\n",
       "[8628 rows x 29 columns]"
      ]
     },
     "execution_count": 69,
     "metadata": {},
     "output_type": "execute_result"
    }
   ],
   "source": [
    "df1"
   ]
  },
  {
   "cell_type": "code",
   "execution_count": 70,
   "metadata": {},
   "outputs": [
    {
     "data": {
      "text/plain": [
       "Index(['Victim's name', 'Victim's age', 'Victim's gender', 'Victim's race',\n",
       "       'URL of image of victim', 'Date of Incident (month/day/year)',\n",
       "       'Street Address of Incident', 'City', 'State', 'Zipcode', 'County',\n",
       "       'Agency responsible for death', 'ORI Agency Identifier (if available)',\n",
       "       'Cause of death',\n",
       "       'A brief description of the circumstances surrounding the death',\n",
       "       'Official disposition of death (justified or other)',\n",
       "       'Criminal Charges?',\n",
       "       'Link to news article or photo of official document',\n",
       "       'Symptoms of mental illness?', 'Unarmed/Did Not Have an Actual Weapon',\n",
       "       'Alleged Weapon (Source: WaPo and Review of Cases Not Included in WaPo Database)',\n",
       "       'Alleged Threat Level (Source: WaPo)', 'Fleeing (Source: WaPo)',\n",
       "       'Body Camera (Source: WaPo)', 'WaPo ID (If included in WaPo database)',\n",
       "       'Off-Duty Killing?',\n",
       "       'Geography (via Trulia methodology based on zipcode population density: http://jedkolko.com/wp-content/uploads/2015/05/full-ZCTA-urban-suburban-rural-classification.xlsx )',\n",
       "       'MPV ID', 'Fatal Encounters ID'],\n",
       "      dtype='object')"
      ]
     },
     "execution_count": 70,
     "metadata": {},
     "output_type": "execute_result"
    }
   ],
   "source": [
    "df1.columns"
   ]
  },
  {
   "cell_type": "markdown",
   "metadata": {},
   "source": [
    "<h3>Change col names for ease of coding"
   ]
  },
  {
   "cell_type": "code",
   "execution_count": 71,
   "metadata": {},
   "outputs": [],
   "source": [
    "df1.rename(columns = {\"Victim's name\": \"name\", \"Victim's race\": \"race\", \"Victim's age\": \"age\", \"Victim's gender\": \"gender\", \"Date of Incident (month/day/year)\": \"date\", \"State\": \"state\", \"Agency responsible for death\": \"police_agency\", \"Cause of death\": \"cause of death\", \"A brief description of the circumstances surrounding the death\": \"description of death\", \"Official disposition of death (justified or other)\": \"death justified by law\", \"Criminal Charges?\": \"police charged\", \"Symptoms of mental illness?\": \"mental illness\", \"Unarmed/Did Not Have an Actual Weapon\": \"was armed\", \"Alleged Weapon (Source: WaPo and Review of Cases Not Included in WaPo Database)\": \"weapon on victim\", \"Alleged Threat Level (Source: WaPo)\": \"alleged threat level\", \"Fleeing (Source: WaPo)\": \"fleeing\", \"Geography (via Trulia methodology based on zipcode population density: http://jedkolko.com/wp-content/uploads/2015/05/full-ZCTA-urban-suburban-rural-classification.xlsx )\": \"geography type\"}, inplace = True)\n"
   ]
  },
  {
   "cell_type": "markdown",
   "metadata": {},
   "source": [
    "<h3>For Column 'race'"
   ]
  },
  {
   "cell_type": "code",
   "execution_count": 72,
   "metadata": {},
   "outputs": [
    {
     "data": {
      "text/plain": [
       "array(['Hispanic', nan, 'White', 'Unknown race', 'Black', 'Unknown Race',\n",
       "       'Native American', 'unknown race', 'Asian', 'Pacific Islander'],\n",
       "      dtype=object)"
      ]
     },
     "execution_count": 72,
     "metadata": {},
     "output_type": "execute_result"
    }
   ],
   "source": [
    "df1['race'].unique()"
   ]
  },
  {
   "cell_type": "code",
   "execution_count": 73,
   "metadata": {},
   "outputs": [
    {
     "data": {
      "text/plain": [
       "920"
      ]
     },
     "execution_count": 73,
     "metadata": {},
     "output_type": "execute_result"
    }
   ],
   "source": [
    "len(df1[(df1['race'] == 'Unknown race') | (df1['race'] == 'Unknown Race') | (df1['race'] == 'unknown race') | (df1['race'].isnull())])\n",
    "\n",
    "#there are 920 rows without a value for 'race' (almost 1/8 of our df) -> but race is v impt in our analysis so we must drop them\n"
   ]
  },
  {
   "cell_type": "code",
   "execution_count": 74,
   "metadata": {},
   "outputs": [],
   "source": [
    "df1 = df1[(df1['race'] != 'Unknown race') & (df1['race'] != 'Unknown Race') & (df1['race'] != 'unknown race') & (~df1['race'].isnull())]\n"
   ]
  },
  {
   "cell_type": "code",
   "execution_count": 75,
   "metadata": {
    "scrolled": false
   },
   "outputs": [
    {
     "data": {
      "text/plain": [
       "race\n",
       "Asian                132\n",
       "Black               2158\n",
       "Hispanic            1483\n",
       "Native American      120\n",
       "Pacific Islander      46\n",
       "White               3769\n",
       "dtype: int64"
      ]
     },
     "execution_count": 75,
     "metadata": {},
     "output_type": "execute_result"
    }
   ],
   "source": [
    "df1.groupby('race').size()"
   ]
  },
  {
   "cell_type": "markdown",
   "metadata": {},
   "source": [
    "<h3>Drop irrelevant columns</h3>\n",
    "Either irrelevant to our analysis or info is repeated in other cols already"
   ]
  },
  {
   "cell_type": "code",
   "execution_count": 76,
   "metadata": {
    "scrolled": true
   },
   "outputs": [
    {
     "name": "stderr",
     "output_type": "stream",
     "text": [
      "/Users/sheila/opt/anaconda3/lib/python3.8/site-packages/pandas/core/frame.py:3990: SettingWithCopyWarning: \n",
      "A value is trying to be set on a copy of a slice from a DataFrame\n",
      "\n",
      "See the caveats in the documentation: https://pandas.pydata.org/pandas-docs/stable/user_guide/indexing.html#returning-a-view-versus-a-copy\n",
      "  return super().drop(\n"
     ]
    }
   ],
   "source": [
    "df1.drop(['police charged', 'URL of image of victim', 'Street Address of Incident', 'City', 'Zipcode', 'County', 'ORI Agency Identifier (if available)', 'Link to news article or photo of official document', 'Body Camera (Source: WaPo)', 'WaPo ID (If included in WaPo database)', 'Off-Duty Killing?', 'MPV ID', 'Fatal Encounters ID'], axis = 'columns', inplace = True)\n"
   ]
  },
  {
   "cell_type": "markdown",
   "metadata": {},
   "source": [
    "<h3>For Column 'age'"
   ]
  },
  {
   "cell_type": "code",
   "execution_count": 77,
   "metadata": {
    "scrolled": true
   },
   "outputs": [
    {
     "data": {
      "text/plain": [
       "array([66, 28, 35, 38, 40, 18, 16, 37, 25, 56, 34, 36, 30, 26, 39, 43, 21,\n",
       "       44, 20, 27, 53, 19, 33, nan, 45, 61, 48, 32, 57, 46, 47, 23, 29,\n",
       "       52, 51, 24, 41, 62, 31, 42, 22, 55, 88, 50, 17, 60, 'Unknown', 63,\n",
       "       73, 49, 68, 58, 65, 69, 64, 54, 59, 67, 82, 75, 15, 70, 74, 77, 76,\n",
       "       80, 14, 71, 6, 72, 84, 1, 81, 78, '40s', 79, 91, 83, 13, 10, 12,\n",
       "       86, 95, 5, 93, 7, 107, 89], dtype=object)"
      ]
     },
     "execution_count": 77,
     "metadata": {},
     "output_type": "execute_result"
    }
   ],
   "source": [
    "df1['age'].unique()\n"
   ]
  },
  {
   "cell_type": "code",
   "execution_count": 78,
   "metadata": {},
   "outputs": [
    {
     "name": "stderr",
     "output_type": "stream",
     "text": [
      "<ipython-input-78-b1436a5ef0bc>:1: SettingWithCopyWarning: \n",
      "A value is trying to be set on a copy of a slice from a DataFrame.\n",
      "Try using .loc[row_indexer,col_indexer] = value instead\n",
      "\n",
      "See the caveats in the documentation: https://pandas.pydata.org/pandas-docs/stable/user_guide/indexing.html#returning-a-view-versus-a-copy\n",
      "  df1['age'] = np.where(df1['age']=='Unknown', np.nan, df1['age'])\n"
     ]
    }
   ],
   "source": [
    "df1['age'] = np.where(df1['age']=='Unknown', np.nan, df1['age'])"
   ]
  },
  {
   "cell_type": "code",
   "execution_count": 79,
   "metadata": {
    "scrolled": true
   },
   "outputs": [
    {
     "name": "stderr",
     "output_type": "stream",
     "text": [
      "/Users/sheila/opt/anaconda3/lib/python3.8/site-packages/pandas/core/generic.py:6746: SettingWithCopyWarning: \n",
      "A value is trying to be set on a copy of a slice from a DataFrame\n",
      "\n",
      "See the caveats in the documentation: https://pandas.pydata.org/pandas-docs/stable/user_guide/indexing.html#returning-a-view-versus-a-copy\n",
      "  self._update_inplace(new_data)\n"
     ]
    }
   ],
   "source": [
    "#change misspelling\n",
    "\n",
    "df1.age.replace('40s', 40, inplace=True)"
   ]
  },
  {
   "cell_type": "markdown",
   "metadata": {},
   "source": [
    "<h3>For Column 'gender'</h3>\n",
    "create new col 'male'"
   ]
  },
  {
   "cell_type": "code",
   "execution_count": 80,
   "metadata": {},
   "outputs": [
    {
     "data": {
      "text/plain": [
       "array(['Male', 'Female', 'Transgender', nan, 'Unknown'], dtype=object)"
      ]
     },
     "execution_count": 80,
     "metadata": {},
     "output_type": "execute_result"
    }
   ],
   "source": [
    "df1.gender.unique()"
   ]
  },
  {
   "cell_type": "code",
   "execution_count": 81,
   "metadata": {},
   "outputs": [
    {
     "name": "stderr",
     "output_type": "stream",
     "text": [
      "<ipython-input-81-dc524b4d1e56>:1: SettingWithCopyWarning: \n",
      "A value is trying to be set on a copy of a slice from a DataFrame.\n",
      "Try using .loc[row_indexer,col_indexer] = value instead\n",
      "\n",
      "See the caveats in the documentation: https://pandas.pydata.org/pandas-docs/stable/user_guide/indexing.html#returning-a-view-versus-a-copy\n",
      "  df1['male'] = np.where(df1['gender'] == 'Male', 1,\n"
     ]
    }
   ],
   "source": [
    "df1['male'] = np.where(df1['gender'] == 'Male', 1, \n",
    "                       np.where(((df1['gender'] == 'Female') | (df1['gender'] == 'Transgender')), 0, np.nan))"
   ]
  },
  {
   "cell_type": "code",
   "execution_count": 82,
   "metadata": {},
   "outputs": [],
   "source": [
    "df1.drop('gender', axis = 'columns', inplace = True)"
   ]
  },
  {
   "cell_type": "markdown",
   "metadata": {},
   "source": [
    "<h1>Dataset 2: Data Cleaning\n",
    "<h3>The Washington Post's database</h3>\n",
    "https://www.washingtonpost.com/graphics/investigations/police-shootings-database/\n",
    "https://github.com/washingtonpost/data-police-shootings"
   ]
  },
  {
   "cell_type": "code",
   "execution_count": 83,
   "metadata": {},
   "outputs": [],
   "source": [
    "df2 = pd.read_csv('the washington post.csv')"
   ]
  },
  {
   "cell_type": "code",
   "execution_count": 84,
   "metadata": {
    "scrolled": true
   },
   "outputs": [
    {
     "data": {
      "text/html": [
       "<div>\n",
       "<style scoped>\n",
       "    .dataframe tbody tr th:only-of-type {\n",
       "        vertical-align: middle;\n",
       "    }\n",
       "\n",
       "    .dataframe tbody tr th {\n",
       "        vertical-align: top;\n",
       "    }\n",
       "\n",
       "    .dataframe thead th {\n",
       "        text-align: right;\n",
       "    }\n",
       "</style>\n",
       "<table border=\"1\" class=\"dataframe\">\n",
       "  <thead>\n",
       "    <tr style=\"text-align: right;\">\n",
       "      <th></th>\n",
       "      <th>id</th>\n",
       "      <th>name</th>\n",
       "      <th>date</th>\n",
       "      <th>manner_of_death</th>\n",
       "      <th>armed</th>\n",
       "      <th>age</th>\n",
       "      <th>gender</th>\n",
       "      <th>race</th>\n",
       "      <th>city</th>\n",
       "      <th>state</th>\n",
       "      <th>signs_of_mental_illness</th>\n",
       "      <th>threat_level</th>\n",
       "      <th>flee</th>\n",
       "      <th>body_camera</th>\n",
       "      <th>longitude</th>\n",
       "      <th>latitude</th>\n",
       "      <th>is_geocoding_exact</th>\n",
       "    </tr>\n",
       "  </thead>\n",
       "  <tbody>\n",
       "    <tr>\n",
       "      <th>0</th>\n",
       "      <td>3</td>\n",
       "      <td>Tim Elliot</td>\n",
       "      <td>2015-01-02</td>\n",
       "      <td>shot</td>\n",
       "      <td>gun</td>\n",
       "      <td>53.0</td>\n",
       "      <td>M</td>\n",
       "      <td>A</td>\n",
       "      <td>Shelton</td>\n",
       "      <td>WA</td>\n",
       "      <td>True</td>\n",
       "      <td>attack</td>\n",
       "      <td>Not fleeing</td>\n",
       "      <td>False</td>\n",
       "      <td>-123.122</td>\n",
       "      <td>47.247</td>\n",
       "      <td>True</td>\n",
       "    </tr>\n",
       "    <tr>\n",
       "      <th>1</th>\n",
       "      <td>4</td>\n",
       "      <td>Lewis Lee Lembke</td>\n",
       "      <td>2015-01-02</td>\n",
       "      <td>shot</td>\n",
       "      <td>gun</td>\n",
       "      <td>47.0</td>\n",
       "      <td>M</td>\n",
       "      <td>W</td>\n",
       "      <td>Aloha</td>\n",
       "      <td>OR</td>\n",
       "      <td>False</td>\n",
       "      <td>attack</td>\n",
       "      <td>Not fleeing</td>\n",
       "      <td>False</td>\n",
       "      <td>-122.892</td>\n",
       "      <td>45.487</td>\n",
       "      <td>True</td>\n",
       "    </tr>\n",
       "    <tr>\n",
       "      <th>2</th>\n",
       "      <td>5</td>\n",
       "      <td>John Paul Quintero</td>\n",
       "      <td>2015-01-03</td>\n",
       "      <td>shot and Tasered</td>\n",
       "      <td>unarmed</td>\n",
       "      <td>23.0</td>\n",
       "      <td>M</td>\n",
       "      <td>H</td>\n",
       "      <td>Wichita</td>\n",
       "      <td>KS</td>\n",
       "      <td>False</td>\n",
       "      <td>other</td>\n",
       "      <td>Not fleeing</td>\n",
       "      <td>False</td>\n",
       "      <td>-97.281</td>\n",
       "      <td>37.695</td>\n",
       "      <td>True</td>\n",
       "    </tr>\n",
       "    <tr>\n",
       "      <th>3</th>\n",
       "      <td>8</td>\n",
       "      <td>Matthew Hoffman</td>\n",
       "      <td>2015-01-04</td>\n",
       "      <td>shot</td>\n",
       "      <td>toy weapon</td>\n",
       "      <td>32.0</td>\n",
       "      <td>M</td>\n",
       "      <td>W</td>\n",
       "      <td>San Francisco</td>\n",
       "      <td>CA</td>\n",
       "      <td>True</td>\n",
       "      <td>attack</td>\n",
       "      <td>Not fleeing</td>\n",
       "      <td>False</td>\n",
       "      <td>-122.422</td>\n",
       "      <td>37.763</td>\n",
       "      <td>True</td>\n",
       "    </tr>\n",
       "    <tr>\n",
       "      <th>4</th>\n",
       "      <td>9</td>\n",
       "      <td>Michael Rodriguez</td>\n",
       "      <td>2015-01-04</td>\n",
       "      <td>shot</td>\n",
       "      <td>nail gun</td>\n",
       "      <td>39.0</td>\n",
       "      <td>M</td>\n",
       "      <td>H</td>\n",
       "      <td>Evans</td>\n",
       "      <td>CO</td>\n",
       "      <td>False</td>\n",
       "      <td>attack</td>\n",
       "      <td>Not fleeing</td>\n",
       "      <td>False</td>\n",
       "      <td>-104.692</td>\n",
       "      <td>40.384</td>\n",
       "      <td>True</td>\n",
       "    </tr>\n",
       "    <tr>\n",
       "      <th>...</th>\n",
       "      <td>...</td>\n",
       "      <td>...</td>\n",
       "      <td>...</td>\n",
       "      <td>...</td>\n",
       "      <td>...</td>\n",
       "      <td>...</td>\n",
       "      <td>...</td>\n",
       "      <td>...</td>\n",
       "      <td>...</td>\n",
       "      <td>...</td>\n",
       "      <td>...</td>\n",
       "      <td>...</td>\n",
       "      <td>...</td>\n",
       "      <td>...</td>\n",
       "      <td>...</td>\n",
       "      <td>...</td>\n",
       "      <td>...</td>\n",
       "    </tr>\n",
       "    <tr>\n",
       "      <th>5844</th>\n",
       "      <td>6340</td>\n",
       "      <td>NaN</td>\n",
       "      <td>2020-11-27</td>\n",
       "      <td>shot</td>\n",
       "      <td>gun</td>\n",
       "      <td>NaN</td>\n",
       "      <td>M</td>\n",
       "      <td>NaN</td>\n",
       "      <td>Wilsonville</td>\n",
       "      <td>OR</td>\n",
       "      <td>True</td>\n",
       "      <td>other</td>\n",
       "      <td>NaN</td>\n",
       "      <td>False</td>\n",
       "      <td>-122.834</td>\n",
       "      <td>45.278</td>\n",
       "      <td>True</td>\n",
       "    </tr>\n",
       "    <tr>\n",
       "      <th>5845</th>\n",
       "      <td>6339</td>\n",
       "      <td>Cory Donell Truxillo</td>\n",
       "      <td>2020-11-29</td>\n",
       "      <td>shot</td>\n",
       "      <td>gun</td>\n",
       "      <td>43.0</td>\n",
       "      <td>M</td>\n",
       "      <td>B</td>\n",
       "      <td>Houma</td>\n",
       "      <td>LA</td>\n",
       "      <td>True</td>\n",
       "      <td>attack</td>\n",
       "      <td>Not fleeing</td>\n",
       "      <td>False</td>\n",
       "      <td>-90.730</td>\n",
       "      <td>29.602</td>\n",
       "      <td>True</td>\n",
       "    </tr>\n",
       "    <tr>\n",
       "      <th>5846</th>\n",
       "      <td>6363</td>\n",
       "      <td>NaN</td>\n",
       "      <td>2020-11-30</td>\n",
       "      <td>shot</td>\n",
       "      <td>BB gun</td>\n",
       "      <td>NaN</td>\n",
       "      <td>M</td>\n",
       "      <td>NaN</td>\n",
       "      <td>Phoenix</td>\n",
       "      <td>AZ</td>\n",
       "      <td>False</td>\n",
       "      <td>attack</td>\n",
       "      <td>Not fleeing</td>\n",
       "      <td>False</td>\n",
       "      <td>-112.112</td>\n",
       "      <td>33.495</td>\n",
       "      <td>True</td>\n",
       "    </tr>\n",
       "    <tr>\n",
       "      <th>5847</th>\n",
       "      <td>6364</td>\n",
       "      <td>Adam Lee Mendez</td>\n",
       "      <td>2020-11-30</td>\n",
       "      <td>shot</td>\n",
       "      <td>knife</td>\n",
       "      <td>38.0</td>\n",
       "      <td>M</td>\n",
       "      <td>H</td>\n",
       "      <td>San Angelo</td>\n",
       "      <td>TX</td>\n",
       "      <td>False</td>\n",
       "      <td>other</td>\n",
       "      <td>Not fleeing</td>\n",
       "      <td>False</td>\n",
       "      <td>-100.475</td>\n",
       "      <td>31.469</td>\n",
       "      <td>True</td>\n",
       "    </tr>\n",
       "    <tr>\n",
       "      <th>5848</th>\n",
       "      <td>6365</td>\n",
       "      <td>NaN</td>\n",
       "      <td>2020-11-30</td>\n",
       "      <td>shot</td>\n",
       "      <td>gun</td>\n",
       "      <td>NaN</td>\n",
       "      <td>M</td>\n",
       "      <td>NaN</td>\n",
       "      <td>Pensacola</td>\n",
       "      <td>FL</td>\n",
       "      <td>False</td>\n",
       "      <td>other</td>\n",
       "      <td>Other</td>\n",
       "      <td>False</td>\n",
       "      <td>-87.197</td>\n",
       "      <td>30.488</td>\n",
       "      <td>True</td>\n",
       "    </tr>\n",
       "  </tbody>\n",
       "</table>\n",
       "<p>5849 rows × 17 columns</p>\n",
       "</div>"
      ],
      "text/plain": [
       "        id                  name        date   manner_of_death       armed  \\\n",
       "0        3            Tim Elliot  2015-01-02              shot         gun   \n",
       "1        4      Lewis Lee Lembke  2015-01-02              shot         gun   \n",
       "2        5    John Paul Quintero  2015-01-03  shot and Tasered     unarmed   \n",
       "3        8       Matthew Hoffman  2015-01-04              shot  toy weapon   \n",
       "4        9     Michael Rodriguez  2015-01-04              shot    nail gun   \n",
       "...    ...                   ...         ...               ...         ...   \n",
       "5844  6340                   NaN  2020-11-27              shot         gun   \n",
       "5845  6339  Cory Donell Truxillo  2020-11-29              shot         gun   \n",
       "5846  6363                   NaN  2020-11-30              shot      BB gun   \n",
       "5847  6364       Adam Lee Mendez  2020-11-30              shot       knife   \n",
       "5848  6365                   NaN  2020-11-30              shot         gun   \n",
       "\n",
       "       age gender race           city state  signs_of_mental_illness  \\\n",
       "0     53.0      M    A        Shelton    WA                     True   \n",
       "1     47.0      M    W          Aloha    OR                    False   \n",
       "2     23.0      M    H        Wichita    KS                    False   \n",
       "3     32.0      M    W  San Francisco    CA                     True   \n",
       "4     39.0      M    H          Evans    CO                    False   \n",
       "...    ...    ...  ...            ...   ...                      ...   \n",
       "5844   NaN      M  NaN    Wilsonville    OR                     True   \n",
       "5845  43.0      M    B          Houma    LA                     True   \n",
       "5846   NaN      M  NaN        Phoenix    AZ                    False   \n",
       "5847  38.0      M    H     San Angelo    TX                    False   \n",
       "5848   NaN      M  NaN      Pensacola    FL                    False   \n",
       "\n",
       "     threat_level         flee  body_camera  longitude  latitude  \\\n",
       "0          attack  Not fleeing        False   -123.122    47.247   \n",
       "1          attack  Not fleeing        False   -122.892    45.487   \n",
       "2           other  Not fleeing        False    -97.281    37.695   \n",
       "3          attack  Not fleeing        False   -122.422    37.763   \n",
       "4          attack  Not fleeing        False   -104.692    40.384   \n",
       "...           ...          ...          ...        ...       ...   \n",
       "5844        other          NaN        False   -122.834    45.278   \n",
       "5845       attack  Not fleeing        False    -90.730    29.602   \n",
       "5846       attack  Not fleeing        False   -112.112    33.495   \n",
       "5847        other  Not fleeing        False   -100.475    31.469   \n",
       "5848        other        Other        False    -87.197    30.488   \n",
       "\n",
       "      is_geocoding_exact  \n",
       "0                   True  \n",
       "1                   True  \n",
       "2                   True  \n",
       "3                   True  \n",
       "4                   True  \n",
       "...                  ...  \n",
       "5844                True  \n",
       "5845                True  \n",
       "5846                True  \n",
       "5847                True  \n",
       "5848                True  \n",
       "\n",
       "[5849 rows x 17 columns]"
      ]
     },
     "execution_count": 84,
     "metadata": {},
     "output_type": "execute_result"
    }
   ],
   "source": [
    "df2"
   ]
  },
  {
   "cell_type": "markdown",
   "metadata": {},
   "source": [
    "<h3>Change col names"
   ]
  },
  {
   "cell_type": "code",
   "execution_count": 85,
   "metadata": {},
   "outputs": [],
   "source": [
    "df2.rename(columns = {'manner_of_death': 'cause of death', 'armed': 'was armed', 'signs_of_mental_illness': 'mental illness', 'threat_level': 'alleged threat level', 'flee': 'fleeing'}, inplace = True)\n"
   ]
  },
  {
   "cell_type": "markdown",
   "metadata": {},
   "source": [
    "<h3>Drop irrelevant columns</h3>\n",
    "Either irrelevant to our analysis or info is repeated in other cols already"
   ]
  },
  {
   "cell_type": "code",
   "execution_count": 86,
   "metadata": {},
   "outputs": [],
   "source": [
    "df2.drop(['city', 'id', 'body_camera', 'longitude', 'latitude', 'is_geocoding_exact'], axis = 'columns', inplace = True)\n"
   ]
  },
  {
   "cell_type": "markdown",
   "metadata": {},
   "source": [
    "<h3>For Column 'gender'</h3>\n",
    "create new col 'male'"
   ]
  },
  {
   "cell_type": "code",
   "execution_count": 87,
   "metadata": {},
   "outputs": [
    {
     "data": {
      "text/plain": [
       "array(['M', 'F', nan], dtype=object)"
      ]
     },
     "execution_count": 87,
     "metadata": {},
     "output_type": "execute_result"
    }
   ],
   "source": [
    "df2.gender.unique()"
   ]
  },
  {
   "cell_type": "code",
   "execution_count": 88,
   "metadata": {},
   "outputs": [],
   "source": [
    "df2['male'] = np.where(df2['gender'] == 'M', 1, \n",
    "                       np.where(df2['gender'] == 'F', 0, np.nan))"
   ]
  },
  {
   "cell_type": "code",
   "execution_count": 89,
   "metadata": {
    "scrolled": true
   },
   "outputs": [],
   "source": [
    "df2.drop('gender', axis = 'columns', inplace = True)"
   ]
  },
  {
   "cell_type": "markdown",
   "metadata": {},
   "source": [
    "<h3>Combine The Washington Post data with MPV data: Adds another 1513 rows"
   ]
  },
  {
   "cell_type": "code",
   "execution_count": 90,
   "metadata": {
    "scrolled": true
   },
   "outputs": [],
   "source": [
    "df2 = df2[~df2['name'].isin(df1['name'])]"
   ]
  },
  {
   "cell_type": "code",
   "execution_count": 91,
   "metadata": {
    "scrolled": true
   },
   "outputs": [],
   "source": [
    "df = pd.concat([df1, df2], axis = 0)  #our final dataframe is named 'df'"
   ]
  },
  {
   "cell_type": "code",
   "execution_count": 92,
   "metadata": {},
   "outputs": [],
   "source": [
    "#remove col 'name' bc we dont need it anymore\n",
    "\n",
    "df.drop('name', axis = 'columns', inplace = True)"
   ]
  },
  {
   "cell_type": "code",
   "execution_count": 93,
   "metadata": {
    "scrolled": true
   },
   "outputs": [
    {
     "data": {
      "text/plain": [
       "Index(['age', 'race', 'date', 'state', 'police_agency', 'cause of death',\n",
       "       'description of death', 'death justified by law', 'mental illness',\n",
       "       'was armed', 'weapon on victim', 'alleged threat level', 'fleeing',\n",
       "       'geography type', 'male'],\n",
       "      dtype='object')"
      ]
     },
     "execution_count": 93,
     "metadata": {},
     "output_type": "execute_result"
    }
   ],
   "source": [
    "df.columns"
   ]
  },
  {
   "cell_type": "markdown",
   "metadata": {},
   "source": [
    "<h1>Final Dataset: Data Cleaning"
   ]
  },
  {
   "cell_type": "markdown",
   "metadata": {},
   "source": [
    "<h3>For col 'race'"
   ]
  },
  {
   "cell_type": "code",
   "execution_count": 94,
   "metadata": {},
   "outputs": [
    {
     "data": {
      "text/plain": [
       "array(['Hispanic', 'White', 'Black', 'Native American', 'Asian',\n",
       "       'Pacific Islander', 'A', 'W', 'B', 'H', 'O', nan, 'N'],\n",
       "      dtype=object)"
      ]
     },
     "execution_count": 94,
     "metadata": {},
     "output_type": "execute_result"
    }
   ],
   "source": [
    "df.race.unique()"
   ]
  },
  {
   "cell_type": "code",
   "execution_count": 95,
   "metadata": {},
   "outputs": [],
   "source": [
    "#standardize notation: use the 5 largest racial categories in the USA\n",
    "df.race.replace('A', 'Asian', inplace=True)\n",
    "df.race.replace('W', 'White', inplace=True)\n",
    "df.race.replace('B', 'Black', inplace=True)\n",
    "df.race.replace('H', 'Hispanic', inplace=True)\n",
    "df.race.replace('N', 'Native American', inplace=True)\n",
    "df.race.replace('O', 'Native American', inplace=True)\n",
    "df.race.replace('Pacific Islander', 'Native American', inplace=True)"
   ]
  },
  {
   "cell_type": "markdown",
   "metadata": {},
   "source": [
    "<h3>For col 'cause of death'"
   ]
  },
  {
   "cell_type": "code",
   "execution_count": 96,
   "metadata": {},
   "outputs": [
    {
     "data": {
      "text/plain": [
       "cause of death\n",
       "Gunshot                                    7087\n",
       "shot                                       1915\n",
       "Gunshot, Taser                              244\n",
       "Taser                                       224\n",
       "shot and Tasered                            101\n",
       "Vehicle                                      32\n",
       "Beaten                                       29\n",
       "Physical Restraint                           25\n",
       "Tasered                                      14\n",
       "Physical restraint                            9\n",
       "Asphyxiated                                   8\n",
       "Gunshot, Police Dog                           5\n",
       "Other                                         5\n",
       "Pepper Spray                                  4\n",
       "Gunshot, Pepper Spray                         4\n",
       "Taser, Physical Restraint                     2\n",
       "Gunshot, Taser, Pepper spray                  1\n",
       "Taser, Pepper spray, beaten                   1\n",
       "Baton, Pepper Spray, Physical Restraint       1\n",
       "Bean bag                                      1\n",
       "Beaten/Bludgeoned with instrument             1\n",
       "Bomb                                          1\n",
       "Chemical agent/Pepper spray                   1\n",
       "Gunshot, Bean Bag Gun                         1\n",
       "Taser, Beaten                                 1\n",
       "Gunshot, Beanbag Gun                          1\n",
       "Gunshot, Vehicle                              1\n",
       "Gunshot, Unspecified Less Lethal Weapon       1\n",
       "Gunshot, Stabbed                              1\n",
       "Taser, Pepper Spray, Beaten                   1\n",
       "Gunshot, Taser, Baton                         1\n",
       "Gunshot, Taser, Beanbag Shotgun               1\n",
       "dtype: int64"
      ]
     },
     "execution_count": 96,
     "metadata": {},
     "output_type": "execute_result"
    }
   ],
   "source": [
    "df.groupby('cause of death').size().sort_values(ascending=False)\n",
    "\n",
    "#the top 3 categories are: gunshot, taser, physical violence. so we create 3 new dummy variables for each category\n"
   ]
  },
  {
   "cell_type": "code",
   "execution_count": 97,
   "metadata": {},
   "outputs": [],
   "source": [
    "def was_shot(x):\n",
    "    if ('Gunshot' in x) or ('Gun' in x) or ('shot' in x):\n",
    "        return 1\n",
    "    else:\n",
    "        return 0"
   ]
  },
  {
   "cell_type": "code",
   "execution_count": 98,
   "metadata": {
    "scrolled": true
   },
   "outputs": [],
   "source": [
    "df['shooting_involved'] = df['cause of death'].apply(lambda x: was_shot(x))"
   ]
  },
  {
   "cell_type": "code",
   "execution_count": 99,
   "metadata": {},
   "outputs": [],
   "source": [
    "def was_tasered(x):\n",
    "    if 'Taser' in x:\n",
    "        return 1\n",
    "    else:\n",
    "        return 0"
   ]
  },
  {
   "cell_type": "code",
   "execution_count": 100,
   "metadata": {},
   "outputs": [],
   "source": [
    "df['taser_involved'] = df['cause of death'].apply(lambda x: was_tasered(x))"
   ]
  },
  {
   "cell_type": "code",
   "execution_count": 101,
   "metadata": {},
   "outputs": [],
   "source": [
    "def physical_violence(x):\n",
    "    if ('Asphyxiated' in x) or ('Restraint' in x) or ('restraint' in x) or ('Beaten' in x) or ('beaten' in x):\n",
    "        return 1\n",
    "    else:\n",
    "        return 0\n",
    "    "
   ]
  },
  {
   "cell_type": "code",
   "execution_count": 102,
   "metadata": {},
   "outputs": [],
   "source": [
    "df['physical_violence_involved'] = df['cause of death'].apply(lambda x: physical_violence(x))"
   ]
  },
  {
   "cell_type": "code",
   "execution_count": 103,
   "metadata": {},
   "outputs": [],
   "source": [
    "#delete the col 'cause of death'\n",
    "\n",
    "df.drop('cause of death', axis = 'columns', inplace = True)"
   ]
  },
  {
   "cell_type": "markdown",
   "metadata": {},
   "source": [
    "<h3>For col 'death justified by law'"
   ]
  },
  {
   "cell_type": "code",
   "execution_count": 104,
   "metadata": {
    "scrolled": false
   },
   "outputs": [
    {
     "data": {
      "text/plain": [
       "death justified by law\n",
       "Pending investigation/No Known Charges                                                     4398\n",
       "Unreported                                                                                 1079\n",
       "Justified                                                                                   594\n",
       "Pending investigation                                                                       409\n",
       "Justified by District Attorney                                                              321\n",
       "                                                                                           ... \n",
       "Charged, Convicted of involuntary manslaughter, Sentenced to 5 years in Prison                1\n",
       "Charged, Convicted of manslaughter and attempted murder, Sentenced to 25 years                1\n",
       "Charged, Convicted of manslaughter, Sentenced to 2.5 years in prison                          1\n",
       "Charged, Convicted of misdemeanor misconduct in office, Sentenced to 3 years probation        1\n",
       "Charged, Convicted of reckless manslaughter, Sentenced to 6 years                             1\n",
       "Length: 142, dtype: int64"
      ]
     },
     "execution_count": 104,
     "metadata": {},
     "output_type": "execute_result"
    }
   ],
   "source": [
    "df.groupby('death justified by law').size().sort_values(ascending=False)\n",
    "\n",
    "#create 1 new dummy var, 'justified': whether or not the law found the police killing to be justified\n"
   ]
  },
  {
   "cell_type": "code",
   "execution_count": 105,
   "metadata": {},
   "outputs": [],
   "source": [
    "def killing_was_jutified(x):\n",
    "    if type(x) == str:  #the NAs are in float datatype\n",
    "        if ('Justified' in x) or ('Cleared' in x):\n",
    "            return 1\n",
    "        elif ('Unknown' in x) or ('No Known Charges' in x) or ('Under investigation' in x) or ('Unreported' in x) or ('Pending investigation' in x):\n",
    "            return np.nan\n",
    "        else:\n",
    "            return 0\n",
    "    else:\n",
    "        return np.nan\n",
    "    "
   ]
  },
  {
   "cell_type": "code",
   "execution_count": 106,
   "metadata": {},
   "outputs": [],
   "source": [
    "df['justified'] = df['death justified by law'].apply(lambda x: killing_was_jutified(x))"
   ]
  },
  {
   "cell_type": "code",
   "execution_count": 107,
   "metadata": {},
   "outputs": [],
   "source": [
    "#we don't need the col 'death justified by law' anymore, so drop it\n",
    "\n",
    "df.drop('death justified by law', axis = 'columns', inplace = True)"
   ]
  },
  {
   "cell_type": "markdown",
   "metadata": {},
   "source": [
    "<h3>For cols 'weapon on victim' and 'was armed'"
   ]
  },
  {
   "cell_type": "code",
   "execution_count": 108,
   "metadata": {},
   "outputs": [
    {
     "data": {
      "text/plain": [
       "array(['unknown weapon', 'gun', 'undetermined', 'vehicle', 'knife',\n",
       "       'curtain rod', 'machete', 'no object', 'shovel', 'Airsoft pistol',\n",
       "       'toy weapon', 'pepper spray', 'bottle', 'sword', 'baseball bat',\n",
       "       'Taser', 'hammer', 'vehicle and gun', 'rock', 'samurai sword',\n",
       "       'sharp object', 'gun and car', 'windshield wiper', 'metal pipe',\n",
       "       'gun and vehicle', 'pick-axe', 'tire iron', 'screwdriver',\n",
       "       'BB gun', 'scissors', 'meat cleaver', 'chair', 'chain', 'hatchet',\n",
       "       'car, knife and mace', 'vehicle and machete', 'box cutter', 'ax',\n",
       "       'crowbar', 'baseball bat and knife', 'straight edge razor',\n",
       "       'baton', 'air pistol', 'wasp spray', 'BB gun and vehicle',\n",
       "       'piece of wood', 'gun and knife', 'garden tool', 'barstool',\n",
       "       'walking stick', 'wrench', 'flag pole', 'lawn mower blade',\n",
       "       'crossbow', 'bow and arrow', 'lamp', 'incendiary device', 'pipe',\n",
       "       'pole and knife', 'lighter fluid', 'pitchfork', 'gun and sword',\n",
       "       'taser', 'blunt object', 'chainsaw', 'pen', 'fireworks',\n",
       "       'gun and hatchet', 'baseball bat and bottle',\n",
       "       'electric razor on cord', 'metal object', 'metal stick',\n",
       "       'golf club', 'beer bottle', 'pole and Knife',\n",
       "       'air conditioner and glass bottle', 'Scissors', 'gun and machete',\n",
       "       'oar', 'bat', 'metal rake', 'brick', 'motorcycle', 'glass shard',\n",
       "       'chain saw', 'bayonet', 'metal pole', 'Ax', 'spear', 'stick',\n",
       "       'knife, toy', 'flashlight', 'Pole', 'hand torch',\n",
       "       'baseball bat and fireplace poker', 'toy broomstick',\n",
       "       'bean-bag Gun', 'binoculars', 'Stapler', 'railroad spike',\n",
       "       'guns and explosives', \"contractor's level\", 'carjack', 'vehicle ',\n",
       "       'flagpole', 'metal hand tool', 'cordless drill', 'Hammer',\n",
       "       'nail gun', 'sock', 'edged weapon', 'wooden nightstand',\n",
       "       'knife and rocks', 'cell phone', 'metal bar', 'knife and crowbar',\n",
       "       'knife and screwdriver', 'axe', 'metal post', 'knives',\n",
       "       'toy sword', 'rocks', 'claw hammer', 'cologne', 'cane and knife',\n",
       "       'knife and stick', 'blade', 'gun and explosives', 'lighter',\n",
       "       'hockey stick', 'garden shears', 'wood stick ', 'knife and gun',\n",
       "       'ax and knife', 'cane', 'cleaver', 'game controller',\n",
       "       'screw driver', 'unclear weapon', 'guns', 'mallett',\n",
       "       'knife and hammer', 'taser, baton, gun', 'hunting bow',\n",
       "       'wooden stick', 'knife and bat', 'gun and knives',\n",
       "       'hammer and knife', 'knife and scissors', 'explosives and guns',\n",
       "       'knife/scissors', 'probe', 'tree branch', 'bike', 'table leg',\n",
       "       'gun, vehicle', 'sticks', 'club', 'blunt weapon', nan],\n",
       "      dtype=object)"
      ]
     },
     "execution_count": 108,
     "metadata": {},
     "output_type": "execute_result"
    }
   ],
   "source": [
    "df['weapon on victim'].unique()"
   ]
  },
  {
   "cell_type": "code",
   "execution_count": 109,
   "metadata": {},
   "outputs": [],
   "source": [
    "#1) create new var, 'armed_with_gun'"
   ]
  },
  {
   "cell_type": "code",
   "execution_count": 110,
   "metadata": {},
   "outputs": [],
   "source": [
    "def weapon(x):\n",
    "    if type(x) == str:  #the NAs are in float datatype\n",
    "        if ('gun' in x) or ('pistol' in x):\n",
    "            return 1\n",
    "        else:\n",
    "            return 0\n",
    "    else:\n",
    "        return np.nan"
   ]
  },
  {
   "cell_type": "code",
   "execution_count": 111,
   "metadata": {},
   "outputs": [],
   "source": [
    "df['armed_with_gun'] = df['weapon on victim'].apply(lambda x: weapon(x))"
   ]
  },
  {
   "cell_type": "code",
   "execution_count": 112,
   "metadata": {},
   "outputs": [],
   "source": [
    "def weapon(x):\n",
    "    if type(x) == str:  #the NAs are in float datatype\n",
    "        if ('gun' in x) or ('pistol' in x) or ('guns' in x):\n",
    "            return True"
   ]
  },
  {
   "cell_type": "code",
   "execution_count": 113,
   "metadata": {},
   "outputs": [],
   "source": [
    "df['armed_with_gun'] = np.where(df['was armed'].apply(lambda x: weapon(x)) == True, 1, df['armed_with_gun'])\n",
    "\n"
   ]
  },
  {
   "cell_type": "code",
   "execution_count": 114,
   "metadata": {},
   "outputs": [],
   "source": [
    "#2) create new var, 'armed_with_knife'"
   ]
  },
  {
   "cell_type": "code",
   "execution_count": 115,
   "metadata": {},
   "outputs": [],
   "source": [
    "def weapon(x):\n",
    "    if type(x) == str:  #the NAs are in float datatype\n",
    "        if ('knife' in x) or ('cleaver' in x):\n",
    "            return 1\n",
    "        else:\n",
    "            return 0\n",
    "    else:\n",
    "        return np.nan"
   ]
  },
  {
   "cell_type": "code",
   "execution_count": 116,
   "metadata": {},
   "outputs": [],
   "source": [
    "df['armed_with_knife'] = df['weapon on victim'].apply(lambda x: weapon(x))"
   ]
  },
  {
   "cell_type": "code",
   "execution_count": 117,
   "metadata": {},
   "outputs": [],
   "source": [
    "def weapon(x):\n",
    "    if type(x) == str:  #the NAs are in float datatype\n",
    "        if 'knife' in x:\n",
    "            return True"
   ]
  },
  {
   "cell_type": "code",
   "execution_count": 118,
   "metadata": {},
   "outputs": [],
   "source": [
    "df['armed_with_knife'] = np.where(df['was armed'].apply(lambda x: weapon(x)) == True, 1, df['armed_with_knife'])\n",
    "\n"
   ]
  },
  {
   "cell_type": "markdown",
   "metadata": {},
   "source": [
    "<h3>For col 'alleged threat level'"
   ]
  },
  {
   "cell_type": "code",
   "execution_count": 119,
   "metadata": {},
   "outputs": [
    {
     "data": {
      "text/plain": [
       "array(['other', 'attack', nan, 'undetermined'], dtype=object)"
      ]
     },
     "execution_count": 119,
     "metadata": {},
     "output_type": "execute_result"
    }
   ],
   "source": [
    "df['alleged threat level'].unique()\n",
    "\n",
    "#create a new dummy var, 'was an alleged threat'"
   ]
  },
  {
   "cell_type": "code",
   "execution_count": 120,
   "metadata": {},
   "outputs": [],
   "source": [
    "def threat(x):\n",
    "    if type(x) == str:  #the NAs are in float datatype\n",
    "        if x == 'attack':\n",
    "            return 1\n",
    "        else:\n",
    "            return 0\n",
    "    else:\n",
    "        return np.nan"
   ]
  },
  {
   "cell_type": "code",
   "execution_count": 121,
   "metadata": {},
   "outputs": [],
   "source": [
    "df['was_a_threat'] = df['alleged threat level'].apply(lambda x: threat(x))"
   ]
  },
  {
   "cell_type": "code",
   "execution_count": 122,
   "metadata": {},
   "outputs": [],
   "source": [
    "df.drop('alleged threat level', axis = 'columns', inplace = True)"
   ]
  },
  {
   "cell_type": "markdown",
   "metadata": {},
   "source": [
    "<h3>For col 'fleeing'"
   ]
  },
  {
   "cell_type": "code",
   "execution_count": 123,
   "metadata": {},
   "outputs": [
    {
     "data": {
      "text/plain": [
       "array(['not fleeing', nan, 'car', 'foot', 'Not fleeing', 'other', 'Foot',\n",
       "       'Car', 'Not Fleeing', 'Other'], dtype=object)"
      ]
     },
     "execution_count": 123,
     "metadata": {},
     "output_type": "execute_result"
    }
   ],
   "source": [
    "df['fleeing'].unique()\n",
    "\n",
    "#create new dummy var, 'was fleeing'"
   ]
  },
  {
   "cell_type": "code",
   "execution_count": 124,
   "metadata": {},
   "outputs": [],
   "source": [
    "def flee(x):\n",
    "    if type(x) == str:  #the NAs are in float datatype\n",
    "        if x.lower() == 'not fleeing':\n",
    "            return 0\n",
    "        else:\n",
    "            return 1\n",
    "    else:\n",
    "        return np.nan"
   ]
  },
  {
   "cell_type": "code",
   "execution_count": 125,
   "metadata": {},
   "outputs": [],
   "source": [
    "df['was_fleeing'] = df['fleeing'].apply(lambda x: flee(x))"
   ]
  },
  {
   "cell_type": "code",
   "execution_count": 126,
   "metadata": {},
   "outputs": [],
   "source": [
    "df.drop('fleeing', axis = 'columns', inplace = True)"
   ]
  },
  {
   "cell_type": "markdown",
   "metadata": {},
   "source": [
    "<h3>For col 'geography type'"
   ]
  },
  {
   "cell_type": "code",
   "execution_count": 127,
   "metadata": {},
   "outputs": [
    {
     "data": {
      "text/plain": [
       "array([nan, 'Rural', 'Urban', 'Suburban', 'Undetermined'], dtype=object)"
      ]
     },
     "execution_count": 127,
     "metadata": {},
     "output_type": "execute_result"
    }
   ],
   "source": [
    "df['geography type'].unique()\n",
    "\n",
    "#convert 'underdetermined' values into NA"
   ]
  },
  {
   "cell_type": "code",
   "execution_count": 128,
   "metadata": {},
   "outputs": [],
   "source": [
    "df['geography type'].replace('Undetermined', np.nan, inplace=True)"
   ]
  },
  {
   "cell_type": "markdown",
   "metadata": {},
   "source": [
    "<h3>For column 'mental illness'"
   ]
  },
  {
   "cell_type": "code",
   "execution_count": 129,
   "metadata": {},
   "outputs": [
    {
     "data": {
      "text/plain": [
       "mental illness\n",
       "False                  1533\n",
       "True                    483\n",
       "Drug or alcohol use     291\n",
       "No                     4874\n",
       "Unknown                1058\n",
       "Unknown                   1\n",
       "Unkown                    1\n",
       "Yes                    1452\n",
       "unknown                   1\n",
       "dtype: int64"
      ]
     },
     "execution_count": 129,
     "metadata": {},
     "output_type": "execute_result"
    }
   ],
   "source": [
    "df.groupby('mental illness').size()"
   ]
  },
  {
   "cell_type": "code",
   "execution_count": 130,
   "metadata": {},
   "outputs": [],
   "source": [
    "df['mental_illness'] = np.where((df['mental illness'] == 'False') | (df['mental illness'] == 'No'), 0, \n",
    "                                np.where((df['mental illness'] == 'True') | (df['mental illness'] == 'Yes'), 1, np.nan))\n",
    "\n"
   ]
  },
  {
   "cell_type": "code",
   "execution_count": 131,
   "metadata": {},
   "outputs": [],
   "source": [
    "#remove old col\n",
    "df.drop('mental illness', axis = 'columns', inplace = True)"
   ]
  },
  {
   "cell_type": "code",
   "execution_count": null,
   "metadata": {},
   "outputs": [],
   "source": []
  }
 ],
 "metadata": {
  "kernelspec": {
   "display_name": "Python 3",
   "language": "python",
   "name": "python3"
  },
  "language_info": {
   "codemirror_mode": {
    "name": "ipython",
    "version": 3
   },
   "file_extension": ".py",
   "mimetype": "text/x-python",
   "name": "python",
   "nbconvert_exporter": "python",
   "pygments_lexer": "ipython3",
   "version": "3.8.8"
  }
 },
 "nbformat": 4,
 "nbformat_minor": 4
}
