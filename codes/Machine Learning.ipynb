{
 "cells": [
  {
   "cell_type": "code",
   "execution_count": 138,
   "metadata": {},
   "outputs": [],
   "source": [
    "import pandas as pd\n",
    "import numpy as np \n",
    "import pylab \n",
    "import scipy.stats as stats\n",
    "import matplotlib\n",
    "import matplotlib.pyplot as plt\n",
    "matplotlib.style.use('ggplot')\n",
    "%matplotlib inline"
   ]
  },
  {
   "cell_type": "markdown",
   "metadata": {},
   "source": [
    "<h1>Merge the 2 datasets of people who were killed and not killed"
   ]
  },
  {
   "cell_type": "code",
   "execution_count": 139,
   "metadata": {},
   "outputs": [],
   "source": [
    "df_killed = pd.read_csv('cleaned_dataset_killed_for_ML.csv')"
   ]
  },
  {
   "cell_type": "code",
   "execution_count": 140,
   "metadata": {},
   "outputs": [],
   "source": [
    "df_not_killed = pd.read_csv('cleaned_dataset_not_killed.csv')"
   ]
  },
  {
   "cell_type": "code",
   "execution_count": 141,
   "metadata": {
    "scrolled": true
   },
   "outputs": [
    {
     "data": {
      "text/plain": [
       "Index(['age', 'race', 'date', 'state', 'police_agency', 'description of death',\n",
       "       'was armed', 'weapon on victim', 'geography type', 'male',\n",
       "       'shooting_involved', 'taser_involved', 'physical_violence_involved',\n",
       "       'justified', 'armed_with_gun', 'armed_with_knife', 'was_a_threat',\n",
       "       'was_fleeing', 'mental_illness', 'home_involved', 'vehicle_involved'],\n",
       "      dtype='object')"
      ]
     },
     "execution_count": 141,
     "metadata": {},
     "output_type": "execute_result"
    }
   ],
   "source": [
    "df_killed.columns\n"
   ]
  },
  {
   "cell_type": "code",
   "execution_count": 142,
   "metadata": {},
   "outputs": [
    {
     "data": {
      "text/plain": [
       "7698"
      ]
     },
     "execution_count": 142,
     "metadata": {},
     "output_type": "execute_result"
    }
   ],
   "source": [
    "len(df_killed)"
   ]
  },
  {
   "cell_type": "code",
   "execution_count": 143,
   "metadata": {
    "scrolled": true
   },
   "outputs": [
    {
     "data": {
      "text/plain": [
       "Index(['state', 'police_agency', 'age', 'race', 'killed', 'weapon on victim',\n",
       "       'description of event', 'justified', 'male', 'armed_with_gun',\n",
       "       'armed_with_knife', 'vehicle_involved', 'home_involved', 'was_fleeing',\n",
       "       'shooting_involved', 'taser_involved', 'physical_violence_involved'],\n",
       "      dtype='object')"
      ]
     },
     "execution_count": 143,
     "metadata": {},
     "output_type": "execute_result"
    }
   ],
   "source": [
    "df_not_killed.columns\n"
   ]
  },
  {
   "cell_type": "code",
   "execution_count": 144,
   "metadata": {},
   "outputs": [
    {
     "data": {
      "text/plain": [
       "573"
      ]
     },
     "execution_count": 144,
     "metadata": {},
     "output_type": "execute_result"
    }
   ],
   "source": [
    "len(df_not_killed)"
   ]
  },
  {
   "cell_type": "markdown",
   "metadata": {},
   "source": [
    "<h3>add new col, 'killed', into df_killed"
   ]
  },
  {
   "cell_type": "code",
   "execution_count": 145,
   "metadata": {},
   "outputs": [],
   "source": [
    "df_killed['killed'] = 1"
   ]
  },
  {
   "cell_type": "markdown",
   "metadata": {},
   "source": [
    "<h3>merge the 2 datasets"
   ]
  },
  {
   "cell_type": "code",
   "execution_count": 146,
   "metadata": {},
   "outputs": [],
   "source": [
    "df = pd.concat([df_killed, df_not_killed], axis = 'rows')"
   ]
  },
  {
   "cell_type": "code",
   "execution_count": 147,
   "metadata": {
    "scrolled": true
   },
   "outputs": [
    {
     "data": {
      "text/plain": [
       "Index(['age', 'race', 'date', 'state', 'police_agency', 'description of death',\n",
       "       'was armed', 'weapon on victim', 'geography type', 'male',\n",
       "       'shooting_involved', 'taser_involved', 'physical_violence_involved',\n",
       "       'justified', 'armed_with_gun', 'armed_with_knife', 'was_a_threat',\n",
       "       'was_fleeing', 'mental_illness', 'home_involved', 'vehicle_involved',\n",
       "       'killed', 'description of event'],\n",
       "      dtype='object')"
      ]
     },
     "execution_count": 147,
     "metadata": {},
     "output_type": "execute_result"
    }
   ],
   "source": [
    "df.columns"
   ]
  },
  {
   "cell_type": "code",
   "execution_count": 148,
   "metadata": {},
   "outputs": [],
   "source": [
    "df.reset_index(inplace=True)"
   ]
  },
  {
   "cell_type": "code",
   "execution_count": 149,
   "metadata": {},
   "outputs": [],
   "source": [
    "df.drop('index', axis = 'columns', inplace = True)"
   ]
  },
  {
   "cell_type": "markdown",
   "metadata": {},
   "source": [
    "<h1>add state-level features"
   ]
  },
  {
   "cell_type": "markdown",
   "metadata": {},
   "source": [
    "From making visualisations of the correlation between number of police killings and:\n",
    "1) Average income level of a state\n",
    "2) Average education level of a state\n",
    "3) Average share of whites, average share of blacks of a state\n",
    "\n",
    "We found that there is a relationship in all 3 cases. So we add each of the 3 factors into our model"
   ]
  },
  {
   "cell_type": "code",
   "execution_count": 150,
   "metadata": {},
   "outputs": [],
   "source": [
    "income_data = pd.read_csv(\"MedianHouseholdIncome2015.csv\", encoding = \"ISO-8859-1\")\n",
    "income_data['Median Income'] = pd.to_numeric(income_data['Median Income'],errors='coerce')\n",
    "avgincome = pd.DataFrame({'income' : income_data.groupby(['Geographic Area'])['Median Income'].mean()}).reset_index()\n"
   ]
  },
  {
   "cell_type": "code",
   "execution_count": 151,
   "metadata": {},
   "outputs": [],
   "source": [
    "race_data = pd.read_csv(\"ShareRaceByCity.csv\", encoding = \"ISO-8859-1\")\n",
    "race_data['share_white'] = pd.to_numeric(race_data['share_white'],errors='coerce')\n",
    "race_data['share_black'] = pd.to_numeric(race_data['share_black'],errors='coerce')\n",
    "\n",
    "avgwhite = pd.DataFrame({'avgwhite' : race_data.groupby(['Geographic area'])['share_white'].mean()}).reset_index()\n",
    "avgblack = pd.DataFrame({'avgblack' : race_data.groupby(['Geographic area'])['share_black'].mean()}).reset_index()\n"
   ]
  },
  {
   "cell_type": "code",
   "execution_count": 152,
   "metadata": {},
   "outputs": [],
   "source": [
    "education_data = pd.read_csv(\"PercentOver25CompletedHighSchool.csv\", encoding = \"ISO-8859-1\")\n",
    "education_data['percent_completed_hs'] = pd.to_numeric(education_data['percent_completed_hs'],errors='coerce')\n",
    "avgedu = pd.DataFrame({'avgedu' : education_data.groupby(['Geographic Area'])['percent_completed_hs'].mean()}).reset_index()\n"
   ]
  },
  {
   "cell_type": "code",
   "execution_count": 153,
   "metadata": {},
   "outputs": [],
   "source": [
    "def applyincome(state):\n",
    "    for i in range(avgincome['Geographic Area'].size):\n",
    "        if avgincome['Geographic Area'].iloc[i] == state:\n",
    "            return avgincome['income'].iloc[i]"
   ]
  },
  {
   "cell_type": "code",
   "execution_count": 154,
   "metadata": {},
   "outputs": [],
   "source": [
    "def applyavgedu(state):\n",
    "    for i in range(avgedu['Geographic Area'].size):\n",
    "        if avgedu['Geographic Area'].iloc[i] == state:\n",
    "            return avgedu['avgedu'].iloc[i]"
   ]
  },
  {
   "cell_type": "code",
   "execution_count": 155,
   "metadata": {},
   "outputs": [],
   "source": [
    "def applyavgwhite(state):\n",
    "    for i in range(avgwhite['Geographic area'].size):\n",
    "        if avgwhite['Geographic area'].iloc[i] == state:\n",
    "            return avgwhite['avgwhite'].iloc[i]"
   ]
  },
  {
   "cell_type": "code",
   "execution_count": 156,
   "metadata": {},
   "outputs": [],
   "source": [
    "df['state_log_income'] = np.log(df['state'].apply(applyincome))  #we log median household income to scale the income figures down, so that they can be around the same scale as the other continuous variables in our dataset\n",
    "df['state_white_share'] = df['state'].apply(applyavgwhite)\n",
    "df['state_education_level'] = df['state'].apply(applyavgedu)"
   ]
  },
  {
   "cell_type": "code",
   "execution_count": 157,
   "metadata": {},
   "outputs": [],
   "source": [
    "df.drop('state', axis = 'columns', inplace = True)  #remove state else multicollinearity"
   ]
  },
  {
   "cell_type": "markdown",
   "metadata": {},
   "source": [
    "<h1>encode categorical variables"
   ]
  },
  {
   "cell_type": "markdown",
   "metadata": {},
   "source": [
    "<h3>1) do target encoding on 'agency' col</h3>\n",
    "<br>https://maxhalford.github.io/blog/target-encoding/"
   ]
  },
  {
   "cell_type": "code",
   "execution_count": 158,
   "metadata": {},
   "outputs": [],
   "source": [
    "from category_encoders import TargetEncoder"
   ]
  },
  {
   "cell_type": "code",
   "execution_count": 159,
   "metadata": {},
   "outputs": [],
   "source": [
    "encoder = TargetEncoder()\n",
    "df['police_agency_encoded'] = encoder.fit_transform(df['police_agency'], df['killed'])"
   ]
  },
  {
   "cell_type": "code",
   "execution_count": 160,
   "metadata": {},
   "outputs": [],
   "source": [
    "df.drop('police_agency', axis = 'columns', inplace = True)"
   ]
  },
  {
   "cell_type": "markdown",
   "metadata": {},
   "source": [
    "<h3>2) do one hot encoding on 'geography_type' col\n",
    "\n"
   ]
  },
  {
   "cell_type": "code",
   "execution_count": 161,
   "metadata": {},
   "outputs": [
    {
     "data": {
      "text/html": [
       "<div>\n",
       "<style scoped>\n",
       "    .dataframe tbody tr th:only-of-type {\n",
       "        vertical-align: middle;\n",
       "    }\n",
       "\n",
       "    .dataframe tbody tr th {\n",
       "        vertical-align: top;\n",
       "    }\n",
       "\n",
       "    .dataframe thead th {\n",
       "        text-align: right;\n",
       "    }\n",
       "</style>\n",
       "<table border=\"1\" class=\"dataframe\">\n",
       "  <thead>\n",
       "    <tr style=\"text-align: right;\">\n",
       "      <th></th>\n",
       "      <th>geography_type_Rural</th>\n",
       "      <th>geography_type_Suburban</th>\n",
       "      <th>geography_type_Urban</th>\n",
       "    </tr>\n",
       "  </thead>\n",
       "  <tbody>\n",
       "    <tr>\n",
       "      <th>0</th>\n",
       "      <td>0</td>\n",
       "      <td>0</td>\n",
       "      <td>0</td>\n",
       "    </tr>\n",
       "    <tr>\n",
       "      <th>1</th>\n",
       "      <td>0</td>\n",
       "      <td>0</td>\n",
       "      <td>0</td>\n",
       "    </tr>\n",
       "    <tr>\n",
       "      <th>2</th>\n",
       "      <td>1</td>\n",
       "      <td>0</td>\n",
       "      <td>0</td>\n",
       "    </tr>\n",
       "    <tr>\n",
       "      <th>3</th>\n",
       "      <td>0</td>\n",
       "      <td>0</td>\n",
       "      <td>1</td>\n",
       "    </tr>\n",
       "    <tr>\n",
       "      <th>4</th>\n",
       "      <td>0</td>\n",
       "      <td>1</td>\n",
       "      <td>0</td>\n",
       "    </tr>\n",
       "    <tr>\n",
       "      <th>...</th>\n",
       "      <td>...</td>\n",
       "      <td>...</td>\n",
       "      <td>...</td>\n",
       "    </tr>\n",
       "    <tr>\n",
       "      <th>8266</th>\n",
       "      <td>0</td>\n",
       "      <td>0</td>\n",
       "      <td>0</td>\n",
       "    </tr>\n",
       "    <tr>\n",
       "      <th>8267</th>\n",
       "      <td>0</td>\n",
       "      <td>0</td>\n",
       "      <td>0</td>\n",
       "    </tr>\n",
       "    <tr>\n",
       "      <th>8268</th>\n",
       "      <td>0</td>\n",
       "      <td>0</td>\n",
       "      <td>0</td>\n",
       "    </tr>\n",
       "    <tr>\n",
       "      <th>8269</th>\n",
       "      <td>0</td>\n",
       "      <td>0</td>\n",
       "      <td>0</td>\n",
       "    </tr>\n",
       "    <tr>\n",
       "      <th>8270</th>\n",
       "      <td>0</td>\n",
       "      <td>0</td>\n",
       "      <td>0</td>\n",
       "    </tr>\n",
       "  </tbody>\n",
       "</table>\n",
       "<p>8271 rows × 3 columns</p>\n",
       "</div>"
      ],
      "text/plain": [
       "      geography_type_Rural  geography_type_Suburban  geography_type_Urban\n",
       "0                        0                        0                     0\n",
       "1                        0                        0                     0\n",
       "2                        1                        0                     0\n",
       "3                        0                        0                     1\n",
       "4                        0                        1                     0\n",
       "...                    ...                      ...                   ...\n",
       "8266                     0                        0                     0\n",
       "8267                     0                        0                     0\n",
       "8268                     0                        0                     0\n",
       "8269                     0                        0                     0\n",
       "8270                     0                        0                     0\n",
       "\n",
       "[8271 rows x 3 columns]"
      ]
     },
     "execution_count": 161,
     "metadata": {},
     "output_type": "execute_result"
    }
   ],
   "source": [
    "geography_type_dummies = pd.get_dummies(df['geography type'], prefix='geography_type')\n",
    "geography_type_dummies\n"
   ]
  },
  {
   "cell_type": "code",
   "execution_count": 162,
   "metadata": {},
   "outputs": [],
   "source": [
    "df = pd.concat([df, geography_type_dummies], axis=1)"
   ]
  },
  {
   "cell_type": "code",
   "execution_count": 163,
   "metadata": {},
   "outputs": [],
   "source": [
    "for ind in df.index:\n",
    "    row = df.loc[ind]\n",
    "    if row['geography_type_Rural'] == 0 and row['geography_type_Suburban'] == 0 and row['geography_type_Urban'] == 0:\n",
    "        df.loc[ind, 'geography_type_Rural'] = np.nan\n",
    "        df.loc[ind, 'geography_type_Suburban'] = np.nan\n",
    "        df.loc[ind, 'geography_type_Urban'] = np.nan\n",
    "    \n",
    "    "
   ]
  },
  {
   "cell_type": "code",
   "execution_count": 164,
   "metadata": {},
   "outputs": [],
   "source": [
    "df.drop('geography type', axis = 'columns', inplace = True)"
   ]
  },
  {
   "cell_type": "markdown",
   "metadata": {},
   "source": [
    "<h3>3) do one hot encoding on 'race' col"
   ]
  },
  {
   "cell_type": "code",
   "execution_count": 165,
   "metadata": {},
   "outputs": [],
   "source": [
    "race_dummies = pd.get_dummies(df['race'], prefix='race')\n"
   ]
  },
  {
   "cell_type": "code",
   "execution_count": 166,
   "metadata": {},
   "outputs": [],
   "source": [
    "df = pd.concat([df, race_dummies], axis=1)"
   ]
  },
  {
   "cell_type": "code",
   "execution_count": 167,
   "metadata": {},
   "outputs": [
    {
     "data": {
      "text/plain": [
       "Index(['age', 'race', 'date', 'description of death', 'was armed',\n",
       "       'weapon on victim', 'male', 'shooting_involved', 'taser_involved',\n",
       "       'physical_violence_involved', 'justified', 'armed_with_gun',\n",
       "       'armed_with_knife', 'was_a_threat', 'was_fleeing', 'mental_illness',\n",
       "       'home_involved', 'vehicle_involved', 'killed', 'description of event',\n",
       "       'state_log_income', 'state_white_share', 'state_education_level',\n",
       "       'police_agency_encoded', 'geography_type_Rural',\n",
       "       'geography_type_Suburban', 'geography_type_Urban', 'race_Asian',\n",
       "       'race_Black', 'race_Hispanic', 'race_Native American', 'race_White'],\n",
       "      dtype='object')"
      ]
     },
     "execution_count": 167,
     "metadata": {},
     "output_type": "execute_result"
    }
   ],
   "source": [
    "df.columns"
   ]
  },
  {
   "cell_type": "code",
   "execution_count": 168,
   "metadata": {},
   "outputs": [],
   "source": [
    "for ind in df.index:\n",
    "    row = df.loc[ind]\n",
    "    if row['race_Asian'] == 0 and row['race_Black'] == 0 and row['race_Hispanic'] == 0 and row['race_Native American'] == 0 and row['race_White'] == 0:\n",
    "        df.loc[ind, 'race_Asian'] = np.nan\n",
    "        df.loc[ind, 'race_Black'] = np.nan\n",
    "        df.loc[ind, 'race_Hispanic'] = np.nan\n",
    "        df.loc[ind, 'race_Native American'] = np.nan\n",
    "        df.loc[ind, 'race_White'] = np.nan\n",
    "    "
   ]
  },
  {
   "cell_type": "code",
   "execution_count": 169,
   "metadata": {},
   "outputs": [],
   "source": [
    "df.drop('race', axis = 'columns', inplace = True)"
   ]
  },
  {
   "cell_type": "markdown",
   "metadata": {},
   "source": [
    "<h1>subset df to only the cols we are using in our model\n"
   ]
  },
  {
   "cell_type": "code",
   "execution_count": 170,
   "metadata": {},
   "outputs": [],
   "source": [
    "df = df.drop(['date', 'description of death', 'was armed', 'weapon on victim', 'description of event'], axis = 'columns')\n"
   ]
  },
  {
   "cell_type": "code",
   "execution_count": 171,
   "metadata": {},
   "outputs": [
    {
     "data": {
      "text/plain": [
       "Index(['age', 'male', 'shooting_involved', 'taser_involved',\n",
       "       'physical_violence_involved', 'justified', 'armed_with_gun',\n",
       "       'armed_with_knife', 'was_a_threat', 'was_fleeing', 'mental_illness',\n",
       "       'home_involved', 'vehicle_involved', 'killed', 'state_log_income',\n",
       "       'state_white_share', 'state_education_level', 'police_agency_encoded',\n",
       "       'geography_type_Rural', 'geography_type_Suburban',\n",
       "       'geography_type_Urban', 'race_Asian', 'race_Black', 'race_Hispanic',\n",
       "       'race_Native American', 'race_White'],\n",
       "      dtype='object')"
      ]
     },
     "execution_count": 171,
     "metadata": {},
     "output_type": "execute_result"
    }
   ],
   "source": [
    "df.columns"
   ]
  },
  {
   "cell_type": "code",
   "execution_count": 172,
   "metadata": {},
   "outputs": [
    {
     "name": "stdout",
     "output_type": "stream",
     "text": [
      "<class 'pandas.core.frame.DataFrame'>\n",
      "RangeIndex: 8271 entries, 0 to 8270\n",
      "Data columns (total 26 columns):\n",
      " #   Column                      Non-Null Count  Dtype  \n",
      "---  ------                      --------------  -----  \n",
      " 0   age                         8021 non-null   float64\n",
      " 1   male                        8244 non-null   float64\n",
      " 2   shooting_involved           8252 non-null   float64\n",
      " 3   taser_involved              8250 non-null   float64\n",
      " 4   physical_violence_involved  8250 non-null   float64\n",
      " 5   justified                   1976 non-null   float64\n",
      " 6   armed_with_gun              8271 non-null   float64\n",
      " 7   armed_with_knife            8271 non-null   float64\n",
      " 8   was_a_threat                5568 non-null   float64\n",
      " 9   was_fleeing                 5772 non-null   float64\n",
      " 10  mental_illness              6322 non-null   float64\n",
      " 11  home_involved               8250 non-null   float64\n",
      " 12  vehicle_involved            8271 non-null   float64\n",
      " 13  killed                      8271 non-null   int64  \n",
      " 14  state_log_income            8271 non-null   float64\n",
      " 15  state_white_share           8271 non-null   float64\n",
      " 16  state_education_level       8271 non-null   float64\n",
      " 17  police_agency_encoded       8271 non-null   float64\n",
      " 18  geography_type_Rural        7641 non-null   float64\n",
      " 19  geography_type_Suburban     7641 non-null   float64\n",
      " 20  geography_type_Urban        7641 non-null   float64\n",
      " 21  race_Asian                  7966 non-null   float64\n",
      " 22  race_Black                  7966 non-null   float64\n",
      " 23  race_Hispanic               7966 non-null   float64\n",
      " 24  race_Native American        7966 non-null   float64\n",
      " 25  race_White                  7966 non-null   float64\n",
      "dtypes: float64(25), int64(1)\n",
      "memory usage: 1.6 MB\n"
     ]
    }
   ],
   "source": [
    "df.info()"
   ]
  },
  {
   "cell_type": "code",
   "execution_count": 173,
   "metadata": {},
   "outputs": [
    {
     "data": {
      "text/plain": [
       "8271"
      ]
     },
     "execution_count": 173,
     "metadata": {},
     "output_type": "execute_result"
    }
   ],
   "source": [
    "len(df)"
   ]
  },
  {
   "cell_type": "markdown",
   "metadata": {},
   "source": [
    "<h1>impute missing values using KNN imputation"
   ]
  },
  {
   "cell_type": "code",
   "execution_count": 174,
   "metadata": {},
   "outputs": [],
   "source": [
    "from sklearn.impute import KNNImputer"
   ]
  },
  {
   "cell_type": "code",
   "execution_count": 175,
   "metadata": {},
   "outputs": [],
   "source": [
    "imputer = KNNImputer(n_neighbors=5)"
   ]
  },
  {
   "cell_type": "code",
   "execution_count": 176,
   "metadata": {
    "scrolled": false
   },
   "outputs": [],
   "source": [
    "array = imputer.fit_transform(df)"
   ]
  },
  {
   "cell_type": "code",
   "execution_count": 177,
   "metadata": {
    "scrolled": true
   },
   "outputs": [],
   "source": [
    "df = pd.DataFrame(array, columns=df.columns)"
   ]
  },
  {
   "cell_type": "code",
   "execution_count": 178,
   "metadata": {
    "scrolled": true
   },
   "outputs": [
    {
     "name": "stdout",
     "output_type": "stream",
     "text": [
      "<class 'pandas.core.frame.DataFrame'>\n",
      "RangeIndex: 8271 entries, 0 to 8270\n",
      "Data columns (total 26 columns):\n",
      " #   Column                      Non-Null Count  Dtype  \n",
      "---  ------                      --------------  -----  \n",
      " 0   age                         8271 non-null   float64\n",
      " 1   male                        8271 non-null   float64\n",
      " 2   shooting_involved           8271 non-null   float64\n",
      " 3   taser_involved              8271 non-null   float64\n",
      " 4   physical_violence_involved  8271 non-null   float64\n",
      " 5   justified                   8271 non-null   float64\n",
      " 6   armed_with_gun              8271 non-null   float64\n",
      " 7   armed_with_knife            8271 non-null   float64\n",
      " 8   was_a_threat                8271 non-null   float64\n",
      " 9   was_fleeing                 8271 non-null   float64\n",
      " 10  mental_illness              8271 non-null   float64\n",
      " 11  home_involved               8271 non-null   float64\n",
      " 12  vehicle_involved            8271 non-null   float64\n",
      " 13  killed                      8271 non-null   float64\n",
      " 14  state_log_income            8271 non-null   float64\n",
      " 15  state_white_share           8271 non-null   float64\n",
      " 16  state_education_level       8271 non-null   float64\n",
      " 17  police_agency_encoded       8271 non-null   float64\n",
      " 18  geography_type_Rural        8271 non-null   float64\n",
      " 19  geography_type_Suburban     8271 non-null   float64\n",
      " 20  geography_type_Urban        8271 non-null   float64\n",
      " 21  race_Asian                  8271 non-null   float64\n",
      " 22  race_Black                  8271 non-null   float64\n",
      " 23  race_Hispanic               8271 non-null   float64\n",
      " 24  race_Native American        8271 non-null   float64\n",
      " 25  race_White                  8271 non-null   float64\n",
      "dtypes: float64(26)\n",
      "memory usage: 1.6 MB\n"
     ]
    }
   ],
   "source": [
    "df.info()"
   ]
  },
  {
   "cell_type": "markdown",
   "metadata": {},
   "source": [
    "<h1>split into training and testing data"
   ]
  },
  {
   "cell_type": "code",
   "execution_count": 179,
   "metadata": {},
   "outputs": [],
   "source": [
    "from sklearn.model_selection import train_test_split\n",
    "train, test = train_test_split(df, test_size = 0.3)"
   ]
  },
  {
   "cell_type": "markdown",
   "metadata": {},
   "source": [
    "<h1>handle class imbalance in 'killed' (too little killed=0): upsample minority class</h1>"
   ]
  },
  {
   "cell_type": "code",
   "execution_count": 180,
   "metadata": {},
   "outputs": [],
   "source": [
    "from sklearn.utils import resample"
   ]
  },
  {
   "cell_type": "code",
   "execution_count": 181,
   "metadata": {},
   "outputs": [],
   "source": [
    "train_majority = train[train.killed==1]\n",
    "train_minority = train[train.killed==0]\n",
    " \n",
    "# Upsample minority class\n",
    "train_minority_upsampled = resample(train_minority, \n",
    "                                 replace=True,     # sample with replacement\n",
    "                                 n_samples=len(train_majority),    # to match majority class\n",
    "                                 random_state=15) # reproducible results\n",
    " \n",
    "train = pd.concat([train_majority, train_minority_upsampled])\n",
    " "
   ]
  },
  {
   "cell_type": "code",
   "execution_count": 182,
   "metadata": {
    "scrolled": false
   },
   "outputs": [
    {
     "data": {
      "text/plain": [
       "0.0    5388\n",
       "1.0    5388\n",
       "Name: killed, dtype: int64"
      ]
     },
     "execution_count": 182,
     "metadata": {},
     "output_type": "execute_result"
    }
   ],
   "source": [
    "# new class counts: check they are the same\n",
    "train.killed.value_counts()"
   ]
  },
  {
   "cell_type": "markdown",
   "metadata": {},
   "source": [
    "<h1>create X and y vars"
   ]
  },
  {
   "cell_type": "code",
   "execution_count": 183,
   "metadata": {},
   "outputs": [],
   "source": [
    "X_train = train.drop('killed', axis = 'columns')\n",
    "y_train = train['killed']\n",
    "X_test = test.drop('killed', axis = 'columns')\n",
    "y_test = test['killed']"
   ]
  },
  {
   "cell_type": "markdown",
   "metadata": {},
   "source": [
    "<h1>normalize features</h1>"
   ]
  },
  {
   "cell_type": "code",
   "execution_count": 184,
   "metadata": {
    "scrolled": false
   },
   "outputs": [
    {
     "data": {
      "text/html": [
       "<div>\n",
       "<style scoped>\n",
       "    .dataframe tbody tr th:only-of-type {\n",
       "        vertical-align: middle;\n",
       "    }\n",
       "\n",
       "    .dataframe tbody tr th {\n",
       "        vertical-align: top;\n",
       "    }\n",
       "\n",
       "    .dataframe thead th {\n",
       "        text-align: right;\n",
       "    }\n",
       "</style>\n",
       "<table border=\"1\" class=\"dataframe\">\n",
       "  <thead>\n",
       "    <tr style=\"text-align: right;\">\n",
       "      <th></th>\n",
       "      <th>age</th>\n",
       "      <th>male</th>\n",
       "      <th>shooting_involved</th>\n",
       "      <th>taser_involved</th>\n",
       "      <th>physical_violence_involved</th>\n",
       "      <th>justified</th>\n",
       "      <th>armed_with_gun</th>\n",
       "      <th>armed_with_knife</th>\n",
       "      <th>was_a_threat</th>\n",
       "      <th>was_fleeing</th>\n",
       "      <th>...</th>\n",
       "      <th>state_education_level</th>\n",
       "      <th>police_agency_encoded</th>\n",
       "      <th>geography_type_Rural</th>\n",
       "      <th>geography_type_Suburban</th>\n",
       "      <th>geography_type_Urban</th>\n",
       "      <th>race_Asian</th>\n",
       "      <th>race_Black</th>\n",
       "      <th>race_Hispanic</th>\n",
       "      <th>race_Native American</th>\n",
       "      <th>race_White</th>\n",
       "    </tr>\n",
       "  </thead>\n",
       "  <tbody>\n",
       "    <tr>\n",
       "      <th>count</th>\n",
       "      <td>10776.000000</td>\n",
       "      <td>10776.000000</td>\n",
       "      <td>10776.000000</td>\n",
       "      <td>10776.000000</td>\n",
       "      <td>10776.000000</td>\n",
       "      <td>10776.000000</td>\n",
       "      <td>10776.000000</td>\n",
       "      <td>10776.000000</td>\n",
       "      <td>10776.000000</td>\n",
       "      <td>10776.000000</td>\n",
       "      <td>...</td>\n",
       "      <td>10776.000000</td>\n",
       "      <td>10776.000000</td>\n",
       "      <td>10776.000000</td>\n",
       "      <td>10776.000000</td>\n",
       "      <td>10776.000000</td>\n",
       "      <td>10776.000000</td>\n",
       "      <td>10776.000000</td>\n",
       "      <td>10776.000000</td>\n",
       "      <td>10776.000000</td>\n",
       "      <td>10776.000000</td>\n",
       "    </tr>\n",
       "    <tr>\n",
       "      <th>mean</th>\n",
       "      <td>34.023051</td>\n",
       "      <td>0.951670</td>\n",
       "      <td>0.975835</td>\n",
       "      <td>0.051151</td>\n",
       "      <td>0.005011</td>\n",
       "      <td>0.741518</td>\n",
       "      <td>0.510301</td>\n",
       "      <td>0.112658</td>\n",
       "      <td>0.634577</td>\n",
       "      <td>0.309261</td>\n",
       "      <td>...</td>\n",
       "      <td>84.669694</td>\n",
       "      <td>0.848956</td>\n",
       "      <td>0.207313</td>\n",
       "      <td>0.499536</td>\n",
       "      <td>0.293151</td>\n",
       "      <td>0.021863</td>\n",
       "      <td>0.322476</td>\n",
       "      <td>0.193189</td>\n",
       "      <td>0.018671</td>\n",
       "      <td>0.443801</td>\n",
       "    </tr>\n",
       "    <tr>\n",
       "      <th>std</th>\n",
       "      <td>13.256217</td>\n",
       "      <td>0.213639</td>\n",
       "      <td>0.152987</td>\n",
       "      <td>0.219606</td>\n",
       "      <td>0.070615</td>\n",
       "      <td>0.344468</td>\n",
       "      <td>0.499917</td>\n",
       "      <td>0.316189</td>\n",
       "      <td>0.350215</td>\n",
       "      <td>0.426791</td>\n",
       "      <td>...</td>\n",
       "      <td>4.482203</td>\n",
       "      <td>0.254114</td>\n",
       "      <td>0.331732</td>\n",
       "      <td>0.393949</td>\n",
       "      <td>0.364867</td>\n",
       "      <td>0.132892</td>\n",
       "      <td>0.425419</td>\n",
       "      <td>0.360811</td>\n",
       "      <td>0.119583</td>\n",
       "      <td>0.451165</td>\n",
       "    </tr>\n",
       "    <tr>\n",
       "      <th>min</th>\n",
       "      <td>1.000000</td>\n",
       "      <td>0.000000</td>\n",
       "      <td>0.000000</td>\n",
       "      <td>0.000000</td>\n",
       "      <td>0.000000</td>\n",
       "      <td>0.000000</td>\n",
       "      <td>0.000000</td>\n",
       "      <td>0.000000</td>\n",
       "      <td>0.000000</td>\n",
       "      <td>0.000000</td>\n",
       "      <td>...</td>\n",
       "      <td>75.690000</td>\n",
       "      <td>0.002301</td>\n",
       "      <td>0.000000</td>\n",
       "      <td>0.000000</td>\n",
       "      <td>0.000000</td>\n",
       "      <td>0.000000</td>\n",
       "      <td>0.000000</td>\n",
       "      <td>0.000000</td>\n",
       "      <td>0.000000</td>\n",
       "      <td>0.000000</td>\n",
       "    </tr>\n",
       "    <tr>\n",
       "      <th>25%</th>\n",
       "      <td>25.000000</td>\n",
       "      <td>1.000000</td>\n",
       "      <td>1.000000</td>\n",
       "      <td>0.000000</td>\n",
       "      <td>0.000000</td>\n",
       "      <td>0.600000</td>\n",
       "      <td>0.000000</td>\n",
       "      <td>0.000000</td>\n",
       "      <td>0.400000</td>\n",
       "      <td>0.000000</td>\n",
       "      <td>...</td>\n",
       "      <td>81.955430</td>\n",
       "      <td>0.930722</td>\n",
       "      <td>0.000000</td>\n",
       "      <td>0.000000</td>\n",
       "      <td>0.000000</td>\n",
       "      <td>0.000000</td>\n",
       "      <td>0.000000</td>\n",
       "      <td>0.000000</td>\n",
       "      <td>0.000000</td>\n",
       "      <td>0.000000</td>\n",
       "    </tr>\n",
       "    <tr>\n",
       "      <th>50%</th>\n",
       "      <td>31.200000</td>\n",
       "      <td>1.000000</td>\n",
       "      <td>1.000000</td>\n",
       "      <td>0.000000</td>\n",
       "      <td>0.000000</td>\n",
       "      <td>0.800000</td>\n",
       "      <td>1.000000</td>\n",
       "      <td>0.000000</td>\n",
       "      <td>0.800000</td>\n",
       "      <td>0.000000</td>\n",
       "      <td>...</td>\n",
       "      <td>84.880270</td>\n",
       "      <td>0.930722</td>\n",
       "      <td>0.000000</td>\n",
       "      <td>0.600000</td>\n",
       "      <td>0.200000</td>\n",
       "      <td>0.000000</td>\n",
       "      <td>0.000000</td>\n",
       "      <td>0.000000</td>\n",
       "      <td>0.000000</td>\n",
       "      <td>0.200000</td>\n",
       "    </tr>\n",
       "    <tr>\n",
       "      <th>75%</th>\n",
       "      <td>41.000000</td>\n",
       "      <td>1.000000</td>\n",
       "      <td>1.000000</td>\n",
       "      <td>0.000000</td>\n",
       "      <td>0.000000</td>\n",
       "      <td>1.000000</td>\n",
       "      <td>1.000000</td>\n",
       "      <td>0.000000</td>\n",
       "      <td>1.000000</td>\n",
       "      <td>0.800000</td>\n",
       "      <td>...</td>\n",
       "      <td>88.422481</td>\n",
       "      <td>0.981368</td>\n",
       "      <td>0.200000</td>\n",
       "      <td>1.000000</td>\n",
       "      <td>0.600000</td>\n",
       "      <td>0.000000</td>\n",
       "      <td>0.800000</td>\n",
       "      <td>0.200000</td>\n",
       "      <td>0.000000</td>\n",
       "      <td>1.000000</td>\n",
       "    </tr>\n",
       "    <tr>\n",
       "      <th>max</th>\n",
       "      <td>199.000000</td>\n",
       "      <td>1.000000</td>\n",
       "      <td>1.000000</td>\n",
       "      <td>1.000000</td>\n",
       "      <td>1.000000</td>\n",
       "      <td>1.000000</td>\n",
       "      <td>1.000000</td>\n",
       "      <td>1.000000</td>\n",
       "      <td>1.000000</td>\n",
       "      <td>1.000000</td>\n",
       "      <td>...</td>\n",
       "      <td>92.404082</td>\n",
       "      <td>1.000000</td>\n",
       "      <td>1.000000</td>\n",
       "      <td>1.000000</td>\n",
       "      <td>1.000000</td>\n",
       "      <td>1.000000</td>\n",
       "      <td>1.000000</td>\n",
       "      <td>1.000000</td>\n",
       "      <td>1.000000</td>\n",
       "      <td>1.000000</td>\n",
       "    </tr>\n",
       "  </tbody>\n",
       "</table>\n",
       "<p>8 rows × 25 columns</p>\n",
       "</div>"
      ],
      "text/plain": [
       "                age          male  shooting_involved  taser_involved  \\\n",
       "count  10776.000000  10776.000000       10776.000000    10776.000000   \n",
       "mean      34.023051      0.951670           0.975835        0.051151   \n",
       "std       13.256217      0.213639           0.152987        0.219606   \n",
       "min        1.000000      0.000000           0.000000        0.000000   \n",
       "25%       25.000000      1.000000           1.000000        0.000000   \n",
       "50%       31.200000      1.000000           1.000000        0.000000   \n",
       "75%       41.000000      1.000000           1.000000        0.000000   \n",
       "max      199.000000      1.000000           1.000000        1.000000   \n",
       "\n",
       "       physical_violence_involved     justified  armed_with_gun  \\\n",
       "count                10776.000000  10776.000000    10776.000000   \n",
       "mean                     0.005011      0.741518        0.510301   \n",
       "std                      0.070615      0.344468        0.499917   \n",
       "min                      0.000000      0.000000        0.000000   \n",
       "25%                      0.000000      0.600000        0.000000   \n",
       "50%                      0.000000      0.800000        1.000000   \n",
       "75%                      0.000000      1.000000        1.000000   \n",
       "max                      1.000000      1.000000        1.000000   \n",
       "\n",
       "       armed_with_knife  was_a_threat   was_fleeing  ...  \\\n",
       "count      10776.000000  10776.000000  10776.000000  ...   \n",
       "mean           0.112658      0.634577      0.309261  ...   \n",
       "std            0.316189      0.350215      0.426791  ...   \n",
       "min            0.000000      0.000000      0.000000  ...   \n",
       "25%            0.000000      0.400000      0.000000  ...   \n",
       "50%            0.000000      0.800000      0.000000  ...   \n",
       "75%            0.000000      1.000000      0.800000  ...   \n",
       "max            1.000000      1.000000      1.000000  ...   \n",
       "\n",
       "       state_education_level  police_agency_encoded  geography_type_Rural  \\\n",
       "count           10776.000000           10776.000000          10776.000000   \n",
       "mean               84.669694               0.848956              0.207313   \n",
       "std                 4.482203               0.254114              0.331732   \n",
       "min                75.690000               0.002301              0.000000   \n",
       "25%                81.955430               0.930722              0.000000   \n",
       "50%                84.880270               0.930722              0.000000   \n",
       "75%                88.422481               0.981368              0.200000   \n",
       "max                92.404082               1.000000              1.000000   \n",
       "\n",
       "       geography_type_Suburban  geography_type_Urban    race_Asian  \\\n",
       "count             10776.000000          10776.000000  10776.000000   \n",
       "mean                  0.499536              0.293151      0.021863   \n",
       "std                   0.393949              0.364867      0.132892   \n",
       "min                   0.000000              0.000000      0.000000   \n",
       "25%                   0.000000              0.000000      0.000000   \n",
       "50%                   0.600000              0.200000      0.000000   \n",
       "75%                   1.000000              0.600000      0.000000   \n",
       "max                   1.000000              1.000000      1.000000   \n",
       "\n",
       "         race_Black  race_Hispanic  race_Native American    race_White  \n",
       "count  10776.000000   10776.000000          10776.000000  10776.000000  \n",
       "mean       0.322476       0.193189              0.018671      0.443801  \n",
       "std        0.425419       0.360811              0.119583      0.451165  \n",
       "min        0.000000       0.000000              0.000000      0.000000  \n",
       "25%        0.000000       0.000000              0.000000      0.000000  \n",
       "50%        0.000000       0.000000              0.000000      0.200000  \n",
       "75%        0.800000       0.200000              0.000000      1.000000  \n",
       "max        1.000000       1.000000              1.000000      1.000000  \n",
       "\n",
       "[8 rows x 25 columns]"
      ]
     },
     "execution_count": 184,
     "metadata": {},
     "output_type": "execute_result"
    }
   ],
   "source": [
    "X_train.describe()"
   ]
  },
  {
   "cell_type": "code",
   "execution_count": 185,
   "metadata": {},
   "outputs": [
    {
     "data": {
      "text/html": [
       "<div>\n",
       "<style scoped>\n",
       "    .dataframe tbody tr th:only-of-type {\n",
       "        vertical-align: middle;\n",
       "    }\n",
       "\n",
       "    .dataframe tbody tr th {\n",
       "        vertical-align: top;\n",
       "    }\n",
       "\n",
       "    .dataframe thead th {\n",
       "        text-align: right;\n",
       "    }\n",
       "</style>\n",
       "<table border=\"1\" class=\"dataframe\">\n",
       "  <thead>\n",
       "    <tr style=\"text-align: right;\">\n",
       "      <th></th>\n",
       "      <th>age</th>\n",
       "      <th>male</th>\n",
       "      <th>shooting_involved</th>\n",
       "      <th>taser_involved</th>\n",
       "      <th>physical_violence_involved</th>\n",
       "      <th>justified</th>\n",
       "      <th>armed_with_gun</th>\n",
       "      <th>armed_with_knife</th>\n",
       "      <th>was_a_threat</th>\n",
       "      <th>was_fleeing</th>\n",
       "      <th>...</th>\n",
       "      <th>state_education_level</th>\n",
       "      <th>police_agency_encoded</th>\n",
       "      <th>geography_type_Rural</th>\n",
       "      <th>geography_type_Suburban</th>\n",
       "      <th>geography_type_Urban</th>\n",
       "      <th>race_Asian</th>\n",
       "      <th>race_Black</th>\n",
       "      <th>race_Hispanic</th>\n",
       "      <th>race_Native American</th>\n",
       "      <th>race_White</th>\n",
       "    </tr>\n",
       "  </thead>\n",
       "  <tbody>\n",
       "    <tr>\n",
       "      <th>count</th>\n",
       "      <td>2482.000000</td>\n",
       "      <td>2482.000000</td>\n",
       "      <td>2482.000000</td>\n",
       "      <td>2482.000000</td>\n",
       "      <td>2482.000000</td>\n",
       "      <td>2482.000000</td>\n",
       "      <td>2482.000000</td>\n",
       "      <td>2482.000000</td>\n",
       "      <td>2482.000000</td>\n",
       "      <td>2482.000000</td>\n",
       "      <td>...</td>\n",
       "      <td>2482.000000</td>\n",
       "      <td>2482.000000</td>\n",
       "      <td>2482.000000</td>\n",
       "      <td>2482.000000</td>\n",
       "      <td>2482.000000</td>\n",
       "      <td>2482.000000</td>\n",
       "      <td>2482.000000</td>\n",
       "      <td>2482.000000</td>\n",
       "      <td>2482.000000</td>\n",
       "      <td>2482.000000</td>\n",
       "    </tr>\n",
       "    <tr>\n",
       "      <th>mean</th>\n",
       "      <td>35.850282</td>\n",
       "      <td>0.945125</td>\n",
       "      <td>0.959307</td>\n",
       "      <td>0.051652</td>\n",
       "      <td>0.009670</td>\n",
       "      <td>0.791459</td>\n",
       "      <td>0.531426</td>\n",
       "      <td>0.137792</td>\n",
       "      <td>0.658743</td>\n",
       "      <td>0.334972</td>\n",
       "      <td>...</td>\n",
       "      <td>84.035790</td>\n",
       "      <td>0.947056</td>\n",
       "      <td>0.211523</td>\n",
       "      <td>0.510234</td>\n",
       "      <td>0.278243</td>\n",
       "      <td>0.017566</td>\n",
       "      <td>0.300242</td>\n",
       "      <td>0.197583</td>\n",
       "      <td>0.017647</td>\n",
       "      <td>0.466962</td>\n",
       "    </tr>\n",
       "    <tr>\n",
       "      <th>std</th>\n",
       "      <td>12.825497</td>\n",
       "      <td>0.227002</td>\n",
       "      <td>0.197618</td>\n",
       "      <td>0.221222</td>\n",
       "      <td>0.097877</td>\n",
       "      <td>0.256082</td>\n",
       "      <td>0.499112</td>\n",
       "      <td>0.344751</td>\n",
       "      <td>0.412948</td>\n",
       "      <td>0.416248</td>\n",
       "      <td>...</td>\n",
       "      <td>4.582027</td>\n",
       "      <td>0.116622</td>\n",
       "      <td>0.398481</td>\n",
       "      <td>0.485036</td>\n",
       "      <td>0.435860</td>\n",
       "      <td>0.129542</td>\n",
       "      <td>0.452936</td>\n",
       "      <td>0.394064</td>\n",
       "      <td>0.130338</td>\n",
       "      <td>0.492962</td>\n",
       "    </tr>\n",
       "    <tr>\n",
       "      <th>min</th>\n",
       "      <td>1.000000</td>\n",
       "      <td>0.000000</td>\n",
       "      <td>0.000000</td>\n",
       "      <td>0.000000</td>\n",
       "      <td>0.000000</td>\n",
       "      <td>0.000000</td>\n",
       "      <td>0.000000</td>\n",
       "      <td>0.000000</td>\n",
       "      <td>0.000000</td>\n",
       "      <td>0.000000</td>\n",
       "      <td>...</td>\n",
       "      <td>75.690000</td>\n",
       "      <td>0.002301</td>\n",
       "      <td>0.000000</td>\n",
       "      <td>0.000000</td>\n",
       "      <td>0.000000</td>\n",
       "      <td>0.000000</td>\n",
       "      <td>0.000000</td>\n",
       "      <td>0.000000</td>\n",
       "      <td>0.000000</td>\n",
       "      <td>0.000000</td>\n",
       "    </tr>\n",
       "    <tr>\n",
       "      <th>25%</th>\n",
       "      <td>26.000000</td>\n",
       "      <td>1.000000</td>\n",
       "      <td>1.000000</td>\n",
       "      <td>0.000000</td>\n",
       "      <td>0.000000</td>\n",
       "      <td>0.600000</td>\n",
       "      <td>0.000000</td>\n",
       "      <td>0.000000</td>\n",
       "      <td>0.200000</td>\n",
       "      <td>0.000000</td>\n",
       "      <td>...</td>\n",
       "      <td>80.849873</td>\n",
       "      <td>0.930722</td>\n",
       "      <td>0.000000</td>\n",
       "      <td>0.000000</td>\n",
       "      <td>0.000000</td>\n",
       "      <td>0.000000</td>\n",
       "      <td>0.000000</td>\n",
       "      <td>0.000000</td>\n",
       "      <td>0.000000</td>\n",
       "      <td>0.000000</td>\n",
       "    </tr>\n",
       "    <tr>\n",
       "      <th>50%</th>\n",
       "      <td>34.000000</td>\n",
       "      <td>1.000000</td>\n",
       "      <td>1.000000</td>\n",
       "      <td>0.000000</td>\n",
       "      <td>0.000000</td>\n",
       "      <td>0.800000</td>\n",
       "      <td>1.000000</td>\n",
       "      <td>0.000000</td>\n",
       "      <td>1.000000</td>\n",
       "      <td>0.000000</td>\n",
       "      <td>...</td>\n",
       "      <td>82.909743</td>\n",
       "      <td>0.981368</td>\n",
       "      <td>0.000000</td>\n",
       "      <td>0.600000</td>\n",
       "      <td>0.000000</td>\n",
       "      <td>0.000000</td>\n",
       "      <td>0.000000</td>\n",
       "      <td>0.000000</td>\n",
       "      <td>0.000000</td>\n",
       "      <td>0.000000</td>\n",
       "    </tr>\n",
       "    <tr>\n",
       "      <th>75%</th>\n",
       "      <td>44.000000</td>\n",
       "      <td>1.000000</td>\n",
       "      <td>1.000000</td>\n",
       "      <td>0.000000</td>\n",
       "      <td>0.000000</td>\n",
       "      <td>1.000000</td>\n",
       "      <td>1.000000</td>\n",
       "      <td>0.000000</td>\n",
       "      <td>1.000000</td>\n",
       "      <td>0.800000</td>\n",
       "      <td>...</td>\n",
       "      <td>88.344600</td>\n",
       "      <td>0.999829</td>\n",
       "      <td>0.000000</td>\n",
       "      <td>1.000000</td>\n",
       "      <td>1.000000</td>\n",
       "      <td>0.000000</td>\n",
       "      <td>1.000000</td>\n",
       "      <td>0.000000</td>\n",
       "      <td>0.000000</td>\n",
       "      <td>1.000000</td>\n",
       "    </tr>\n",
       "    <tr>\n",
       "      <th>max</th>\n",
       "      <td>95.000000</td>\n",
       "      <td>1.000000</td>\n",
       "      <td>1.000000</td>\n",
       "      <td>1.000000</td>\n",
       "      <td>1.000000</td>\n",
       "      <td>1.000000</td>\n",
       "      <td>1.000000</td>\n",
       "      <td>1.000000</td>\n",
       "      <td>1.000000</td>\n",
       "      <td>1.000000</td>\n",
       "      <td>...</td>\n",
       "      <td>92.404082</td>\n",
       "      <td>1.000000</td>\n",
       "      <td>1.000000</td>\n",
       "      <td>1.000000</td>\n",
       "      <td>1.000000</td>\n",
       "      <td>1.000000</td>\n",
       "      <td>1.000000</td>\n",
       "      <td>1.000000</td>\n",
       "      <td>1.000000</td>\n",
       "      <td>1.000000</td>\n",
       "    </tr>\n",
       "  </tbody>\n",
       "</table>\n",
       "<p>8 rows × 25 columns</p>\n",
       "</div>"
      ],
      "text/plain": [
       "               age         male  shooting_involved  taser_involved  \\\n",
       "count  2482.000000  2482.000000        2482.000000     2482.000000   \n",
       "mean     35.850282     0.945125           0.959307        0.051652   \n",
       "std      12.825497     0.227002           0.197618        0.221222   \n",
       "min       1.000000     0.000000           0.000000        0.000000   \n",
       "25%      26.000000     1.000000           1.000000        0.000000   \n",
       "50%      34.000000     1.000000           1.000000        0.000000   \n",
       "75%      44.000000     1.000000           1.000000        0.000000   \n",
       "max      95.000000     1.000000           1.000000        1.000000   \n",
       "\n",
       "       physical_violence_involved    justified  armed_with_gun  \\\n",
       "count                 2482.000000  2482.000000     2482.000000   \n",
       "mean                     0.009670     0.791459        0.531426   \n",
       "std                      0.097877     0.256082        0.499112   \n",
       "min                      0.000000     0.000000        0.000000   \n",
       "25%                      0.000000     0.600000        0.000000   \n",
       "50%                      0.000000     0.800000        1.000000   \n",
       "75%                      0.000000     1.000000        1.000000   \n",
       "max                      1.000000     1.000000        1.000000   \n",
       "\n",
       "       armed_with_knife  was_a_threat  was_fleeing  ...  \\\n",
       "count       2482.000000   2482.000000  2482.000000  ...   \n",
       "mean           0.137792      0.658743     0.334972  ...   \n",
       "std            0.344751      0.412948     0.416248  ...   \n",
       "min            0.000000      0.000000     0.000000  ...   \n",
       "25%            0.000000      0.200000     0.000000  ...   \n",
       "50%            0.000000      1.000000     0.000000  ...   \n",
       "75%            0.000000      1.000000     0.800000  ...   \n",
       "max            1.000000      1.000000     1.000000  ...   \n",
       "\n",
       "       state_education_level  police_agency_encoded  geography_type_Rural  \\\n",
       "count            2482.000000            2482.000000           2482.000000   \n",
       "mean               84.035790               0.947056              0.211523   \n",
       "std                 4.582027               0.116622              0.398481   \n",
       "min                75.690000               0.002301              0.000000   \n",
       "25%                80.849873               0.930722              0.000000   \n",
       "50%                82.909743               0.981368              0.000000   \n",
       "75%                88.344600               0.999829              0.000000   \n",
       "max                92.404082               1.000000              1.000000   \n",
       "\n",
       "       geography_type_Suburban  geography_type_Urban   race_Asian  \\\n",
       "count              2482.000000           2482.000000  2482.000000   \n",
       "mean                  0.510234              0.278243     0.017566   \n",
       "std                   0.485036              0.435860     0.129542   \n",
       "min                   0.000000              0.000000     0.000000   \n",
       "25%                   0.000000              0.000000     0.000000   \n",
       "50%                   0.600000              0.000000     0.000000   \n",
       "75%                   1.000000              1.000000     0.000000   \n",
       "max                   1.000000              1.000000     1.000000   \n",
       "\n",
       "        race_Black  race_Hispanic  race_Native American   race_White  \n",
       "count  2482.000000    2482.000000           2482.000000  2482.000000  \n",
       "mean      0.300242       0.197583              0.017647     0.466962  \n",
       "std       0.452936       0.394064              0.130338     0.492962  \n",
       "min       0.000000       0.000000              0.000000     0.000000  \n",
       "25%       0.000000       0.000000              0.000000     0.000000  \n",
       "50%       0.000000       0.000000              0.000000     0.000000  \n",
       "75%       1.000000       0.000000              0.000000     1.000000  \n",
       "max       1.000000       1.000000              1.000000     1.000000  \n",
       "\n",
       "[8 rows x 25 columns]"
      ]
     },
     "execution_count": 185,
     "metadata": {},
     "output_type": "execute_result"
    }
   ],
   "source": [
    "X_test.describe()"
   ]
  },
  {
   "cell_type": "code",
   "execution_count": 186,
   "metadata": {},
   "outputs": [],
   "source": [
    "from sklearn.preprocessing import MinMaxScaler\n",
    "\n",
    "# fit scaler on training data. use this to transform testing data too\n",
    "norm = MinMaxScaler().fit(X_train)\n",
    "\n",
    "# transform training data\n",
    "X_train = pd.DataFrame(norm.transform(X_train), columns=X_train.columns)\n",
    "\n",
    "# transform testing data\n",
    "X_test = pd.DataFrame(norm.transform(X_test), columns=X_test.columns)"
   ]
  },
  {
   "cell_type": "markdown",
   "metadata": {},
   "source": [
    "It is a good practice to fit the scaler on the training data and then use it to transform the testing data. This would avoid any data leakage during the model testing process"
   ]
  },
  {
   "cell_type": "code",
   "execution_count": 187,
   "metadata": {},
   "outputs": [
    {
     "data": {
      "text/html": [
       "<div>\n",
       "<style scoped>\n",
       "    .dataframe tbody tr th:only-of-type {\n",
       "        vertical-align: middle;\n",
       "    }\n",
       "\n",
       "    .dataframe tbody tr th {\n",
       "        vertical-align: top;\n",
       "    }\n",
       "\n",
       "    .dataframe thead th {\n",
       "        text-align: right;\n",
       "    }\n",
       "</style>\n",
       "<table border=\"1\" class=\"dataframe\">\n",
       "  <thead>\n",
       "    <tr style=\"text-align: right;\">\n",
       "      <th></th>\n",
       "      <th>age</th>\n",
       "      <th>male</th>\n",
       "      <th>shooting_involved</th>\n",
       "      <th>taser_involved</th>\n",
       "      <th>physical_violence_involved</th>\n",
       "      <th>justified</th>\n",
       "      <th>armed_with_gun</th>\n",
       "      <th>armed_with_knife</th>\n",
       "      <th>was_a_threat</th>\n",
       "      <th>was_fleeing</th>\n",
       "      <th>...</th>\n",
       "      <th>state_education_level</th>\n",
       "      <th>police_agency_encoded</th>\n",
       "      <th>geography_type_Rural</th>\n",
       "      <th>geography_type_Suburban</th>\n",
       "      <th>geography_type_Urban</th>\n",
       "      <th>race_Asian</th>\n",
       "      <th>race_Black</th>\n",
       "      <th>race_Hispanic</th>\n",
       "      <th>race_Native American</th>\n",
       "      <th>race_White</th>\n",
       "    </tr>\n",
       "  </thead>\n",
       "  <tbody>\n",
       "    <tr>\n",
       "      <th>count</th>\n",
       "      <td>10776.000000</td>\n",
       "      <td>10776.000000</td>\n",
       "      <td>10776.000000</td>\n",
       "      <td>10776.000000</td>\n",
       "      <td>10776.000000</td>\n",
       "      <td>10776.000000</td>\n",
       "      <td>10776.000000</td>\n",
       "      <td>10776.000000</td>\n",
       "      <td>10776.000000</td>\n",
       "      <td>10776.000000</td>\n",
       "      <td>...</td>\n",
       "      <td>10776.000000</td>\n",
       "      <td>10776.000000</td>\n",
       "      <td>10776.000000</td>\n",
       "      <td>10776.000000</td>\n",
       "      <td>10776.000000</td>\n",
       "      <td>10776.000000</td>\n",
       "      <td>10776.000000</td>\n",
       "      <td>10776.000000</td>\n",
       "      <td>10776.000000</td>\n",
       "      <td>10776.000000</td>\n",
       "    </tr>\n",
       "    <tr>\n",
       "      <th>mean</th>\n",
       "      <td>0.166783</td>\n",
       "      <td>0.951670</td>\n",
       "      <td>0.975835</td>\n",
       "      <td>0.051151</td>\n",
       "      <td>0.005011</td>\n",
       "      <td>0.741518</td>\n",
       "      <td>0.510301</td>\n",
       "      <td>0.112658</td>\n",
       "      <td>0.634577</td>\n",
       "      <td>0.309261</td>\n",
       "      <td>...</td>\n",
       "      <td>0.537253</td>\n",
       "      <td>0.848607</td>\n",
       "      <td>0.207313</td>\n",
       "      <td>0.499536</td>\n",
       "      <td>0.293151</td>\n",
       "      <td>0.021863</td>\n",
       "      <td>0.322476</td>\n",
       "      <td>0.193189</td>\n",
       "      <td>0.018671</td>\n",
       "      <td>0.443801</td>\n",
       "    </tr>\n",
       "    <tr>\n",
       "      <th>std</th>\n",
       "      <td>0.066951</td>\n",
       "      <td>0.213639</td>\n",
       "      <td>0.152987</td>\n",
       "      <td>0.219606</td>\n",
       "      <td>0.070615</td>\n",
       "      <td>0.344468</td>\n",
       "      <td>0.499917</td>\n",
       "      <td>0.316189</td>\n",
       "      <td>0.350215</td>\n",
       "      <td>0.426791</td>\n",
       "      <td>...</td>\n",
       "      <td>0.268169</td>\n",
       "      <td>0.254701</td>\n",
       "      <td>0.331732</td>\n",
       "      <td>0.393949</td>\n",
       "      <td>0.364867</td>\n",
       "      <td>0.132892</td>\n",
       "      <td>0.425419</td>\n",
       "      <td>0.360811</td>\n",
       "      <td>0.119583</td>\n",
       "      <td>0.451165</td>\n",
       "    </tr>\n",
       "    <tr>\n",
       "      <th>min</th>\n",
       "      <td>0.000000</td>\n",
       "      <td>0.000000</td>\n",
       "      <td>0.000000</td>\n",
       "      <td>0.000000</td>\n",
       "      <td>0.000000</td>\n",
       "      <td>0.000000</td>\n",
       "      <td>0.000000</td>\n",
       "      <td>0.000000</td>\n",
       "      <td>0.000000</td>\n",
       "      <td>0.000000</td>\n",
       "      <td>...</td>\n",
       "      <td>0.000000</td>\n",
       "      <td>0.000000</td>\n",
       "      <td>0.000000</td>\n",
       "      <td>0.000000</td>\n",
       "      <td>0.000000</td>\n",
       "      <td>0.000000</td>\n",
       "      <td>0.000000</td>\n",
       "      <td>0.000000</td>\n",
       "      <td>0.000000</td>\n",
       "      <td>0.000000</td>\n",
       "    </tr>\n",
       "    <tr>\n",
       "      <th>25%</th>\n",
       "      <td>0.121212</td>\n",
       "      <td>1.000000</td>\n",
       "      <td>1.000000</td>\n",
       "      <td>0.000000</td>\n",
       "      <td>0.000000</td>\n",
       "      <td>0.600000</td>\n",
       "      <td>0.000000</td>\n",
       "      <td>0.000000</td>\n",
       "      <td>0.400000</td>\n",
       "      <td>0.000000</td>\n",
       "      <td>...</td>\n",
       "      <td>0.374859</td>\n",
       "      <td>0.930562</td>\n",
       "      <td>0.000000</td>\n",
       "      <td>0.000000</td>\n",
       "      <td>0.000000</td>\n",
       "      <td>0.000000</td>\n",
       "      <td>0.000000</td>\n",
       "      <td>0.000000</td>\n",
       "      <td>0.000000</td>\n",
       "      <td>0.000000</td>\n",
       "    </tr>\n",
       "    <tr>\n",
       "      <th>50%</th>\n",
       "      <td>0.152525</td>\n",
       "      <td>1.000000</td>\n",
       "      <td>1.000000</td>\n",
       "      <td>0.000000</td>\n",
       "      <td>0.000000</td>\n",
       "      <td>0.800000</td>\n",
       "      <td>1.000000</td>\n",
       "      <td>0.000000</td>\n",
       "      <td>0.800000</td>\n",
       "      <td>0.000000</td>\n",
       "      <td>...</td>\n",
       "      <td>0.549852</td>\n",
       "      <td>0.930562</td>\n",
       "      <td>0.000000</td>\n",
       "      <td>0.600000</td>\n",
       "      <td>0.200000</td>\n",
       "      <td>0.000000</td>\n",
       "      <td>0.000000</td>\n",
       "      <td>0.000000</td>\n",
       "      <td>0.000000</td>\n",
       "      <td>0.200000</td>\n",
       "    </tr>\n",
       "    <tr>\n",
       "      <th>75%</th>\n",
       "      <td>0.202020</td>\n",
       "      <td>1.000000</td>\n",
       "      <td>1.000000</td>\n",
       "      <td>0.000000</td>\n",
       "      <td>0.000000</td>\n",
       "      <td>1.000000</td>\n",
       "      <td>1.000000</td>\n",
       "      <td>0.000000</td>\n",
       "      <td>1.000000</td>\n",
       "      <td>0.800000</td>\n",
       "      <td>...</td>\n",
       "      <td>0.761782</td>\n",
       "      <td>0.981325</td>\n",
       "      <td>0.200000</td>\n",
       "      <td>1.000000</td>\n",
       "      <td>0.600000</td>\n",
       "      <td>0.000000</td>\n",
       "      <td>0.800000</td>\n",
       "      <td>0.200000</td>\n",
       "      <td>0.000000</td>\n",
       "      <td>1.000000</td>\n",
       "    </tr>\n",
       "    <tr>\n",
       "      <th>max</th>\n",
       "      <td>1.000000</td>\n",
       "      <td>1.000000</td>\n",
       "      <td>1.000000</td>\n",
       "      <td>1.000000</td>\n",
       "      <td>1.000000</td>\n",
       "      <td>1.000000</td>\n",
       "      <td>1.000000</td>\n",
       "      <td>1.000000</td>\n",
       "      <td>1.000000</td>\n",
       "      <td>1.000000</td>\n",
       "      <td>...</td>\n",
       "      <td>1.000000</td>\n",
       "      <td>1.000000</td>\n",
       "      <td>1.000000</td>\n",
       "      <td>1.000000</td>\n",
       "      <td>1.000000</td>\n",
       "      <td>1.000000</td>\n",
       "      <td>1.000000</td>\n",
       "      <td>1.000000</td>\n",
       "      <td>1.000000</td>\n",
       "      <td>1.000000</td>\n",
       "    </tr>\n",
       "  </tbody>\n",
       "</table>\n",
       "<p>8 rows × 25 columns</p>\n",
       "</div>"
      ],
      "text/plain": [
       "                age          male  shooting_involved  taser_involved  \\\n",
       "count  10776.000000  10776.000000       10776.000000    10776.000000   \n",
       "mean       0.166783      0.951670           0.975835        0.051151   \n",
       "std        0.066951      0.213639           0.152987        0.219606   \n",
       "min        0.000000      0.000000           0.000000        0.000000   \n",
       "25%        0.121212      1.000000           1.000000        0.000000   \n",
       "50%        0.152525      1.000000           1.000000        0.000000   \n",
       "75%        0.202020      1.000000           1.000000        0.000000   \n",
       "max        1.000000      1.000000           1.000000        1.000000   \n",
       "\n",
       "       physical_violence_involved     justified  armed_with_gun  \\\n",
       "count                10776.000000  10776.000000    10776.000000   \n",
       "mean                     0.005011      0.741518        0.510301   \n",
       "std                      0.070615      0.344468        0.499917   \n",
       "min                      0.000000      0.000000        0.000000   \n",
       "25%                      0.000000      0.600000        0.000000   \n",
       "50%                      0.000000      0.800000        1.000000   \n",
       "75%                      0.000000      1.000000        1.000000   \n",
       "max                      1.000000      1.000000        1.000000   \n",
       "\n",
       "       armed_with_knife  was_a_threat   was_fleeing  ...  \\\n",
       "count      10776.000000  10776.000000  10776.000000  ...   \n",
       "mean           0.112658      0.634577      0.309261  ...   \n",
       "std            0.316189      0.350215      0.426791  ...   \n",
       "min            0.000000      0.000000      0.000000  ...   \n",
       "25%            0.000000      0.400000      0.000000  ...   \n",
       "50%            0.000000      0.800000      0.000000  ...   \n",
       "75%            0.000000      1.000000      0.800000  ...   \n",
       "max            1.000000      1.000000      1.000000  ...   \n",
       "\n",
       "       state_education_level  police_agency_encoded  geography_type_Rural  \\\n",
       "count           10776.000000           10776.000000          10776.000000   \n",
       "mean                0.537253               0.848607              0.207313   \n",
       "std                 0.268169               0.254701              0.331732   \n",
       "min                 0.000000               0.000000              0.000000   \n",
       "25%                 0.374859               0.930562              0.000000   \n",
       "50%                 0.549852               0.930562              0.000000   \n",
       "75%                 0.761782               0.981325              0.200000   \n",
       "max                 1.000000               1.000000              1.000000   \n",
       "\n",
       "       geography_type_Suburban  geography_type_Urban    race_Asian  \\\n",
       "count             10776.000000          10776.000000  10776.000000   \n",
       "mean                  0.499536              0.293151      0.021863   \n",
       "std                   0.393949              0.364867      0.132892   \n",
       "min                   0.000000              0.000000      0.000000   \n",
       "25%                   0.000000              0.000000      0.000000   \n",
       "50%                   0.600000              0.200000      0.000000   \n",
       "75%                   1.000000              0.600000      0.000000   \n",
       "max                   1.000000              1.000000      1.000000   \n",
       "\n",
       "         race_Black  race_Hispanic  race_Native American    race_White  \n",
       "count  10776.000000   10776.000000          10776.000000  10776.000000  \n",
       "mean       0.322476       0.193189              0.018671      0.443801  \n",
       "std        0.425419       0.360811              0.119583      0.451165  \n",
       "min        0.000000       0.000000              0.000000      0.000000  \n",
       "25%        0.000000       0.000000              0.000000      0.000000  \n",
       "50%        0.000000       0.000000              0.000000      0.200000  \n",
       "75%        0.800000       0.200000              0.000000      1.000000  \n",
       "max        1.000000       1.000000              1.000000      1.000000  \n",
       "\n",
       "[8 rows x 25 columns]"
      ]
     },
     "execution_count": 187,
     "metadata": {},
     "output_type": "execute_result"
    }
   ],
   "source": [
    "X_train.describe()  #check the normalisation worked"
   ]
  },
  {
   "cell_type": "code",
   "execution_count": 188,
   "metadata": {
    "scrolled": false
   },
   "outputs": [
    {
     "data": {
      "text/html": [
       "<div>\n",
       "<style scoped>\n",
       "    .dataframe tbody tr th:only-of-type {\n",
       "        vertical-align: middle;\n",
       "    }\n",
       "\n",
       "    .dataframe tbody tr th {\n",
       "        vertical-align: top;\n",
       "    }\n",
       "\n",
       "    .dataframe thead th {\n",
       "        text-align: right;\n",
       "    }\n",
       "</style>\n",
       "<table border=\"1\" class=\"dataframe\">\n",
       "  <thead>\n",
       "    <tr style=\"text-align: right;\">\n",
       "      <th></th>\n",
       "      <th>age</th>\n",
       "      <th>male</th>\n",
       "      <th>shooting_involved</th>\n",
       "      <th>taser_involved</th>\n",
       "      <th>physical_violence_involved</th>\n",
       "      <th>justified</th>\n",
       "      <th>armed_with_gun</th>\n",
       "      <th>armed_with_knife</th>\n",
       "      <th>was_a_threat</th>\n",
       "      <th>was_fleeing</th>\n",
       "      <th>...</th>\n",
       "      <th>state_education_level</th>\n",
       "      <th>police_agency_encoded</th>\n",
       "      <th>geography_type_Rural</th>\n",
       "      <th>geography_type_Suburban</th>\n",
       "      <th>geography_type_Urban</th>\n",
       "      <th>race_Asian</th>\n",
       "      <th>race_Black</th>\n",
       "      <th>race_Hispanic</th>\n",
       "      <th>race_Native American</th>\n",
       "      <th>race_White</th>\n",
       "    </tr>\n",
       "  </thead>\n",
       "  <tbody>\n",
       "    <tr>\n",
       "      <th>count</th>\n",
       "      <td>2482.000000</td>\n",
       "      <td>2482.000000</td>\n",
       "      <td>2482.000000</td>\n",
       "      <td>2482.000000</td>\n",
       "      <td>2482.000000</td>\n",
       "      <td>2482.000000</td>\n",
       "      <td>2482.000000</td>\n",
       "      <td>2482.000000</td>\n",
       "      <td>2482.000000</td>\n",
       "      <td>2482.000000</td>\n",
       "      <td>...</td>\n",
       "      <td>2482.000000</td>\n",
       "      <td>2482.000000</td>\n",
       "      <td>2482.000000</td>\n",
       "      <td>2482.000000</td>\n",
       "      <td>2482.000000</td>\n",
       "      <td>2482.000000</td>\n",
       "      <td>2482.000000</td>\n",
       "      <td>2482.000000</td>\n",
       "      <td>2482.000000</td>\n",
       "      <td>2482.000000</td>\n",
       "    </tr>\n",
       "    <tr>\n",
       "      <th>mean</th>\n",
       "      <td>0.176012</td>\n",
       "      <td>0.945125</td>\n",
       "      <td>0.959307</td>\n",
       "      <td>0.051652</td>\n",
       "      <td>0.009670</td>\n",
       "      <td>0.791459</td>\n",
       "      <td>0.531426</td>\n",
       "      <td>0.137792</td>\n",
       "      <td>0.658743</td>\n",
       "      <td>0.334972</td>\n",
       "      <td>...</td>\n",
       "      <td>0.499327</td>\n",
       "      <td>0.946934</td>\n",
       "      <td>0.211523</td>\n",
       "      <td>0.510234</td>\n",
       "      <td>0.278243</td>\n",
       "      <td>0.017566</td>\n",
       "      <td>0.300242</td>\n",
       "      <td>0.197583</td>\n",
       "      <td>0.017647</td>\n",
       "      <td>0.466962</td>\n",
       "    </tr>\n",
       "    <tr>\n",
       "      <th>std</th>\n",
       "      <td>0.064775</td>\n",
       "      <td>0.227002</td>\n",
       "      <td>0.197618</td>\n",
       "      <td>0.221222</td>\n",
       "      <td>0.097877</td>\n",
       "      <td>0.256082</td>\n",
       "      <td>0.499112</td>\n",
       "      <td>0.344751</td>\n",
       "      <td>0.412948</td>\n",
       "      <td>0.416248</td>\n",
       "      <td>...</td>\n",
       "      <td>0.274142</td>\n",
       "      <td>0.116891</td>\n",
       "      <td>0.398481</td>\n",
       "      <td>0.485036</td>\n",
       "      <td>0.435860</td>\n",
       "      <td>0.129542</td>\n",
       "      <td>0.452936</td>\n",
       "      <td>0.394064</td>\n",
       "      <td>0.130338</td>\n",
       "      <td>0.492962</td>\n",
       "    </tr>\n",
       "    <tr>\n",
       "      <th>min</th>\n",
       "      <td>0.000000</td>\n",
       "      <td>0.000000</td>\n",
       "      <td>0.000000</td>\n",
       "      <td>0.000000</td>\n",
       "      <td>0.000000</td>\n",
       "      <td>0.000000</td>\n",
       "      <td>0.000000</td>\n",
       "      <td>0.000000</td>\n",
       "      <td>0.000000</td>\n",
       "      <td>0.000000</td>\n",
       "      <td>...</td>\n",
       "      <td>0.000000</td>\n",
       "      <td>0.000000</td>\n",
       "      <td>0.000000</td>\n",
       "      <td>0.000000</td>\n",
       "      <td>0.000000</td>\n",
       "      <td>0.000000</td>\n",
       "      <td>0.000000</td>\n",
       "      <td>0.000000</td>\n",
       "      <td>0.000000</td>\n",
       "      <td>0.000000</td>\n",
       "    </tr>\n",
       "    <tr>\n",
       "      <th>25%</th>\n",
       "      <td>0.126263</td>\n",
       "      <td>1.000000</td>\n",
       "      <td>1.000000</td>\n",
       "      <td>0.000000</td>\n",
       "      <td>0.000000</td>\n",
       "      <td>0.600000</td>\n",
       "      <td>0.000000</td>\n",
       "      <td>0.000000</td>\n",
       "      <td>0.200000</td>\n",
       "      <td>0.000000</td>\n",
       "      <td>...</td>\n",
       "      <td>0.308714</td>\n",
       "      <td>0.930562</td>\n",
       "      <td>0.000000</td>\n",
       "      <td>0.000000</td>\n",
       "      <td>0.000000</td>\n",
       "      <td>0.000000</td>\n",
       "      <td>0.000000</td>\n",
       "      <td>0.000000</td>\n",
       "      <td>0.000000</td>\n",
       "      <td>0.000000</td>\n",
       "    </tr>\n",
       "    <tr>\n",
       "      <th>50%</th>\n",
       "      <td>0.166667</td>\n",
       "      <td>1.000000</td>\n",
       "      <td>1.000000</td>\n",
       "      <td>0.000000</td>\n",
       "      <td>0.000000</td>\n",
       "      <td>0.800000</td>\n",
       "      <td>1.000000</td>\n",
       "      <td>0.000000</td>\n",
       "      <td>1.000000</td>\n",
       "      <td>0.000000</td>\n",
       "      <td>...</td>\n",
       "      <td>0.431956</td>\n",
       "      <td>0.981325</td>\n",
       "      <td>0.000000</td>\n",
       "      <td>0.600000</td>\n",
       "      <td>0.000000</td>\n",
       "      <td>0.000000</td>\n",
       "      <td>0.000000</td>\n",
       "      <td>0.000000</td>\n",
       "      <td>0.000000</td>\n",
       "      <td>0.000000</td>\n",
       "    </tr>\n",
       "    <tr>\n",
       "      <th>75%</th>\n",
       "      <td>0.217172</td>\n",
       "      <td>1.000000</td>\n",
       "      <td>1.000000</td>\n",
       "      <td>0.000000</td>\n",
       "      <td>0.000000</td>\n",
       "      <td>1.000000</td>\n",
       "      <td>1.000000</td>\n",
       "      <td>0.000000</td>\n",
       "      <td>1.000000</td>\n",
       "      <td>0.800000</td>\n",
       "      <td>...</td>\n",
       "      <td>0.757122</td>\n",
       "      <td>0.999828</td>\n",
       "      <td>0.000000</td>\n",
       "      <td>1.000000</td>\n",
       "      <td>1.000000</td>\n",
       "      <td>0.000000</td>\n",
       "      <td>1.000000</td>\n",
       "      <td>0.000000</td>\n",
       "      <td>0.000000</td>\n",
       "      <td>1.000000</td>\n",
       "    </tr>\n",
       "    <tr>\n",
       "      <th>max</th>\n",
       "      <td>0.474747</td>\n",
       "      <td>1.000000</td>\n",
       "      <td>1.000000</td>\n",
       "      <td>1.000000</td>\n",
       "      <td>1.000000</td>\n",
       "      <td>1.000000</td>\n",
       "      <td>1.000000</td>\n",
       "      <td>1.000000</td>\n",
       "      <td>1.000000</td>\n",
       "      <td>1.000000</td>\n",
       "      <td>...</td>\n",
       "      <td>1.000000</td>\n",
       "      <td>1.000000</td>\n",
       "      <td>1.000000</td>\n",
       "      <td>1.000000</td>\n",
       "      <td>1.000000</td>\n",
       "      <td>1.000000</td>\n",
       "      <td>1.000000</td>\n",
       "      <td>1.000000</td>\n",
       "      <td>1.000000</td>\n",
       "      <td>1.000000</td>\n",
       "    </tr>\n",
       "  </tbody>\n",
       "</table>\n",
       "<p>8 rows × 25 columns</p>\n",
       "</div>"
      ],
      "text/plain": [
       "               age         male  shooting_involved  taser_involved  \\\n",
       "count  2482.000000  2482.000000        2482.000000     2482.000000   \n",
       "mean      0.176012     0.945125           0.959307        0.051652   \n",
       "std       0.064775     0.227002           0.197618        0.221222   \n",
       "min       0.000000     0.000000           0.000000        0.000000   \n",
       "25%       0.126263     1.000000           1.000000        0.000000   \n",
       "50%       0.166667     1.000000           1.000000        0.000000   \n",
       "75%       0.217172     1.000000           1.000000        0.000000   \n",
       "max       0.474747     1.000000           1.000000        1.000000   \n",
       "\n",
       "       physical_violence_involved    justified  armed_with_gun  \\\n",
       "count                 2482.000000  2482.000000     2482.000000   \n",
       "mean                     0.009670     0.791459        0.531426   \n",
       "std                      0.097877     0.256082        0.499112   \n",
       "min                      0.000000     0.000000        0.000000   \n",
       "25%                      0.000000     0.600000        0.000000   \n",
       "50%                      0.000000     0.800000        1.000000   \n",
       "75%                      0.000000     1.000000        1.000000   \n",
       "max                      1.000000     1.000000        1.000000   \n",
       "\n",
       "       armed_with_knife  was_a_threat  was_fleeing  ...  \\\n",
       "count       2482.000000   2482.000000  2482.000000  ...   \n",
       "mean           0.137792      0.658743     0.334972  ...   \n",
       "std            0.344751      0.412948     0.416248  ...   \n",
       "min            0.000000      0.000000     0.000000  ...   \n",
       "25%            0.000000      0.200000     0.000000  ...   \n",
       "50%            0.000000      1.000000     0.000000  ...   \n",
       "75%            0.000000      1.000000     0.800000  ...   \n",
       "max            1.000000      1.000000     1.000000  ...   \n",
       "\n",
       "       state_education_level  police_agency_encoded  geography_type_Rural  \\\n",
       "count            2482.000000            2482.000000           2482.000000   \n",
       "mean                0.499327               0.946934              0.211523   \n",
       "std                 0.274142               0.116891              0.398481   \n",
       "min                 0.000000               0.000000              0.000000   \n",
       "25%                 0.308714               0.930562              0.000000   \n",
       "50%                 0.431956               0.981325              0.000000   \n",
       "75%                 0.757122               0.999828              0.000000   \n",
       "max                 1.000000               1.000000              1.000000   \n",
       "\n",
       "       geography_type_Suburban  geography_type_Urban   race_Asian  \\\n",
       "count              2482.000000           2482.000000  2482.000000   \n",
       "mean                  0.510234              0.278243     0.017566   \n",
       "std                   0.485036              0.435860     0.129542   \n",
       "min                   0.000000              0.000000     0.000000   \n",
       "25%                   0.000000              0.000000     0.000000   \n",
       "50%                   0.600000              0.000000     0.000000   \n",
       "75%                   1.000000              1.000000     0.000000   \n",
       "max                   1.000000              1.000000     1.000000   \n",
       "\n",
       "        race_Black  race_Hispanic  race_Native American   race_White  \n",
       "count  2482.000000    2482.000000           2482.000000  2482.000000  \n",
       "mean      0.300242       0.197583              0.017647     0.466962  \n",
       "std       0.452936       0.394064              0.130338     0.492962  \n",
       "min       0.000000       0.000000              0.000000     0.000000  \n",
       "25%       0.000000       0.000000              0.000000     0.000000  \n",
       "50%       0.000000       0.000000              0.000000     0.000000  \n",
       "75%       1.000000       0.000000              0.000000     1.000000  \n",
       "max       1.000000       1.000000              1.000000     1.000000  \n",
       "\n",
       "[8 rows x 25 columns]"
      ]
     },
     "execution_count": 188,
     "metadata": {},
     "output_type": "execute_result"
    }
   ],
   "source": [
    "X_test.describe()  #check the normalisation worked"
   ]
  },
  {
   "cell_type": "markdown",
   "metadata": {},
   "source": [
    "<h1>1) Logistic Regression Model</h1>"
   ]
  },
  {
   "cell_type": "markdown",
   "metadata": {},
   "source": [
    "<h3>Remove multicollinearity</h3>\n",
    "<br>Logistic regression assumes that the predictor variables (features) are not correlated with one another. Check their pairwise correlation and from the analysis, remove those variables which are highly correlated."
   ]
  },
  {
   "cell_type": "code",
   "execution_count": 189,
   "metadata": {
    "scrolled": true
   },
   "outputs": [
    {
     "data": {
      "text/html": [
       "<div>\n",
       "<style scoped>\n",
       "    .dataframe tbody tr th:only-of-type {\n",
       "        vertical-align: middle;\n",
       "    }\n",
       "\n",
       "    .dataframe tbody tr th {\n",
       "        vertical-align: top;\n",
       "    }\n",
       "\n",
       "    .dataframe thead th {\n",
       "        text-align: right;\n",
       "    }\n",
       "</style>\n",
       "<table border=\"1\" class=\"dataframe\">\n",
       "  <thead>\n",
       "    <tr style=\"text-align: right;\">\n",
       "      <th></th>\n",
       "      <th>age</th>\n",
       "      <th>male</th>\n",
       "      <th>shooting_involved</th>\n",
       "      <th>taser_involved</th>\n",
       "      <th>physical_violence_involved</th>\n",
       "      <th>justified</th>\n",
       "      <th>armed_with_gun</th>\n",
       "      <th>armed_with_knife</th>\n",
       "      <th>was_a_threat</th>\n",
       "      <th>was_fleeing</th>\n",
       "      <th>...</th>\n",
       "      <th>state_education_level</th>\n",
       "      <th>police_agency_encoded</th>\n",
       "      <th>geography_type_Rural</th>\n",
       "      <th>geography_type_Suburban</th>\n",
       "      <th>geography_type_Urban</th>\n",
       "      <th>race_Asian</th>\n",
       "      <th>race_Black</th>\n",
       "      <th>race_Hispanic</th>\n",
       "      <th>race_Native American</th>\n",
       "      <th>race_White</th>\n",
       "    </tr>\n",
       "  </thead>\n",
       "  <tbody>\n",
       "    <tr>\n",
       "      <th>age</th>\n",
       "      <td>1.000000</td>\n",
       "      <td>-0.018346</td>\n",
       "      <td>-0.017620</td>\n",
       "      <td>0.016125</td>\n",
       "      <td>0.017115</td>\n",
       "      <td>0.043948</td>\n",
       "      <td>0.068118</td>\n",
       "      <td>0.025700</td>\n",
       "      <td>0.039906</td>\n",
       "      <td>-0.195269</td>\n",
       "      <td>...</td>\n",
       "      <td>0.002062</td>\n",
       "      <td>0.054643</td>\n",
       "      <td>0.126206</td>\n",
       "      <td>-0.019450</td>\n",
       "      <td>-0.095057</td>\n",
       "      <td>-0.003421</td>\n",
       "      <td>-0.189372</td>\n",
       "      <td>-0.108565</td>\n",
       "      <td>-0.035991</td>\n",
       "      <td>0.268458</td>\n",
       "    </tr>\n",
       "    <tr>\n",
       "      <th>male</th>\n",
       "      <td>-0.018346</td>\n",
       "      <td>1.000000</td>\n",
       "      <td>-0.008871</td>\n",
       "      <td>0.016430</td>\n",
       "      <td>0.017451</td>\n",
       "      <td>0.106412</td>\n",
       "      <td>0.077389</td>\n",
       "      <td>-0.015764</td>\n",
       "      <td>0.046516</td>\n",
       "      <td>0.027431</td>\n",
       "      <td>...</td>\n",
       "      <td>0.031061</td>\n",
       "      <td>0.005263</td>\n",
       "      <td>0.003489</td>\n",
       "      <td>-0.025617</td>\n",
       "      <td>0.025294</td>\n",
       "      <td>-0.005495</td>\n",
       "      <td>0.047393</td>\n",
       "      <td>0.031625</td>\n",
       "      <td>-0.001388</td>\n",
       "      <td>-0.066039</td>\n",
       "    </tr>\n",
       "    <tr>\n",
       "      <th>shooting_involved</th>\n",
       "      <td>-0.017620</td>\n",
       "      <td>-0.008871</td>\n",
       "      <td>1.000000</td>\n",
       "      <td>-0.547741</td>\n",
       "      <td>-0.458033</td>\n",
       "      <td>0.054847</td>\n",
       "      <td>0.205629</td>\n",
       "      <td>0.057585</td>\n",
       "      <td>0.074370</td>\n",
       "      <td>0.028229</td>\n",
       "      <td>...</td>\n",
       "      <td>-0.000606</td>\n",
       "      <td>-0.025722</td>\n",
       "      <td>0.008318</td>\n",
       "      <td>-0.007971</td>\n",
       "      <td>0.001182</td>\n",
       "      <td>0.001519</td>\n",
       "      <td>-0.036880</td>\n",
       "      <td>-0.007509</td>\n",
       "      <td>0.010874</td>\n",
       "      <td>0.035781</td>\n",
       "    </tr>\n",
       "    <tr>\n",
       "      <th>taser_involved</th>\n",
       "      <td>0.016125</td>\n",
       "      <td>0.016430</td>\n",
       "      <td>-0.547741</td>\n",
       "      <td>1.000000</td>\n",
       "      <td>0.001424</td>\n",
       "      <td>-0.034482</td>\n",
       "      <td>-0.222796</td>\n",
       "      <td>0.085405</td>\n",
       "      <td>-0.082498</td>\n",
       "      <td>-0.056712</td>\n",
       "      <td>...</td>\n",
       "      <td>0.003641</td>\n",
       "      <td>0.008696</td>\n",
       "      <td>-0.028113</td>\n",
       "      <td>0.014000</td>\n",
       "      <td>0.010411</td>\n",
       "      <td>-0.011098</td>\n",
       "      <td>0.019856</td>\n",
       "      <td>0.009060</td>\n",
       "      <td>-0.001499</td>\n",
       "      <td>-0.021783</td>\n",
       "    </tr>\n",
       "    <tr>\n",
       "      <th>physical_violence_involved</th>\n",
       "      <td>0.017115</td>\n",
       "      <td>0.017451</td>\n",
       "      <td>-0.458033</td>\n",
       "      <td>0.001424</td>\n",
       "      <td>1.000000</td>\n",
       "      <td>-0.044851</td>\n",
       "      <td>-0.099794</td>\n",
       "      <td>-0.030984</td>\n",
       "      <td>-0.055126</td>\n",
       "      <td>-0.014223</td>\n",
       "      <td>...</td>\n",
       "      <td>-0.000843</td>\n",
       "      <td>0.007340</td>\n",
       "      <td>-0.029300</td>\n",
       "      <td>0.012415</td>\n",
       "      <td>0.013273</td>\n",
       "      <td>0.025331</td>\n",
       "      <td>0.012834</td>\n",
       "      <td>0.009522</td>\n",
       "      <td>0.003056</td>\n",
       "      <td>-0.026674</td>\n",
       "    </tr>\n",
       "    <tr>\n",
       "      <th>justified</th>\n",
       "      <td>0.043948</td>\n",
       "      <td>0.106412</td>\n",
       "      <td>0.054847</td>\n",
       "      <td>-0.034482</td>\n",
       "      <td>-0.044851</td>\n",
       "      <td>1.000000</td>\n",
       "      <td>0.214588</td>\n",
       "      <td>-0.014237</td>\n",
       "      <td>0.109863</td>\n",
       "      <td>0.036138</td>\n",
       "      <td>...</td>\n",
       "      <td>0.089017</td>\n",
       "      <td>0.067590</td>\n",
       "      <td>0.039725</td>\n",
       "      <td>-0.000450</td>\n",
       "      <td>-0.036235</td>\n",
       "      <td>0.002630</td>\n",
       "      <td>-0.133657</td>\n",
       "      <td>0.017798</td>\n",
       "      <td>0.016087</td>\n",
       "      <td>0.101596</td>\n",
       "    </tr>\n",
       "    <tr>\n",
       "      <th>armed_with_gun</th>\n",
       "      <td>0.068118</td>\n",
       "      <td>0.077389</td>\n",
       "      <td>0.205629</td>\n",
       "      <td>-0.222796</td>\n",
       "      <td>-0.099794</td>\n",
       "      <td>0.214588</td>\n",
       "      <td>1.000000</td>\n",
       "      <td>-0.399831</td>\n",
       "      <td>0.362260</td>\n",
       "      <td>0.018333</td>\n",
       "      <td>...</td>\n",
       "      <td>-0.011128</td>\n",
       "      <td>0.007895</td>\n",
       "      <td>0.050777</td>\n",
       "      <td>-0.033812</td>\n",
       "      <td>-0.009312</td>\n",
       "      <td>-0.010357</td>\n",
       "      <td>0.011116</td>\n",
       "      <td>-0.068970</td>\n",
       "      <td>-0.031534</td>\n",
       "      <td>0.056234</td>\n",
       "    </tr>\n",
       "    <tr>\n",
       "      <th>armed_with_knife</th>\n",
       "      <td>0.025700</td>\n",
       "      <td>-0.015764</td>\n",
       "      <td>0.057585</td>\n",
       "      <td>0.085405</td>\n",
       "      <td>-0.030984</td>\n",
       "      <td>-0.014237</td>\n",
       "      <td>-0.399831</td>\n",
       "      <td>1.000000</td>\n",
       "      <td>-0.181363</td>\n",
       "      <td>-0.144830</td>\n",
       "      <td>...</td>\n",
       "      <td>0.040622</td>\n",
       "      <td>0.025361</td>\n",
       "      <td>-0.047119</td>\n",
       "      <td>0.028552</td>\n",
       "      <td>0.011786</td>\n",
       "      <td>0.056186</td>\n",
       "      <td>-0.057133</td>\n",
       "      <td>0.040501</td>\n",
       "      <td>0.036368</td>\n",
       "      <td>-0.005523</td>\n",
       "    </tr>\n",
       "    <tr>\n",
       "      <th>was_a_threat</th>\n",
       "      <td>0.039906</td>\n",
       "      <td>0.046516</td>\n",
       "      <td>0.074370</td>\n",
       "      <td>-0.082498</td>\n",
       "      <td>-0.055126</td>\n",
       "      <td>0.109863</td>\n",
       "      <td>0.362260</td>\n",
       "      <td>-0.181363</td>\n",
       "      <td>1.000000</td>\n",
       "      <td>0.002694</td>\n",
       "      <td>...</td>\n",
       "      <td>-0.041462</td>\n",
       "      <td>-0.007986</td>\n",
       "      <td>0.021985</td>\n",
       "      <td>-0.009123</td>\n",
       "      <td>-0.010174</td>\n",
       "      <td>-0.007417</td>\n",
       "      <td>0.022528</td>\n",
       "      <td>-0.067214</td>\n",
       "      <td>-0.023698</td>\n",
       "      <td>0.041486</td>\n",
       "    </tr>\n",
       "    <tr>\n",
       "      <th>was_fleeing</th>\n",
       "      <td>-0.195269</td>\n",
       "      <td>0.027431</td>\n",
       "      <td>0.028229</td>\n",
       "      <td>-0.056712</td>\n",
       "      <td>-0.014223</td>\n",
       "      <td>0.036138</td>\n",
       "      <td>0.018333</td>\n",
       "      <td>-0.144830</td>\n",
       "      <td>0.002694</td>\n",
       "      <td>1.000000</td>\n",
       "      <td>...</td>\n",
       "      <td>0.001759</td>\n",
       "      <td>0.007154</td>\n",
       "      <td>-0.004658</td>\n",
       "      <td>-0.039891</td>\n",
       "      <td>0.048720</td>\n",
       "      <td>-0.025767</td>\n",
       "      <td>0.073632</td>\n",
       "      <td>0.036908</td>\n",
       "      <td>0.012640</td>\n",
       "      <td>-0.092684</td>\n",
       "    </tr>\n",
       "    <tr>\n",
       "      <th>mental_illness</th>\n",
       "      <td>0.130658</td>\n",
       "      <td>-0.048476</td>\n",
       "      <td>-0.030895</td>\n",
       "      <td>0.088418</td>\n",
       "      <td>0.010514</td>\n",
       "      <td>0.013183</td>\n",
       "      <td>-0.081578</td>\n",
       "      <td>0.166542</td>\n",
       "      <td>-0.057343</td>\n",
       "      <td>-0.217071</td>\n",
       "      <td>...</td>\n",
       "      <td>0.054789</td>\n",
       "      <td>0.015285</td>\n",
       "      <td>-0.008401</td>\n",
       "      <td>0.049802</td>\n",
       "      <td>-0.047678</td>\n",
       "      <td>0.024018</td>\n",
       "      <td>-0.134602</td>\n",
       "      <td>-0.073135</td>\n",
       "      <td>-0.008684</td>\n",
       "      <td>0.175811</td>\n",
       "    </tr>\n",
       "    <tr>\n",
       "      <th>home_involved</th>\n",
       "      <td>0.145197</td>\n",
       "      <td>-0.032470</td>\n",
       "      <td>0.015672</td>\n",
       "      <td>-0.003310</td>\n",
       "      <td>-0.003135</td>\n",
       "      <td>-0.018957</td>\n",
       "      <td>0.025223</td>\n",
       "      <td>0.077041</td>\n",
       "      <td>0.025367</td>\n",
       "      <td>-0.203882</td>\n",
       "      <td>...</td>\n",
       "      <td>-0.001720</td>\n",
       "      <td>0.045293</td>\n",
       "      <td>0.065845</td>\n",
       "      <td>0.028788</td>\n",
       "      <td>-0.092943</td>\n",
       "      <td>-0.012665</td>\n",
       "      <td>-0.085987</td>\n",
       "      <td>-0.013331</td>\n",
       "      <td>-0.009748</td>\n",
       "      <td>0.094504</td>\n",
       "    </tr>\n",
       "    <tr>\n",
       "      <th>vehicle_involved</th>\n",
       "      <td>-0.120504</td>\n",
       "      <td>-0.003831</td>\n",
       "      <td>0.017197</td>\n",
       "      <td>-0.049556</td>\n",
       "      <td>-0.006444</td>\n",
       "      <td>0.049279</td>\n",
       "      <td>-0.019299</td>\n",
       "      <td>-0.167362</td>\n",
       "      <td>-0.000537</td>\n",
       "      <td>0.351693</td>\n",
       "      <td>...</td>\n",
       "      <td>-0.018193</td>\n",
       "      <td>-0.023422</td>\n",
       "      <td>0.030678</td>\n",
       "      <td>-0.007370</td>\n",
       "      <td>-0.020165</td>\n",
       "      <td>-0.020604</td>\n",
       "      <td>0.035121</td>\n",
       "      <td>0.015188</td>\n",
       "      <td>-0.008064</td>\n",
       "      <td>-0.036052</td>\n",
       "    </tr>\n",
       "    <tr>\n",
       "      <th>killed</th>\n",
       "      <td>0.092101</td>\n",
       "      <td>0.013224</td>\n",
       "      <td>-0.057679</td>\n",
       "      <td>0.040590</td>\n",
       "      <td>0.026620</td>\n",
       "      <td>0.111046</td>\n",
       "      <td>0.022922</td>\n",
       "      <td>0.035844</td>\n",
       "      <td>0.007682</td>\n",
       "      <td>0.022372</td>\n",
       "      <td>...</td>\n",
       "      <td>-0.068992</td>\n",
       "      <td>0.519469</td>\n",
       "      <td>0.018200</td>\n",
       "      <td>-0.002710</td>\n",
       "      <td>-0.013814</td>\n",
       "      <td>-0.013587</td>\n",
       "      <td>-0.060030</td>\n",
       "      <td>-0.004361</td>\n",
       "      <td>0.009827</td>\n",
       "      <td>0.058519</td>\n",
       "    </tr>\n",
       "    <tr>\n",
       "      <th>state_log_income</th>\n",
       "      <td>-0.060776</td>\n",
       "      <td>0.010808</td>\n",
       "      <td>-0.012238</td>\n",
       "      <td>0.023213</td>\n",
       "      <td>0.035173</td>\n",
       "      <td>-0.032123</td>\n",
       "      <td>-0.097766</td>\n",
       "      <td>0.080238</td>\n",
       "      <td>-0.083928</td>\n",
       "      <td>0.002601</td>\n",
       "      <td>...</td>\n",
       "      <td>0.406647</td>\n",
       "      <td>-0.048880</td>\n",
       "      <td>-0.236241</td>\n",
       "      <td>0.045305</td>\n",
       "      <td>0.168029</td>\n",
       "      <td>0.054236</td>\n",
       "      <td>0.000572</td>\n",
       "      <td>0.162747</td>\n",
       "      <td>0.012679</td>\n",
       "      <td>-0.146980</td>\n",
       "    </tr>\n",
       "    <tr>\n",
       "      <th>state_white_share</th>\n",
       "      <td>0.012402</td>\n",
       "      <td>0.023218</td>\n",
       "      <td>0.023163</td>\n",
       "      <td>-0.005871</td>\n",
       "      <td>-0.039678</td>\n",
       "      <td>0.089412</td>\n",
       "      <td>0.035975</td>\n",
       "      <td>0.005911</td>\n",
       "      <td>0.004312</td>\n",
       "      <td>0.016342</td>\n",
       "      <td>...</td>\n",
       "      <td>0.461763</td>\n",
       "      <td>-0.054611</td>\n",
       "      <td>0.016373</td>\n",
       "      <td>-0.051975</td>\n",
       "      <td>0.042724</td>\n",
       "      <td>-0.021613</td>\n",
       "      <td>-0.004744</td>\n",
       "      <td>-0.129756</td>\n",
       "      <td>-0.115510</td>\n",
       "      <td>0.145784</td>\n",
       "    </tr>\n",
       "    <tr>\n",
       "      <th>state_education_level</th>\n",
       "      <td>0.002062</td>\n",
       "      <td>0.031061</td>\n",
       "      <td>-0.000606</td>\n",
       "      <td>0.003641</td>\n",
       "      <td>-0.000843</td>\n",
       "      <td>0.089017</td>\n",
       "      <td>-0.011128</td>\n",
       "      <td>0.040622</td>\n",
       "      <td>-0.041462</td>\n",
       "      <td>0.001759</td>\n",
       "      <td>...</td>\n",
       "      <td>1.000000</td>\n",
       "      <td>-0.075262</td>\n",
       "      <td>-0.053322</td>\n",
       "      <td>-0.018199</td>\n",
       "      <td>0.069572</td>\n",
       "      <td>-0.014382</td>\n",
       "      <td>0.024473</td>\n",
       "      <td>-0.160486</td>\n",
       "      <td>0.075842</td>\n",
       "      <td>0.086527</td>\n",
       "    </tr>\n",
       "    <tr>\n",
       "      <th>police_agency_encoded</th>\n",
       "      <td>0.054643</td>\n",
       "      <td>0.005263</td>\n",
       "      <td>-0.025722</td>\n",
       "      <td>0.008696</td>\n",
       "      <td>0.007340</td>\n",
       "      <td>0.067590</td>\n",
       "      <td>0.007895</td>\n",
       "      <td>0.025361</td>\n",
       "      <td>-0.007986</td>\n",
       "      <td>0.007154</td>\n",
       "      <td>...</td>\n",
       "      <td>-0.075262</td>\n",
       "      <td>1.000000</td>\n",
       "      <td>-0.017314</td>\n",
       "      <td>0.026767</td>\n",
       "      <td>-0.013789</td>\n",
       "      <td>-0.004856</td>\n",
       "      <td>-0.069485</td>\n",
       "      <td>0.022243</td>\n",
       "      <td>0.008695</td>\n",
       "      <td>0.044095</td>\n",
       "    </tr>\n",
       "    <tr>\n",
       "      <th>geography_type_Rural</th>\n",
       "      <td>0.126206</td>\n",
       "      <td>0.003489</td>\n",
       "      <td>0.008318</td>\n",
       "      <td>-0.028113</td>\n",
       "      <td>-0.029300</td>\n",
       "      <td>0.039725</td>\n",
       "      <td>0.050777</td>\n",
       "      <td>-0.047119</td>\n",
       "      <td>0.021985</td>\n",
       "      <td>-0.004658</td>\n",
       "      <td>...</td>\n",
       "      <td>-0.053322</td>\n",
       "      <td>-0.017314</td>\n",
       "      <td>1.000000</td>\n",
       "      <td>-0.531636</td>\n",
       "      <td>-0.332877</td>\n",
       "      <td>-0.039183</td>\n",
       "      <td>-0.177092</td>\n",
       "      <td>-0.124346</td>\n",
       "      <td>0.058972</td>\n",
       "      <td>0.251815</td>\n",
       "    </tr>\n",
       "    <tr>\n",
       "      <th>geography_type_Suburban</th>\n",
       "      <td>-0.019450</td>\n",
       "      <td>-0.025617</td>\n",
       "      <td>-0.007971</td>\n",
       "      <td>0.014000</td>\n",
       "      <td>0.012415</td>\n",
       "      <td>-0.000450</td>\n",
       "      <td>-0.033812</td>\n",
       "      <td>0.028552</td>\n",
       "      <td>-0.009123</td>\n",
       "      <td>-0.039891</td>\n",
       "      <td>...</td>\n",
       "      <td>-0.018199</td>\n",
       "      <td>0.026767</td>\n",
       "      <td>-0.531636</td>\n",
       "      <td>1.000000</td>\n",
       "      <td>-0.621702</td>\n",
       "      <td>0.026282</td>\n",
       "      <td>-0.045916</td>\n",
       "      <td>0.026166</td>\n",
       "      <td>-0.023252</td>\n",
       "      <td>0.020697</td>\n",
       "    </tr>\n",
       "    <tr>\n",
       "      <th>geography_type_Urban</th>\n",
       "      <td>-0.095057</td>\n",
       "      <td>0.025294</td>\n",
       "      <td>0.001182</td>\n",
       "      <td>0.010411</td>\n",
       "      <td>0.013273</td>\n",
       "      <td>-0.036235</td>\n",
       "      <td>-0.009312</td>\n",
       "      <td>0.011786</td>\n",
       "      <td>-0.010174</td>\n",
       "      <td>0.048720</td>\n",
       "      <td>...</td>\n",
       "      <td>0.069572</td>\n",
       "      <td>-0.013789</td>\n",
       "      <td>-0.332877</td>\n",
       "      <td>-0.621702</td>\n",
       "      <td>1.000000</td>\n",
       "      <td>0.006975</td>\n",
       "      <td>0.214890</td>\n",
       "      <td>0.085860</td>\n",
       "      <td>-0.028648</td>\n",
       "      <td>-0.255913</td>\n",
       "    </tr>\n",
       "    <tr>\n",
       "      <th>race_Asian</th>\n",
       "      <td>-0.003421</td>\n",
       "      <td>-0.005495</td>\n",
       "      <td>0.001519</td>\n",
       "      <td>-0.011098</td>\n",
       "      <td>0.025331</td>\n",
       "      <td>0.002630</td>\n",
       "      <td>-0.010357</td>\n",
       "      <td>0.056186</td>\n",
       "      <td>-0.007417</td>\n",
       "      <td>-0.025767</td>\n",
       "      <td>...</td>\n",
       "      <td>-0.014382</td>\n",
       "      <td>-0.004856</td>\n",
       "      <td>-0.039183</td>\n",
       "      <td>0.026282</td>\n",
       "      <td>0.006975</td>\n",
       "      <td>1.000000</td>\n",
       "      <td>-0.084219</td>\n",
       "      <td>-0.064253</td>\n",
       "      <td>-0.019713</td>\n",
       "      <td>-0.129979</td>\n",
       "    </tr>\n",
       "    <tr>\n",
       "      <th>race_Black</th>\n",
       "      <td>-0.189372</td>\n",
       "      <td>0.047393</td>\n",
       "      <td>-0.036880</td>\n",
       "      <td>0.019856</td>\n",
       "      <td>0.012834</td>\n",
       "      <td>-0.133657</td>\n",
       "      <td>0.011116</td>\n",
       "      <td>-0.057133</td>\n",
       "      <td>0.022528</td>\n",
       "      <td>0.073632</td>\n",
       "      <td>...</td>\n",
       "      <td>0.024473</td>\n",
       "      <td>-0.069485</td>\n",
       "      <td>-0.177092</td>\n",
       "      <td>-0.045916</td>\n",
       "      <td>0.214890</td>\n",
       "      <td>-0.084219</td>\n",
       "      <td>1.000000</td>\n",
       "      <td>-0.310459</td>\n",
       "      <td>-0.094667</td>\n",
       "      <td>-0.610535</td>\n",
       "    </tr>\n",
       "    <tr>\n",
       "      <th>race_Hispanic</th>\n",
       "      <td>-0.108565</td>\n",
       "      <td>0.031625</td>\n",
       "      <td>-0.007509</td>\n",
       "      <td>0.009060</td>\n",
       "      <td>0.009522</td>\n",
       "      <td>0.017798</td>\n",
       "      <td>-0.068970</td>\n",
       "      <td>0.040501</td>\n",
       "      <td>-0.067214</td>\n",
       "      <td>0.036908</td>\n",
       "      <td>...</td>\n",
       "      <td>-0.160486</td>\n",
       "      <td>0.022243</td>\n",
       "      <td>-0.124346</td>\n",
       "      <td>0.026166</td>\n",
       "      <td>0.085860</td>\n",
       "      <td>-0.064253</td>\n",
       "      <td>-0.310459</td>\n",
       "      <td>1.000000</td>\n",
       "      <td>-0.071211</td>\n",
       "      <td>-0.471502</td>\n",
       "    </tr>\n",
       "    <tr>\n",
       "      <th>race_Native American</th>\n",
       "      <td>-0.035991</td>\n",
       "      <td>-0.001388</td>\n",
       "      <td>0.010874</td>\n",
       "      <td>-0.001499</td>\n",
       "      <td>0.003056</td>\n",
       "      <td>0.016087</td>\n",
       "      <td>-0.031534</td>\n",
       "      <td>0.036368</td>\n",
       "      <td>-0.023698</td>\n",
       "      <td>0.012640</td>\n",
       "      <td>...</td>\n",
       "      <td>0.075842</td>\n",
       "      <td>0.008695</td>\n",
       "      <td>0.058972</td>\n",
       "      <td>-0.023252</td>\n",
       "      <td>-0.028648</td>\n",
       "      <td>-0.019713</td>\n",
       "      <td>-0.094667</td>\n",
       "      <td>-0.071211</td>\n",
       "      <td>1.000000</td>\n",
       "      <td>-0.141274</td>\n",
       "    </tr>\n",
       "    <tr>\n",
       "      <th>race_White</th>\n",
       "      <td>0.268458</td>\n",
       "      <td>-0.066039</td>\n",
       "      <td>0.035781</td>\n",
       "      <td>-0.021783</td>\n",
       "      <td>-0.026674</td>\n",
       "      <td>0.101596</td>\n",
       "      <td>0.056234</td>\n",
       "      <td>-0.005523</td>\n",
       "      <td>0.041486</td>\n",
       "      <td>-0.092684</td>\n",
       "      <td>...</td>\n",
       "      <td>0.086527</td>\n",
       "      <td>0.044095</td>\n",
       "      <td>0.251815</td>\n",
       "      <td>0.020697</td>\n",
       "      <td>-0.255913</td>\n",
       "      <td>-0.129979</td>\n",
       "      <td>-0.610535</td>\n",
       "      <td>-0.471502</td>\n",
       "      <td>-0.141274</td>\n",
       "      <td>1.000000</td>\n",
       "    </tr>\n",
       "  </tbody>\n",
       "</table>\n",
       "<p>26 rows × 26 columns</p>\n",
       "</div>"
      ],
      "text/plain": [
       "                                 age      male  shooting_involved  \\\n",
       "age                         1.000000 -0.018346          -0.017620   \n",
       "male                       -0.018346  1.000000          -0.008871   \n",
       "shooting_involved          -0.017620 -0.008871           1.000000   \n",
       "taser_involved              0.016125  0.016430          -0.547741   \n",
       "physical_violence_involved  0.017115  0.017451          -0.458033   \n",
       "justified                   0.043948  0.106412           0.054847   \n",
       "armed_with_gun              0.068118  0.077389           0.205629   \n",
       "armed_with_knife            0.025700 -0.015764           0.057585   \n",
       "was_a_threat                0.039906  0.046516           0.074370   \n",
       "was_fleeing                -0.195269  0.027431           0.028229   \n",
       "mental_illness              0.130658 -0.048476          -0.030895   \n",
       "home_involved               0.145197 -0.032470           0.015672   \n",
       "vehicle_involved           -0.120504 -0.003831           0.017197   \n",
       "killed                      0.092101  0.013224          -0.057679   \n",
       "state_log_income           -0.060776  0.010808          -0.012238   \n",
       "state_white_share           0.012402  0.023218           0.023163   \n",
       "state_education_level       0.002062  0.031061          -0.000606   \n",
       "police_agency_encoded       0.054643  0.005263          -0.025722   \n",
       "geography_type_Rural        0.126206  0.003489           0.008318   \n",
       "geography_type_Suburban    -0.019450 -0.025617          -0.007971   \n",
       "geography_type_Urban       -0.095057  0.025294           0.001182   \n",
       "race_Asian                 -0.003421 -0.005495           0.001519   \n",
       "race_Black                 -0.189372  0.047393          -0.036880   \n",
       "race_Hispanic              -0.108565  0.031625          -0.007509   \n",
       "race_Native American       -0.035991 -0.001388           0.010874   \n",
       "race_White                  0.268458 -0.066039           0.035781   \n",
       "\n",
       "                            taser_involved  physical_violence_involved  \\\n",
       "age                               0.016125                    0.017115   \n",
       "male                              0.016430                    0.017451   \n",
       "shooting_involved                -0.547741                   -0.458033   \n",
       "taser_involved                    1.000000                    0.001424   \n",
       "physical_violence_involved        0.001424                    1.000000   \n",
       "justified                        -0.034482                   -0.044851   \n",
       "armed_with_gun                   -0.222796                   -0.099794   \n",
       "armed_with_knife                  0.085405                   -0.030984   \n",
       "was_a_threat                     -0.082498                   -0.055126   \n",
       "was_fleeing                      -0.056712                   -0.014223   \n",
       "mental_illness                    0.088418                    0.010514   \n",
       "home_involved                    -0.003310                   -0.003135   \n",
       "vehicle_involved                 -0.049556                   -0.006444   \n",
       "killed                            0.040590                    0.026620   \n",
       "state_log_income                  0.023213                    0.035173   \n",
       "state_white_share                -0.005871                   -0.039678   \n",
       "state_education_level             0.003641                   -0.000843   \n",
       "police_agency_encoded             0.008696                    0.007340   \n",
       "geography_type_Rural             -0.028113                   -0.029300   \n",
       "geography_type_Suburban           0.014000                    0.012415   \n",
       "geography_type_Urban              0.010411                    0.013273   \n",
       "race_Asian                       -0.011098                    0.025331   \n",
       "race_Black                        0.019856                    0.012834   \n",
       "race_Hispanic                     0.009060                    0.009522   \n",
       "race_Native American             -0.001499                    0.003056   \n",
       "race_White                       -0.021783                   -0.026674   \n",
       "\n",
       "                            justified  armed_with_gun  armed_with_knife  \\\n",
       "age                          0.043948        0.068118          0.025700   \n",
       "male                         0.106412        0.077389         -0.015764   \n",
       "shooting_involved            0.054847        0.205629          0.057585   \n",
       "taser_involved              -0.034482       -0.222796          0.085405   \n",
       "physical_violence_involved  -0.044851       -0.099794         -0.030984   \n",
       "justified                    1.000000        0.214588         -0.014237   \n",
       "armed_with_gun               0.214588        1.000000         -0.399831   \n",
       "armed_with_knife            -0.014237       -0.399831          1.000000   \n",
       "was_a_threat                 0.109863        0.362260         -0.181363   \n",
       "was_fleeing                  0.036138        0.018333         -0.144830   \n",
       "mental_illness               0.013183       -0.081578          0.166542   \n",
       "home_involved               -0.018957        0.025223          0.077041   \n",
       "vehicle_involved             0.049279       -0.019299         -0.167362   \n",
       "killed                       0.111046        0.022922          0.035844   \n",
       "state_log_income            -0.032123       -0.097766          0.080238   \n",
       "state_white_share            0.089412        0.035975          0.005911   \n",
       "state_education_level        0.089017       -0.011128          0.040622   \n",
       "police_agency_encoded        0.067590        0.007895          0.025361   \n",
       "geography_type_Rural         0.039725        0.050777         -0.047119   \n",
       "geography_type_Suburban     -0.000450       -0.033812          0.028552   \n",
       "geography_type_Urban        -0.036235       -0.009312          0.011786   \n",
       "race_Asian                   0.002630       -0.010357          0.056186   \n",
       "race_Black                  -0.133657        0.011116         -0.057133   \n",
       "race_Hispanic                0.017798       -0.068970          0.040501   \n",
       "race_Native American         0.016087       -0.031534          0.036368   \n",
       "race_White                   0.101596        0.056234         -0.005523   \n",
       "\n",
       "                            was_a_threat  was_fleeing  ...  \\\n",
       "age                             0.039906    -0.195269  ...   \n",
       "male                            0.046516     0.027431  ...   \n",
       "shooting_involved               0.074370     0.028229  ...   \n",
       "taser_involved                 -0.082498    -0.056712  ...   \n",
       "physical_violence_involved     -0.055126    -0.014223  ...   \n",
       "justified                       0.109863     0.036138  ...   \n",
       "armed_with_gun                  0.362260     0.018333  ...   \n",
       "armed_with_knife               -0.181363    -0.144830  ...   \n",
       "was_a_threat                    1.000000     0.002694  ...   \n",
       "was_fleeing                     0.002694     1.000000  ...   \n",
       "mental_illness                 -0.057343    -0.217071  ...   \n",
       "home_involved                   0.025367    -0.203882  ...   \n",
       "vehicle_involved               -0.000537     0.351693  ...   \n",
       "killed                          0.007682     0.022372  ...   \n",
       "state_log_income               -0.083928     0.002601  ...   \n",
       "state_white_share               0.004312     0.016342  ...   \n",
       "state_education_level          -0.041462     0.001759  ...   \n",
       "police_agency_encoded          -0.007986     0.007154  ...   \n",
       "geography_type_Rural            0.021985    -0.004658  ...   \n",
       "geography_type_Suburban        -0.009123    -0.039891  ...   \n",
       "geography_type_Urban           -0.010174     0.048720  ...   \n",
       "race_Asian                     -0.007417    -0.025767  ...   \n",
       "race_Black                      0.022528     0.073632  ...   \n",
       "race_Hispanic                  -0.067214     0.036908  ...   \n",
       "race_Native American           -0.023698     0.012640  ...   \n",
       "race_White                      0.041486    -0.092684  ...   \n",
       "\n",
       "                            state_education_level  police_agency_encoded  \\\n",
       "age                                      0.002062               0.054643   \n",
       "male                                     0.031061               0.005263   \n",
       "shooting_involved                       -0.000606              -0.025722   \n",
       "taser_involved                           0.003641               0.008696   \n",
       "physical_violence_involved              -0.000843               0.007340   \n",
       "justified                                0.089017               0.067590   \n",
       "armed_with_gun                          -0.011128               0.007895   \n",
       "armed_with_knife                         0.040622               0.025361   \n",
       "was_a_threat                            -0.041462              -0.007986   \n",
       "was_fleeing                              0.001759               0.007154   \n",
       "mental_illness                           0.054789               0.015285   \n",
       "home_involved                           -0.001720               0.045293   \n",
       "vehicle_involved                        -0.018193              -0.023422   \n",
       "killed                                  -0.068992               0.519469   \n",
       "state_log_income                         0.406647              -0.048880   \n",
       "state_white_share                        0.461763              -0.054611   \n",
       "state_education_level                    1.000000              -0.075262   \n",
       "police_agency_encoded                   -0.075262               1.000000   \n",
       "geography_type_Rural                    -0.053322              -0.017314   \n",
       "geography_type_Suburban                 -0.018199               0.026767   \n",
       "geography_type_Urban                     0.069572              -0.013789   \n",
       "race_Asian                              -0.014382              -0.004856   \n",
       "race_Black                               0.024473              -0.069485   \n",
       "race_Hispanic                           -0.160486               0.022243   \n",
       "race_Native American                     0.075842               0.008695   \n",
       "race_White                               0.086527               0.044095   \n",
       "\n",
       "                            geography_type_Rural  geography_type_Suburban  \\\n",
       "age                                     0.126206                -0.019450   \n",
       "male                                    0.003489                -0.025617   \n",
       "shooting_involved                       0.008318                -0.007971   \n",
       "taser_involved                         -0.028113                 0.014000   \n",
       "physical_violence_involved             -0.029300                 0.012415   \n",
       "justified                               0.039725                -0.000450   \n",
       "armed_with_gun                          0.050777                -0.033812   \n",
       "armed_with_knife                       -0.047119                 0.028552   \n",
       "was_a_threat                            0.021985                -0.009123   \n",
       "was_fleeing                            -0.004658                -0.039891   \n",
       "mental_illness                         -0.008401                 0.049802   \n",
       "home_involved                           0.065845                 0.028788   \n",
       "vehicle_involved                        0.030678                -0.007370   \n",
       "killed                                  0.018200                -0.002710   \n",
       "state_log_income                       -0.236241                 0.045305   \n",
       "state_white_share                       0.016373                -0.051975   \n",
       "state_education_level                  -0.053322                -0.018199   \n",
       "police_agency_encoded                  -0.017314                 0.026767   \n",
       "geography_type_Rural                    1.000000                -0.531636   \n",
       "geography_type_Suburban                -0.531636                 1.000000   \n",
       "geography_type_Urban                   -0.332877                -0.621702   \n",
       "race_Asian                             -0.039183                 0.026282   \n",
       "race_Black                             -0.177092                -0.045916   \n",
       "race_Hispanic                          -0.124346                 0.026166   \n",
       "race_Native American                    0.058972                -0.023252   \n",
       "race_White                              0.251815                 0.020697   \n",
       "\n",
       "                            geography_type_Urban  race_Asian  race_Black  \\\n",
       "age                                    -0.095057   -0.003421   -0.189372   \n",
       "male                                    0.025294   -0.005495    0.047393   \n",
       "shooting_involved                       0.001182    0.001519   -0.036880   \n",
       "taser_involved                          0.010411   -0.011098    0.019856   \n",
       "physical_violence_involved              0.013273    0.025331    0.012834   \n",
       "justified                              -0.036235    0.002630   -0.133657   \n",
       "armed_with_gun                         -0.009312   -0.010357    0.011116   \n",
       "armed_with_knife                        0.011786    0.056186   -0.057133   \n",
       "was_a_threat                           -0.010174   -0.007417    0.022528   \n",
       "was_fleeing                             0.048720   -0.025767    0.073632   \n",
       "mental_illness                         -0.047678    0.024018   -0.134602   \n",
       "home_involved                          -0.092943   -0.012665   -0.085987   \n",
       "vehicle_involved                       -0.020165   -0.020604    0.035121   \n",
       "killed                                 -0.013814   -0.013587   -0.060030   \n",
       "state_log_income                        0.168029    0.054236    0.000572   \n",
       "state_white_share                       0.042724   -0.021613   -0.004744   \n",
       "state_education_level                   0.069572   -0.014382    0.024473   \n",
       "police_agency_encoded                  -0.013789   -0.004856   -0.069485   \n",
       "geography_type_Rural                   -0.332877   -0.039183   -0.177092   \n",
       "geography_type_Suburban                -0.621702    0.026282   -0.045916   \n",
       "geography_type_Urban                    1.000000    0.006975    0.214890   \n",
       "race_Asian                              0.006975    1.000000   -0.084219   \n",
       "race_Black                              0.214890   -0.084219    1.000000   \n",
       "race_Hispanic                           0.085860   -0.064253   -0.310459   \n",
       "race_Native American                   -0.028648   -0.019713   -0.094667   \n",
       "race_White                             -0.255913   -0.129979   -0.610535   \n",
       "\n",
       "                            race_Hispanic  race_Native American  race_White  \n",
       "age                             -0.108565             -0.035991    0.268458  \n",
       "male                             0.031625             -0.001388   -0.066039  \n",
       "shooting_involved               -0.007509              0.010874    0.035781  \n",
       "taser_involved                   0.009060             -0.001499   -0.021783  \n",
       "physical_violence_involved       0.009522              0.003056   -0.026674  \n",
       "justified                        0.017798              0.016087    0.101596  \n",
       "armed_with_gun                  -0.068970             -0.031534    0.056234  \n",
       "armed_with_knife                 0.040501              0.036368   -0.005523  \n",
       "was_a_threat                    -0.067214             -0.023698    0.041486  \n",
       "was_fleeing                      0.036908              0.012640   -0.092684  \n",
       "mental_illness                  -0.073135             -0.008684    0.175811  \n",
       "home_involved                   -0.013331             -0.009748    0.094504  \n",
       "vehicle_involved                 0.015188             -0.008064   -0.036052  \n",
       "killed                          -0.004361              0.009827    0.058519  \n",
       "state_log_income                 0.162747              0.012679   -0.146980  \n",
       "state_white_share               -0.129756             -0.115510    0.145784  \n",
       "state_education_level           -0.160486              0.075842    0.086527  \n",
       "police_agency_encoded            0.022243              0.008695    0.044095  \n",
       "geography_type_Rural            -0.124346              0.058972    0.251815  \n",
       "geography_type_Suburban          0.026166             -0.023252    0.020697  \n",
       "geography_type_Urban             0.085860             -0.028648   -0.255913  \n",
       "race_Asian                      -0.064253             -0.019713   -0.129979  \n",
       "race_Black                      -0.310459             -0.094667   -0.610535  \n",
       "race_Hispanic                    1.000000             -0.071211   -0.471502  \n",
       "race_Native American            -0.071211              1.000000   -0.141274  \n",
       "race_White                      -0.471502             -0.141274    1.000000  \n",
       "\n",
       "[26 rows x 26 columns]"
      ]
     },
     "execution_count": 189,
     "metadata": {},
     "output_type": "execute_result"
    }
   ],
   "source": [
    "df.corr()"
   ]
  },
  {
   "cell_type": "code",
   "execution_count": 190,
   "metadata": {},
   "outputs": [
    {
     "data": {
      "text/plain": [
       "<matplotlib.collections.PolyCollection at 0x10d282970>"
      ]
     },
     "execution_count": 190,
     "metadata": {},
     "output_type": "execute_result"
    },
    {
     "data": {
      "image/png": "[encoded data removed]",
      "text/plain": [
       "<Figure size 432x288 with 1 Axes>"
      ]
     },
     "metadata": {
      "needs_background": "light"
     },
     "output_type": "display_data"
    }
   ],
   "source": [
    "import matplotlib.pyplot as plt\n",
    "plt.pcolor(df.corr(),cmap='coolwarm')  #use other color maps: https://matplotlib.org/examples/color/colormaps_reference.html\n"
   ]
  },
  {
   "cell_type": "markdown",
   "metadata": {},
   "source": [
    "<h2>Fit model"
   ]
  },
  {
   "cell_type": "code",
   "execution_count": 191,
   "metadata": {},
   "outputs": [],
   "source": [
    "from sklearn.linear_model import LogisticRegression\n",
    "model = LogisticRegression(max_iter=2000)\n",
    "\n",
    "#train log reg model on training df\n",
    "model.fit(X_train, y_train)\n",
    "\n",
    "#use trained model on testing df to predict y var\n",
    "y_pred = model.predict(X_test)"
   ]
  },
  {
   "cell_type": "markdown",
   "metadata": {},
   "source": [
    "<h2>assess model performance"
   ]
  },
  {
   "cell_type": "markdown",
   "metadata": {},
   "source": [
    "<h3>confusion matrix"
   ]
  },
  {
   "cell_type": "code",
   "execution_count": 192,
   "metadata": {},
   "outputs": [],
   "source": [
    "from sklearn.metrics import confusion_matrix\n",
    "cf_matrix = confusion_matrix(y_test, y_pred)"
   ]
  },
  {
   "cell_type": "code",
   "execution_count": 193,
   "metadata": {},
   "outputs": [
    {
     "data": {
      "text/plain": [
       "<matplotlib.axes._subplots.AxesSubplot at 0x127d20280>"
      ]
     },
     "execution_count": 193,
     "metadata": {},
     "output_type": "execute_result"
    },
    {
     "data": {
      "image/png": "[encoded data removed]",
      "text/plain": [
       "<Figure size 432x288 with 2 Axes>"
      ]
     },
     "metadata": {
      "needs_background": "light"
     },
     "output_type": "display_data"
    }
   ],
   "source": [
    "import seaborn as sns\n",
    "\n",
    "group_names = ['True Neg','False Pos','False Neg','True Pos']\n",
    "group_counts = ['{0:0.0f}'.format(value) for value in\n",
    "                cf_matrix.flatten()]\n",
    "group_percentages = ['{0:.2%}'.format(value) for value in\n",
    "                     cf_matrix.flatten()/np.sum(cf_matrix)]\n",
    "labels = [f'{v1}\\n{v2}\\n{v3}' for v1, v2, v3 in\n",
    "          zip(group_names,group_counts,group_percentages)]\n",
    "labels = np.asarray(labels).reshape(2,2)\n",
    "sns.heatmap(cf_matrix, annot=labels, fmt='', cmap='Purples')\n"
   ]
  },
  {
   "cell_type": "markdown",
   "metadata": {},
   "source": [
    "<h3>calculate all metrics"
   ]
  },
  {
   "cell_type": "code",
   "execution_count": 194,
   "metadata": {},
   "outputs": [],
   "source": [
    "def c_m_analysis(cf_matrix):\n",
    "    tn, fp, fn, tp = cf_matrix.ravel()\n",
    "\n",
    "    recall_tpr = tp/(tp+fn)\n",
    "    specificity_tnr = tn/(tn+fp)\n",
    "    precision = tp/(tp+fp)\n",
    "    fpr = fp/(fp+tn)\n",
    "    f_score = 2*precision*recall_tpr/(precision+recall_tpr)\n",
    "    accuracy = (tp+tn)/(tp+tn+fp+fn)\n",
    "    print(f'Recall/TPR:\\t\\t{recall_tpr*100:.2f}% of individuals killed identified')\n",
    "    print(f'Specificity/TNR:\\t{specificity_tnr*100:.2f}% of individuals not killed identified')\n",
    "    print(f'Precision:\\t\\t{precision*100:.2f}% of individuals identified to be killed are actually killed')\n",
    "    print(f'False Positive Rate:\\t{fpr*100:.2f}% of individuals not killed identified to be killed')\n",
    "    print(f'f-score:\\t\\t{f_score*100:.2f}% weighted average between precision and recall')\n",
    "    print(f'Accuracy:\\t\\t{accuracy*100:.2f}% of individuals correctly classified')\n"
   ]
  },
  {
   "cell_type": "code",
   "execution_count": 195,
   "metadata": {
    "scrolled": true
   },
   "outputs": [
    {
     "name": "stdout",
     "output_type": "stream",
     "text": [
      "Recall/TPR:\t\t85.63% of individuals killed identified\n",
      "Specificity/TNR:\t75.00% of individuals not killed identified\n",
      "Precision:\t\t97.87% of individuals identified to be killed are actually killed\n",
      "False Positive Rate:\t25.00% of individuals not killed identified to be killed\n",
      "f-score:\t\t91.34% weighted average between precision and recall\n",
      "Accuracy:\t\t84.89% of individuals correctly classified\n"
     ]
    }
   ],
   "source": [
    "c_m_analysis(cf_matrix)\n"
   ]
  },
  {
   "cell_type": "markdown",
   "metadata": {},
   "source": [
    "<h3>the metric our project cares about</h3>\n",
    "<li>recall/ TPR: we want to identify killings to be able to prevent them\n",
    "<li>precision: we want to be sure when we identify people as going to be killed\n",
    "<br>so, we look at f-score to decide between models, which is a combined metric of precision and recall\n",
    "    \n",
    "    "
   ]
  },
  {
   "cell_type": "markdown",
   "metadata": {},
   "source": [
    "<h3>ROC curve"
   ]
  },
  {
   "cell_type": "code",
   "execution_count": 196,
   "metadata": {},
   "outputs": [
    {
     "data": {
      "text/plain": [
       "<matplotlib.legend.Legend at 0x127e16ee0>"
      ]
     },
     "execution_count": 196,
     "metadata": {},
     "output_type": "execute_result"
    },
    {
     "data": {
      "image/png": "[encoded data removed]",
      "text/plain": [
       "<Figure size 432x288 with 1 Axes>"
      ]
     },
     "metadata": {
      "needs_background": "light"
     },
     "output_type": "display_data"
    }
   ],
   "source": [
    "from sklearn.metrics import roc_curve, auc\n",
    "\n",
    "(fpr, tpr, thresholds) = roc_curve(y_test, y_pred)\n",
    "\n",
    "area = auc(fpr,tpr)\n",
    "plt.clf() #Clear the current figure\n",
    "plt.plot(fpr,tpr,label=\"Area under ROC Curve = %1.2f\"%area)\n",
    "\n",
    "plt.plot([0, 1], [0, 1], 'k')\n",
    "plt.xlim([0.0, 1.0])\n",
    "plt.ylim([0.0, 1.0])\n",
    "plt.xlabel('False Positive Rate')\n",
    "plt.ylabel('True Positive Rate')\n",
    "plt.title('ROC Curve')\n",
    "plt.legend(loc=\"lower right\")"
   ]
  },
  {
   "cell_type": "markdown",
   "metadata": {},
   "source": [
    "<h3>precision-recall curve</h3>\n",
    "<br><b>more useful in the context of our project than ROC curve bc we are not interested in the skill of the model in identifying '0'!"
   ]
  },
  {
   "cell_type": "code",
   "execution_count": 197,
   "metadata": {
    "scrolled": true
   },
   "outputs": [
    {
     "data": {
      "image/png": "[encoded data removed]",
      "text/plain": [
       "<Figure size 432x288 with 1 Axes>"
      ]
     },
     "metadata": {
      "needs_background": "light"
     },
     "output_type": "display_data"
    }
   ],
   "source": [
    "import matplotlib.pyplot as plt\n",
    "from sklearn.metrics import precision_recall_curve\n",
    "from sklearn.metrics import average_precision_score\n",
    "\n",
    "precision, recall, thresholds = precision_recall_curve(y_test, y_pred)\n",
    "average_precision = average_precision_score(y_test, y_pred)\n",
    "\n",
    "step_kwargs = ({'step' : 'post'})\n",
    "\n",
    "plt.step(recall, precision, color='b', alpha=0.2, where='post')\n",
    "plt.fill_between(recall, precision, alpha=0.2, color='b', **step_kwargs)\n",
    "\n",
    "plt.xlabel('Recall')\n",
    "plt.ylabel('Precision')\n",
    "plt.ylim([0.0, 1.05])\n",
    "plt.xlim([0.0, 1.0])\n",
    "plt.title(f'Precision-Recall Curve: Average Precision={average_precision*100:.2f}%')\n",
    "plt.tight_layout()"
   ]
  },
  {
   "cell_type": "markdown",
   "metadata": {},
   "source": [
    "<h1>2) Random Forest Model</h1>"
   ]
  },
  {
   "cell_type": "markdown",
   "metadata": {},
   "source": [
    "<h2>Fit model"
   ]
  },
  {
   "cell_type": "markdown",
   "metadata": {},
   "source": [
    "<H3>randomsearchCV"
   ]
  },
  {
   "cell_type": "code",
   "execution_count": 198,
   "metadata": {},
   "outputs": [],
   "source": [
    "from sklearn.model_selection import RandomizedSearchCV\n",
    "import numpy as np\n",
    "\n",
    "# Number of trees in random forest\n",
    "n_estimators = [int(x) for x in np.linspace(start = 200, stop = 2000, num = 10)]\n",
    "\n",
    "# Number of features to consider at every split\n",
    "max_features = ['auto', 'sqrt']\n",
    "\n",
    "# Maximum number of levels in tree\n",
    "max_depth = [int(x) for x in np.linspace(10, 110, num = 11)]\n",
    "max_depth.append(None)\n",
    "\n",
    "# Minimum number of samples required to split a node\n",
    "min_samples_split = [2, 5, 10]\n",
    "\n",
    "# Minimum number of samples required at each leaf node\n",
    "min_samples_leaf = [1, 2, 4]\n",
    "\n",
    "# Method of selecting samples for training each tree\n",
    "bootstrap = [True, False]\n",
    "\n",
    "# Create the random grid\n",
    "random_grid = {'n_estimators': n_estimators,\n",
    "               'max_features': max_features,\n",
    "               'max_depth': max_depth,\n",
    "               'min_samples_split': min_samples_split,\n",
    "               'min_samples_leaf': min_samples_leaf,\n",
    "               'bootstrap': bootstrap}"
   ]
  },
  {
   "cell_type": "code",
   "execution_count": 199,
   "metadata": {},
   "outputs": [
    {
     "name": "stdout",
     "output_type": "stream",
     "text": [
      "Fitting 3 folds for each of 100 candidates, totalling 300 fits\n"
     ]
    },
    {
     "name": "stderr",
     "output_type": "stream",
     "text": [
      "[Parallel(n_jobs=-1)]: Using backend LokyBackend with 4 concurrent workers.\n",
      "[Parallel(n_jobs=-1)]: Done  33 tasks      | elapsed:  1.9min\n",
      "[Parallel(n_jobs=-1)]: Done 154 tasks      | elapsed:  7.9min\n",
      "[Parallel(n_jobs=-1)]: Done 300 out of 300 | elapsed: 16.6min finished\n"
     ]
    },
    {
     "data": {
      "text/plain": [
       "RandomizedSearchCV(cv=3, estimator=RandomForestClassifier(), n_iter=100,\n",
       "                   n_jobs=-1,\n",
       "                   param_distributions={'bootstrap': [True, False],\n",
       "                                        'max_depth': [10, 20, 30, 40, 50, 60,\n",
       "                                                      70, 80, 90, 100, 110,\n",
       "                                                      None],\n",
       "                                        'max_features': ['auto', 'sqrt'],\n",
       "                                        'min_samples_leaf': [1, 2, 4],\n",
       "                                        'min_samples_split': [2, 5, 10],\n",
       "                                        'n_estimators': [200, 400, 600, 800,\n",
       "                                                         1000, 1200, 1400, 1600,\n",
       "                                                         1800, 2000]},\n",
       "                   random_state=15, verbose=2)"
      ]
     },
     "execution_count": 199,
     "metadata": {},
     "output_type": "execute_result"
    }
   ],
   "source": [
    "rf = RandomForestClassifier()\n",
    "\n",
    "rf_random_search = RandomizedSearchCV(estimator = rf, param_distributions = random_grid, n_iter = 100, cv = 3, verbose=2, random_state=15, n_jobs = -1)\n",
    "\n",
    "rf_random_search.fit(X_train, np.ravel(y_train))\n"
   ]
  },
  {
   "cell_type": "code",
   "execution_count": 200,
   "metadata": {
    "scrolled": true
   },
   "outputs": [
    {
     "data": {
      "text/plain": [
       "{'n_estimators': 1000,\n",
       " 'min_samples_split': 10,\n",
       " 'min_samples_leaf': 1,\n",
       " 'max_features': 'sqrt',\n",
       " 'max_depth': 80,\n",
       " 'bootstrap': False}"
      ]
     },
     "execution_count": 200,
     "metadata": {},
     "output_type": "execute_result"
    }
   ],
   "source": [
    "rf_random_search.best_params_\n"
   ]
  },
  {
   "cell_type": "code",
   "execution_count": 201,
   "metadata": {
    "scrolled": true
   },
   "outputs": [
    {
     "data": {
      "text/plain": [
       "0.9988864142538976"
      ]
     },
     "execution_count": 201,
     "metadata": {},
     "output_type": "execute_result"
    }
   ],
   "source": [
    "rf_random_search.best_score_  #increased from base model"
   ]
  },
  {
   "cell_type": "code",
   "execution_count": 202,
   "metadata": {},
   "outputs": [
    {
     "data": {
      "text/plain": [
       "RandomForestClassifier(bootstrap=False, max_depth=40, min_samples_split=5,\n",
       "                       n_estimators=1400)"
      ]
     },
     "execution_count": 202,
     "metadata": {},
     "output_type": "execute_result"
    }
   ],
   "source": [
    "random_search_optimal_model = RandomForestClassifier(n_estimators= 1400,min_samples_split= 5,min_samples_leaf= 1,max_features= 'auto',max_depth= 40,bootstrap= False)\n",
    "random_search_optimal_model.fit(X_train, np.ravel(y_train))\n"
   ]
  },
  {
   "cell_type": "code",
   "execution_count": 203,
   "metadata": {},
   "outputs": [],
   "source": [
    "y_pred = random_search_optimal_model.predict(X_test)"
   ]
  },
  {
   "cell_type": "code",
   "execution_count": 204,
   "metadata": {},
   "outputs": [],
   "source": [
    "cf_matrix = confusion_matrix(y_test, y_pred)"
   ]
  },
  {
   "cell_type": "code",
   "execution_count": 205,
   "metadata": {},
   "outputs": [
    {
     "name": "stdout",
     "output_type": "stream",
     "text": [
      "Recall/TPR:\t\t99.74% of individuals killed identified\n",
      "Specificity/TNR:\t93.02% of individuals not killed identified\n",
      "Precision:\t\t99.48% of individuals identified to be killed are actually killed\n",
      "False Positive Rate:\t6.98% of individuals not killed identified to be killed\n",
      "f-score:\t\t99.61% weighted average between precision and recall\n",
      "Accuracy:\t\t99.27% of individuals correctly classified\n"
     ]
    }
   ],
   "source": [
    "c_m_analysis(cf_matrix)"
   ]
  },
  {
   "cell_type": "markdown",
   "metadata": {},
   "source": [
    "<H3>gridsearchCV"
   ]
  },
  {
   "cell_type": "code",
   "execution_count": 206,
   "metadata": {},
   "outputs": [],
   "source": [
    "from sklearn.model_selection import GridSearchCV\n",
    "\n",
    "# Create the parameter grid based on the results of random search \n",
    "param_grid = {\n",
    "    'bootstrap': [False],\n",
    "    'max_depth': [30, 40, 50],\n",
    "    'max_features': [2, 3],\n",
    "    'min_samples_leaf': [0, 1, 2],\n",
    "    'min_samples_split': [3, 5, 7],\n",
    "    'n_estimators': [1200, 1400, 1600]\n",
    "}\n",
    "\n",
    "rf_grid_search = GridSearchCV(estimator = rf, param_grid = param_grid, cv = 3, n_jobs = -1, verbose = 2)"
   ]
  },
  {
   "cell_type": "code",
   "execution_count": 207,
   "metadata": {},
   "outputs": [
    {
     "name": "stdout",
     "output_type": "stream",
     "text": [
      "Fitting 3 folds for each of 162 candidates, totalling 486 fits\n"
     ]
    },
    {
     "name": "stderr",
     "output_type": "stream",
     "text": [
      "[Parallel(n_jobs=-1)]: Using backend LokyBackend with 4 concurrent workers.\n",
      "[Parallel(n_jobs=-1)]: Done  33 tasks      | elapsed:   38.7s\n",
      "[Parallel(n_jobs=-1)]: Done 154 tasks      | elapsed:  6.1min\n",
      "[Parallel(n_jobs=-1)]: Done 357 tasks      | elapsed: 13.5min\n",
      "[Parallel(n_jobs=-1)]: Done 486 out of 486 | elapsed: 19.5min finished\n"
     ]
    },
    {
     "data": {
      "text/plain": [
       "GridSearchCV(cv=3, estimator=RandomForestClassifier(), n_jobs=-1,\n",
       "             param_grid={'bootstrap': [False], 'max_depth': [30, 40, 50],\n",
       "                         'max_features': [2, 3], 'min_samples_leaf': [0, 1, 2],\n",
       "                         'min_samples_split': [3, 5, 7],\n",
       "                         'n_estimators': [1200, 1400, 1600]},\n",
       "             verbose=2)"
      ]
     },
     "execution_count": 207,
     "metadata": {},
     "output_type": "execute_result"
    }
   ],
   "source": [
    "rf_grid_search.fit(X_train, np.ravel(y_train))"
   ]
  },
  {
   "cell_type": "code",
   "execution_count": 208,
   "metadata": {},
   "outputs": [
    {
     "data": {
      "text/plain": [
       "{'bootstrap': False,\n",
       " 'max_depth': 30,\n",
       " 'max_features': 2,\n",
       " 'min_samples_leaf': 1,\n",
       " 'min_samples_split': 5,\n",
       " 'n_estimators': 1600}"
      ]
     },
     "execution_count": 208,
     "metadata": {},
     "output_type": "execute_result"
    }
   ],
   "source": [
    "rf_grid_search.best_params_\n"
   ]
  },
  {
   "cell_type": "code",
   "execution_count": 209,
   "metadata": {},
   "outputs": [
    {
     "data": {
      "text/plain": [
       "0.9994432071269488"
      ]
     },
     "execution_count": 209,
     "metadata": {},
     "output_type": "execute_result"
    }
   ],
   "source": [
    "rf_grid_search.best_score_ #further increase in accuracy"
   ]
  },
  {
   "cell_type": "code",
   "execution_count": 210,
   "metadata": {},
   "outputs": [],
   "source": [
    "optimal_model = RandomForestClassifier(bootstrap=False, max_depth=20, max_features=2, min_samples_leaf=1, min_samples_split=3, n_estimators=1200)\n"
   ]
  },
  {
   "cell_type": "code",
   "execution_count": 211,
   "metadata": {},
   "outputs": [
    {
     "data": {
      "text/plain": [
       "RandomForestClassifier(bootstrap=False, max_depth=20, max_features=2,\n",
       "                       min_samples_split=3, n_estimators=1200)"
      ]
     },
     "execution_count": 211,
     "metadata": {},
     "output_type": "execute_result"
    }
   ],
   "source": [
    "optimal_model.fit(X_train, np.ravel(y_train))"
   ]
  },
  {
   "cell_type": "code",
   "execution_count": 212,
   "metadata": {},
   "outputs": [],
   "source": [
    "y_pred = optimal_model.predict(X_test)"
   ]
  },
  {
   "cell_type": "markdown",
   "metadata": {},
   "source": [
    "<h2>assess model performance"
   ]
  },
  {
   "cell_type": "markdown",
   "metadata": {},
   "source": [
    "<h3>confusion matrix"
   ]
  },
  {
   "cell_type": "code",
   "execution_count": 213,
   "metadata": {},
   "outputs": [
    {
     "data": {
      "text/plain": [
       "<matplotlib.axes._subplots.AxesSubplot at 0x1242f33d0>"
      ]
     },
     "execution_count": 213,
     "metadata": {},
     "output_type": "execute_result"
    },
    {
     "data": {
      "image/png": "[encoded data removed]",
      "text/plain": [
       "<Figure size 432x288 with 2 Axes>"
      ]
     },
     "metadata": {
      "needs_background": "light"
     },
     "output_type": "display_data"
    }
   ],
   "source": [
    "cf_matrix = confusion_matrix(y_test, y_pred)\n",
    "\n",
    "import seaborn as sns\n",
    "\n",
    "group_names = ['True Neg','False Pos','False Neg','True Pos']\n",
    "group_counts = ['{0:0.2f}'.format(value) for value in\n",
    "                cf_matrix.flatten()]\n",
    "group_percentages = ['{0:.2%}'.format(value) for value in\n",
    "                     cf_matrix.flatten()/np.sum(cf_matrix)]\n",
    "labels = [f'{v1}\\n{v2}\\n{v3}' for v1, v2, v3 in\n",
    "          zip(group_names,group_counts,group_percentages)]\n",
    "labels = np.asarray(labels).reshape(2,2)\n",
    "sns.heatmap(cf_matrix, annot=labels, fmt='', cmap='Purples')\n"
   ]
  },
  {
   "cell_type": "markdown",
   "metadata": {},
   "source": [
    "<h3>calculate all metrics"
   ]
  },
  {
   "cell_type": "code",
   "execution_count": 214,
   "metadata": {
    "scrolled": true
   },
   "outputs": [
    {
     "name": "stdout",
     "output_type": "stream",
     "text": [
      "Recall/TPR:\t\t99.83% of individuals killed identified\n",
      "Specificity/TNR:\t90.70% of individuals not killed identified\n",
      "Precision:\t\t99.31% of individuals identified to be killed are actually killed\n",
      "False Positive Rate:\t9.30% of individuals not killed identified to be killed\n",
      "f-score:\t\t99.57% weighted average between precision and recall\n",
      "Accuracy:\t\t99.19% of individuals correctly classified\n"
     ]
    }
   ],
   "source": [
    "c_m_analysis(cf_matrix)"
   ]
  },
  {
   "cell_type": "markdown",
   "metadata": {},
   "source": [
    "<h3>comparing using only the metrics we care about: precision, recall, f-score"
   ]
  },
  {
   "cell_type": "markdown",
   "metadata": {},
   "source": [
    "<h3>ROC curve"
   ]
  },
  {
   "cell_type": "code",
   "execution_count": 215,
   "metadata": {},
   "outputs": [
    {
     "data": {
      "text/plain": [
       "<matplotlib.legend.Legend at 0x124419ca0>"
      ]
     },
     "execution_count": 215,
     "metadata": {},
     "output_type": "execute_result"
    },
    {
     "data": {
      "image/png": "[encoded data removed]",
      "text/plain": [
       "<Figure size 432x288 with 1 Axes>"
      ]
     },
     "metadata": {
      "needs_background": "light"
     },
     "output_type": "display_data"
    }
   ],
   "source": [
    "from sklearn.metrics import roc_curve, auc\n",
    "\n",
    "(fpr, tpr, thresholds) = roc_curve(y_test, y_pred)\n",
    "\n",
    "area = auc(fpr,tpr)\n",
    "plt.clf() #Clear the current figure\n",
    "plt.plot(fpr,tpr,label=\"Area under ROC Curve = %1.2f\"%area)\n",
    "\n",
    "plt.plot([0, 1], [0, 1], 'k')\n",
    "plt.xlim([0.0, 1.0])\n",
    "plt.ylim([0.0, 1.0])\n",
    "plt.xlabel('False Positive Rate')\n",
    "plt.ylabel('True Positive Rate')\n",
    "plt.title('ROC Curve')\n",
    "plt.legend(loc=\"lower right\")"
   ]
  },
  {
   "cell_type": "markdown",
   "metadata": {},
   "source": [
    "<h3>precision-recall curve</h3>\n",
    "<br><b>more useful in the context of our project than ROC curve bc we are not interested in the skill of the model in identifying '0'!"
   ]
  },
  {
   "cell_type": "code",
   "execution_count": 216,
   "metadata": {},
   "outputs": [
    {
     "data": {
      "image/png": "[encoded data removed]",
      "text/plain": [
       "<Figure size 432x288 with 1 Axes>"
      ]
     },
     "metadata": {
      "needs_background": "light"
     },
     "output_type": "display_data"
    }
   ],
   "source": [
    "import matplotlib.pyplot as plt\n",
    "from sklearn.metrics import precision_recall_curve\n",
    "from sklearn.metrics import average_precision_score\n",
    "\n",
    "precision, recall, thresholds = precision_recall_curve(y_test, y_pred)\n",
    "average_precision = average_precision_score(y_test, y_pred)\n",
    "\n",
    "step_kwargs = ({'step' : 'post'})\n",
    "\n",
    "plt.step(recall, precision, color='b', alpha=0.2, where='post')\n",
    "plt.fill_between(recall, precision, alpha=0.2, color='b', **step_kwargs)\n",
    "\n",
    "plt.xlabel('Recall')\n",
    "plt.ylabel('Precision')\n",
    "plt.ylim([0.0, 1.05])\n",
    "plt.xlim([0.0, 1.0])\n",
    "plt.title(f'Precision-Recall Curve: Average Precision={average_precision*100:.2f}%')\n",
    "plt.tight_layout()"
   ]
  },
  {
   "cell_type": "markdown",
   "metadata": {},
   "source": [
    "<h3>feature importance plot"
   ]
  },
  {
   "cell_type": "code",
   "execution_count": 217,
   "metadata": {},
   "outputs": [
    {
     "data": {
      "image/png": "[encoded data removed]",
      "text/plain": [
       "<Figure size 864x864 with 1 Axes>"
      ]
     },
     "metadata": {
      "needs_background": "light"
     },
     "output_type": "display_data"
    }
   ],
   "source": [
    "import matplotlib.pyplot as plt\n",
    "%matplotlib inline\n",
    "\n",
    "importances = optimal_model.feature_importances_\n",
    "indices = np.argsort(importances)\n",
    "feature_names = [key for key in df if not key == 'killed']\n",
    "\n",
    "plt.figure(figsize=(12,12))\n",
    "plt.title('Feature Importances')\n",
    "plt.barh(range(len(indices)), importances[indices])\n",
    "plt.yticks(range(len(indices)), feature_names)\n",
    "plt.xlabel('Relative Importance')\n",
    "plt.tight_layout()\n"
   ]
  },
  {
   "cell_type": "markdown",
   "metadata": {},
   "source": [
    "<h1>3) Neural Network Model</h1>"
   ]
  },
  {
   "cell_type": "markdown",
   "metadata": {},
   "source": [
    "<h2>Fit model"
   ]
  },
  {
   "cell_type": "code",
   "execution_count": 218,
   "metadata": {},
   "outputs": [],
   "source": [
    "from sklearn.neural_network import MLPClassifier\n",
    "\n",
    "model = MLPClassifier(solver='adam', alpha=1e-5, hidden_layer_sizes=(100,), max_iter = 500, random_state=1)\n"
   ]
  },
  {
   "cell_type": "markdown",
   "metadata": {},
   "source": [
    "we choose a non-linear activation function bc:\n",
    "<li>the rs between our X and Y is non-linear (can we draw a graph to show this?)\n",
    "<li>allow the model to create complex mappings between the network’s inputs and outputs, which are essential for learning and modeling complex data which are non-linear or have high dimensionality\n"
   ]
  },
  {
   "cell_type": "code",
   "execution_count": 219,
   "metadata": {},
   "outputs": [
    {
     "data": {
      "text/plain": [
       "MLPClassifier(alpha=1e-05, max_iter=500, random_state=1)"
      ]
     },
     "execution_count": 219,
     "metadata": {},
     "output_type": "execute_result"
    }
   ],
   "source": [
    "model.fit(X_train, y_train)"
   ]
  },
  {
   "cell_type": "code",
   "execution_count": 220,
   "metadata": {},
   "outputs": [],
   "source": [
    "y_pred = model.predict(X_test)"
   ]
  },
  {
   "cell_type": "markdown",
   "metadata": {},
   "source": [
    "<h2>assess model performance"
   ]
  },
  {
   "cell_type": "markdown",
   "metadata": {},
   "source": [
    "<h3>confusion matrix"
   ]
  },
  {
   "cell_type": "code",
   "execution_count": 221,
   "metadata": {},
   "outputs": [
    {
     "data": {
      "text/plain": [
       "<matplotlib.axes._subplots.AxesSubplot at 0x125e06940>"
      ]
     },
     "execution_count": 221,
     "metadata": {},
     "output_type": "execute_result"
    },
    {
     "data": {
      "image/png": "[encoded data removed]",
      "text/plain": [
       "<Figure size 432x288 with 2 Axes>"
      ]
     },
     "metadata": {
      "needs_background": "light"
     },
     "output_type": "display_data"
    }
   ],
   "source": [
    "cf_matrix = confusion_matrix(y_test, y_pred)\n",
    "\n",
    "group_names = ['True Neg','False Pos','False Neg','True Pos']\n",
    "group_counts = ['{0:0.0f}'.format(value) for value in\n",
    "                cf_matrix.flatten()]\n",
    "group_percentages = ['{0:.2%}'.format(value) for value in\n",
    "                     cf_matrix.flatten()/np.sum(cf_matrix)]\n",
    "labels = [f'{v1}\\n{v2}\\n{v3}' for v1, v2, v3 in\n",
    "          zip(group_names,group_counts,group_percentages)]\n",
    "labels = np.asarray(labels).reshape(2,2)\n",
    "sns.heatmap(cf_matrix, annot=labels, fmt='', cmap='Purples')\n",
    "\n"
   ]
  },
  {
   "cell_type": "markdown",
   "metadata": {},
   "source": [
    "<h3>calculate all metrics"
   ]
  },
  {
   "cell_type": "code",
   "execution_count": 222,
   "metadata": {},
   "outputs": [
    {
     "name": "stdout",
     "output_type": "stream",
     "text": [
      "Recall/TPR:\t\t99.05% of individuals killed identified\n",
      "Specificity/TNR:\t91.86% of individuals not killed identified\n",
      "Precision:\t\t99.39% of individuals identified to be killed are actually killed\n",
      "False Positive Rate:\t8.14% of individuals not killed identified to be killed\n",
      "f-score:\t\t99.22% weighted average between precision and recall\n",
      "Accuracy:\t\t98.55% of individuals correctly classified\n"
     ]
    }
   ],
   "source": [
    "c_m_analysis(cf_matrix)"
   ]
  },
  {
   "cell_type": "markdown",
   "metadata": {},
   "source": [
    "<h3>ROC curve"
   ]
  },
  {
   "cell_type": "code",
   "execution_count": 223,
   "metadata": {},
   "outputs": [
    {
     "data": {
      "text/plain": [
       "<matplotlib.legend.Legend at 0x125f017f0>"
      ]
     },
     "execution_count": 223,
     "metadata": {},
     "output_type": "execute_result"
    },
    {
     "data": {
      "image/png": "[encoded data removed]",
      "text/plain": [
       "<Figure size 432x288 with 1 Axes>"
      ]
     },
     "metadata": {
      "needs_background": "light"
     },
     "output_type": "display_data"
    }
   ],
   "source": [
    "from sklearn.metrics import roc_curve, auc\n",
    "\n",
    "(fpr, tpr, thresholds) = roc_curve(y_test, y_pred)\n",
    "\n",
    "area = auc(fpr,tpr)\n",
    "plt.clf() #Clear the current figure\n",
    "plt.plot(fpr,tpr,label=\"Area under ROC Curve = %1.2f\"%area)\n",
    "\n",
    "plt.plot([0, 1], [0, 1], 'k')\n",
    "plt.xlim([0.0, 1.0])\n",
    "plt.ylim([0.0, 1.0])\n",
    "plt.xlabel('False Positive Rate')\n",
    "plt.ylabel('True Positive Rate')\n",
    "plt.title('ROC Curve')\n",
    "plt.legend(loc=\"lower right\")\n"
   ]
  },
  {
   "cell_type": "markdown",
   "metadata": {},
   "source": [
    "<h3>precision-recall curve</h3>\n",
    "<br><b>more useful in the context of our project than ROC curve bc we are not interested in the skill of the model in identifying '0'!\n",
    "\n"
   ]
  },
  {
   "cell_type": "code",
   "execution_count": 224,
   "metadata": {},
   "outputs": [
    {
     "data": {
      "text/plain": [
       "Text(0.5, 1.0, 'Precision-Recall Curve: Average Precision=99.33%')"
      ]
     },
     "execution_count": 224,
     "metadata": {},
     "output_type": "execute_result"
    },
    {
     "data": {
      "image/png": "[encoded data removed]",
      "text/plain": [
       "<Figure size 432x288 with 1 Axes>"
      ]
     },
     "metadata": {
      "needs_background": "light"
     },
     "output_type": "display_data"
    }
   ],
   "source": [
    "import matplotlib.pyplot as plt\n",
    "from sklearn.metrics import precision_recall_curve\n",
    "from sklearn.metrics import average_precision_score\n",
    "\n",
    "precision, recall, thresholds = precision_recall_curve(y_test, y_pred)\n",
    "average_precision = average_precision_score(y_test, y_pred)\n",
    "\n",
    "step_kwargs = ({'step' : 'post'})\n",
    "\n",
    "plt.step(recall, precision, color='b', alpha=0.2, where='post')\n",
    "plt.fill_between(recall, precision, alpha=0.2, color='b', **step_kwargs)\n",
    "\n",
    "plt.xlabel('Recall')\n",
    "plt.ylabel('Precision')\n",
    "plt.ylim([0.0, 1.05])\n",
    "plt.xlim([0.0, 1.0])\n",
    "plt.title(f'Precision-Recall Curve: Average Precision={average_precision*100:.2f}%')\n"
   ]
  },
  {
   "cell_type": "code",
   "execution_count": null,
   "metadata": {},
   "outputs": [],
   "source": []
  }
 ],
 "metadata": {
  "kernelspec": {
   "display_name": "Python 3",
   "language": "python",
   "name": "python3"
  },
  "language_info": {
   "codemirror_mode": {
    "name": "ipython",
    "version": 3
   },
   "file_extension": ".py",
   "mimetype": "text/x-python",
   "name": "python",
   "nbconvert_exporter": "python",
   "pygments_lexer": "ipython3",
   "version": "3.8.8"
  }
 },
 "nbformat": 4,
 "nbformat_minor": 4
}
